{
 "cells": [
  {
   "cell_type": "markdown",
   "id": "6723a56f",
   "metadata": {},
   "source": [
    "# 적합도 검정"
   ]
  },
  {
   "cell_type": "markdown",
   "id": "2e4fd4af",
   "metadata": {},
   "source": [
    "## Run test\n",
    "관측치가 무작위로 추출되었는지를 판단\n",
    "- 귀무가설: 무작위로 추출되었다.\n",
    "- 대립가설: 무작위가 아니다. (p-value < 0.05)"
   ]
  },
  {
   "cell_type": "code",
   "execution_count": 2,
   "id": "e48b25fc",
   "metadata": {},
   "outputs": [],
   "source": [
    "from statsmodels.sandbox.stats.runs import Runs\n",
    "import numpy as np"
   ]
  },
  {
   "cell_type": "code",
   "execution_count": 3,
   "id": "86eb436b",
   "metadata": {},
   "outputs": [
    {
     "name": "stdout",
     "output_type": "stream",
     "text": [
      "-1.8277470669267506\n",
      "0.06758752074917526\n"
     ]
    }
   ],
   "source": [
    "x = [1,0,0,0,0,1,1,1,1,0,0,0,0,1,1,0,0,0,0,0]\n",
    "x = np.array(x)\n",
    "\n",
    "statistic, pvalue = Runs(x).runs_test()\n",
    "print(statistic)\n",
    "print(pvalue)"
   ]
  },
  {
   "cell_type": "markdown",
   "id": "4c1a7519",
   "metadata": {},
   "source": [
    "결과해석\n",
    "- 유의수준 0.05라면, p-value > 0.05 이므로 귀무가설 채택. 즉, 무작위로 추출되었다.\n",
    "- 유의수준 0.1이라면, p-value < 0.1 이므로 귀무가설 기각. 즉, 무작위로 추출되지 않았다."
   ]
  },
  {
   "cell_type": "markdown",
   "id": "6a37b3c1",
   "metadata": {},
   "source": [
    "## Kolmogorov-Smirnov test\n",
    "관측치가 가정한 분포와 적합한지 검정.\n",
    "\n",
    "ex) 가정한 분포가 정규분포라면\n",
    "- 귀무가설: 관측치의 분포는 정규분포이다.\n",
    "- 대립가설: 관측치의 분포는 정규분포가 아니다."
   ]
  },
  {
   "cell_type": "code",
   "execution_count": 4,
   "id": "b7dd6d0d",
   "metadata": {},
   "outputs": [
    {
     "name": "stderr",
     "output_type": "stream",
     "text": [
      "/home/jmhwang/miniconda3/envs/adp/lib/python3.7/site-packages/statsmodels/stats/_lilliefors.py:272: FutureWarning: The default pvalmethod will change from \"approx\" to \"table\" after 0.11. The \"table\" method uses values from a very large simulation and is more accurate.  Explicitly set this parameter to \"approx\" or \"table\" to silence this warning\n",
      "  warnings.warn(msg, FutureWarning)\n"
     ]
    },
    {
     "data": {
      "text/plain": [
       "(0.16508249090030575, 0.007697422359967707)"
      ]
     },
     "execution_count": 4,
     "metadata": {},
     "output_type": "execute_result"
    }
   ],
   "source": [
    "from statsmodels.stats.diagnostic import kstest_normal\n",
    "import numpy as np \n",
    "\n",
    "x = [88, 75, 79, 84, 68, 51, 70, 75, 88, 90, 92, 88, 63, 72, 94, 80, 78, 98, 81, 67, 85, 87, 79, 81, 85, 48, 79, 86, 53, 100, \n",
    "     87, 80, 80, 32, 60, 75, 62, 82, 40, 57]\n",
    "x = np.array(x)\n",
    "\n",
    "# dist: norm or exp\n",
    "kstest_normal(x, dist='norm')"
   ]
  },
  {
   "cell_type": "markdown",
   "id": "7969612c",
   "metadata": {},
   "source": [
    "결과해석\n",
    "\n",
    "- 유의수준이 0.05일때, p-value < 0.05이므로 귀무가설 기각. 즉, 관측치는 정규분포를 따르지 않는다."
   ]
  },
  {
   "cell_type": "markdown",
   "id": "fddd3f48",
   "metadata": {},
   "source": [
    "# 동질성 검정"
   ]
  },
  {
   "cell_type": "markdown",
   "id": "7374ca4e",
   "metadata": {},
   "source": [
    "## Wilcoxon signed ranks test\n",
    "paired sample t-test에서 n < 30일 경우에 사용\n",
    "\n",
    "ex) 기존 물류 알고리즘 보다 개선되었다고 알려진 새로운 물류 경로 알고리즘을 도입해 배송시간을 단축하고자 한다.\n",
    "    - 귀무가설: 기존과 신규의 배송시간 평균 차이는 없다.\n",
    "    - 대립가설: 기존과 신규의 배송시간 평균 차이가 있다."
   ]
  },
  {
   "cell_type": "code",
   "execution_count": 18,
   "id": "f05aa792",
   "metadata": {},
   "outputs": [],
   "source": [
    "from scipy.stats import wilcoxon"
   ]
  },
  {
   "cell_type": "code",
   "execution_count": 19,
   "id": "9dc895ed",
   "metadata": {},
   "outputs": [
    {
     "data": {
      "text/plain": [
       "WilcoxonResult(statistic=22.0, pvalue=0.5745648243125437)"
      ]
     },
     "execution_count": 19,
     "metadata": {},
     "output_type": "execute_result"
    }
   ],
   "source": [
    "x = [10, 30, 9, 21, 35, 12, 17, 14, 15, 16]\n",
    "y = [8, 27, 16, 25, 30, 13, 11, 21, 13, 34]\n",
    "\n",
    "wilcoxon(x, y)"
   ]
  },
  {
   "cell_type": "markdown",
   "id": "0e536faa",
   "metadata": {},
   "source": [
    "특정 평균을 검정하고 싶으면 아래처럼 사용"
   ]
  },
  {
   "cell_type": "code",
   "execution_count": 23,
   "id": "1e62b539",
   "metadata": {},
   "outputs": [],
   "source": [
    "# wilcoxon(data - mu, alternative=\"...\")"
   ]
  },
  {
   "cell_type": "markdown",
   "id": "17f25761",
   "metadata": {},
   "source": [
    "결과해석\n",
    "- 유의수준 0.05일때, p-value > 0.05 이므로 귀무가설 채택. 즉, 새로운 알고리즘의 배송시간과 차이가 없다."
   ]
  },
  {
   "cell_type": "markdown",
   "id": "bd112339",
   "metadata": {},
   "source": [
    "## Mann-Whitney U test\n",
    "- 2개의 독립된 집단간의 특정 값의 평균 비교\n",
    "- 2개의 독립된 집단이 정규분포를 따르지 않을 때 사용한다.\n",
    "\n",
    "ex) 반도체 회사V에서는 공장A와 공장B에서 반도체를 생산하고 있다. 이 때, 2개의 공장의 생산 효율에 차이가 있는지를 확인하고 싶다.\n",
    "    - 귀무가설: 두 공장의 생산효율의 차이가 없다.\n",
    "    - 대립가설: 두 공장의 생산효율의 차이가 있다. (다르다. 그러나 어느 공장이 더 낫다는 검정으로 알 수 없음)"
   ]
  },
  {
   "cell_type": "code",
   "execution_count": 7,
   "id": "b6a78d97",
   "metadata": {},
   "outputs": [],
   "source": [
    "from scipy.stats import mannwhitneyu\n",
    "import pandas as pd"
   ]
  },
  {
   "cell_type": "code",
   "execution_count": 8,
   "id": "52c80f55",
   "metadata": {},
   "outputs": [],
   "source": [
    "x = [12, 11, 13, 14, 15]\n",
    "y = [16, 15, 17, 19, 20]"
   ]
  },
  {
   "cell_type": "code",
   "execution_count": 9,
   "id": "c238607d",
   "metadata": {},
   "outputs": [
    {
     "data": {
      "text/plain": [
       "MannwhitneyuResult(statistic=0.5, pvalue=0.007985348176890053)"
      ]
     },
     "execution_count": 9,
     "metadata": {},
     "output_type": "execute_result"
    }
   ],
   "source": [
    "mannwhitneyu(x, y)"
   ]
  },
  {
   "cell_type": "markdown",
   "id": "8793a315",
   "metadata": {},
   "source": [
    "결과해석\n",
    "\n",
    "- 유의수준 0.05일때, pvalue < 0.05 이므로 귀무가설 기각. 즉, 차이가 있다."
   ]
  },
  {
   "cell_type": "code",
   "execution_count": 10,
   "id": "8b5fc0ee",
   "metadata": {},
   "outputs": [
    {
     "name": "stdout",
     "output_type": "stream",
     "text": [
      "       생산량  생산량 순위\n",
      "공장이름              \n",
      "A     13.0     7.9\n",
      "B     17.4     3.1\n"
     ]
    }
   ],
   "source": [
    "xy = pd.DataFrame(x+y, columns=['생산량'])\n",
    "xy['공장이름'] = [\"A\", \"A\", \"A\", \"A\", \"A\", \"B\", \"B\", \"B\", \"B\", \"B\"]\n",
    "xy['생산량 순위'] = xy['생산량'].rank(ascending=False)\n",
    "print(xy.groupby('공장이름').mean())"
   ]
  },
  {
   "cell_type": "markdown",
   "id": "3c924736",
   "metadata": {},
   "source": [
    "결과해석\n",
    "- 실제 순위를 매겨보니 B가 낫다."
   ]
  },
  {
   "cell_type": "markdown",
   "id": "bf4e575a",
   "metadata": {},
   "source": [
    "## Kruskal-Wallis H test\n",
    "- 3개 이상의 독립 표본 집단간 분포가 동일한지 검정\n",
    "    - 귀무가설: 집단 간 분포는 동일하다.\n",
    "    - 대립가설: 집단 간 분포는 동일하지 않다."
   ]
  },
  {
   "cell_type": "code",
   "execution_count": 11,
   "id": "13d3a396",
   "metadata": {},
   "outputs": [],
   "source": [
    "import pandas as pd\n",
    "from scipy.stats import kruskal\n",
    "\n",
    "a = [35, 41, 45, 42, 33, 36, 47, 45, 31, 32, 40, 44]\n",
    "b = [40, 38, 44, 48, 45, 46, 42, 39, 40, 41, 38, 47]\n",
    "c = [30, 34, 38, 39, 40, 41, 38, 37, 40, 41, 39, 38]"
   ]
  },
  {
   "cell_type": "code",
   "execution_count": 12,
   "id": "c6d4ecc1",
   "metadata": {},
   "outputs": [
    {
     "data": {
      "text/plain": [
       "KruskalResult(statistic=6.047476974964328, pvalue=0.04861911622342764)"
      ]
     },
     "execution_count": 12,
     "metadata": {},
     "output_type": "execute_result"
    }
   ],
   "source": [
    "kruskal(a, b, c)"
   ]
  },
  {
   "cell_type": "markdown",
   "id": "8f8b7f47",
   "metadata": {},
   "source": [
    "결과해석\n",
    "- 유의수준 0.05일 때, p-value < 0.05이므로 귀무가설을 기각할 수 있다. 따라서 3개의 집단의 분포는 동일하지 않다."
   ]
  },
  {
   "cell_type": "markdown",
   "id": "c70bbbf5",
   "metadata": {},
   "source": [
    "## Friedman test\n",
    "\n",
    "- 실험유형과 집단유형으로 구분된 여러 집단들의 서열정보를 사용하여 실험효과를 검증하는 방법\n",
    "\n",
    "ex)\n",
    "\n",
    "- A쇼핑 본사에서는 멤버십 VIP 고객들을 대상으로 새로운 혜택을 제공하고자 한다.<br>\n",
    "샘플증정, 포인트 추가, 무료배송, 할인쿠폰 등 4가지 혜택에 대한 5개 지역별 고객들에 대한 사전 선호도 조사를 실시하였다.\n",
    "    - 귀무가설: 혜택별 고객 선호도 평가에 차이는 없다.\n",
    "    - 대립가설: 혜텍별 고객 선호도 평가에 차이는 있다."
   ]
  },
  {
   "cell_type": "code",
   "execution_count": 13,
   "id": "2a745a45",
   "metadata": {},
   "outputs": [
    {
     "data": {
      "text/plain": [
       "FriedmanchisquareResult(statistic=6.359999999999999, pvalue=0.09535032301698126)"
      ]
     },
     "execution_count": 13,
     "metadata": {},
     "output_type": "execute_result"
    }
   ],
   "source": [
    "from scipy.stats import friedmanchisquare\n",
    "\n",
    "a = [1,2,1,1,2]\n",
    "b = [3,3,3,2,1]\n",
    "c = [2,4,4,4,3]\n",
    "d = [4,1,2,3,4]\n",
    "\n",
    "friedmanchisquare(a, b, c, d)"
   ]
  },
  {
   "cell_type": "markdown",
   "id": "9494abb6",
   "metadata": {},
   "source": [
    "결과해석\n",
    "- 유의수준 0.05일때, p-value > 0.05 이므로 귀무가설 채택. 즉 혜택별 고객 선호도 평가에 차이가 없다."
   ]
  },
  {
   "cell_type": "markdown",
   "id": "70d1c1d0",
   "metadata": {},
   "source": [
    "# 상관성 검정"
   ]
  },
  {
   "cell_type": "markdown",
   "id": "c001a3ba",
   "metadata": {},
   "source": [
    "### 스피어만 서열상관분석"
   ]
  },
  {
   "cell_type": "code",
   "execution_count": 16,
   "id": "9468b84a",
   "metadata": {},
   "outputs": [],
   "source": [
    "# import scipy.stats\n",
    "# scipy.stats.spearmanr(x, y).correlation"
   ]
  },
  {
   "cell_type": "markdown",
   "id": "49a1c97e",
   "metadata": {},
   "source": [
    "### 피어슨 서열상관분석"
   ]
  },
  {
   "cell_type": "code",
   "execution_count": 17,
   "id": "e29f309e",
   "metadata": {},
   "outputs": [],
   "source": [
    "# import scipy.stats\n",
    "# scipy.stats.pearsonr(x, y)"
   ]
  },
  {
   "cell_type": "markdown",
   "id": "4d5e1fd8",
   "metadata": {},
   "source": [
    "### 정준상관분석 (x)"
   ]
  },
  {
   "cell_type": "markdown",
   "id": "1aae5f10",
   "metadata": {},
   "source": [
    "### Kendall rank correlation coefficient"
   ]
  },
  {
   "cell_type": "markdown",
   "id": "87055a59",
   "metadata": {},
   "source": [
    "- 귀무가설: H홈쇼핑의 의류브랜드 가격 서열과 판매량 서열은 연관성이 없다.\n",
    "- 연구가설: H홈쇼핑의 의류브랜드 가격 서열과 판매량 서열은 연관성이 있다."
   ]
  },
  {
   "cell_type": "code",
   "execution_count": 15,
   "id": "b99d7242",
   "metadata": {},
   "outputs": [
    {
     "data": {
      "text/plain": [
       "KendalltauResult(correlation=0.39999999999999997, pvalue=0.48333333333333334)"
      ]
     },
     "execution_count": 15,
     "metadata": {},
     "output_type": "execute_result"
    }
   ],
   "source": [
    "from scipy.stats import kendalltau\n",
    "\n",
    "x = [5, 2, 4, 1, 3]\n",
    "y = [4, 1, 3, 2, 5]\n",
    "\n",
    "kendalltau(x, y)"
   ]
  },
  {
   "cell_type": "markdown",
   "id": "5d283ae6",
   "metadata": {},
   "source": [
    "결과해석\n",
    "- 유의수준 0.05일떄, p-value > 0.05 이므로 귀무가설을 채택할 수 있다. 따라서 서로 연관성이 없다고 해석할 수 있다.\n",
    "- 즉, 판매량 저조의 문제점을 다른 곳에서 찾아야한다."
   ]
  },
  {
   "cell_type": "code",
   "execution_count": null,
   "id": "afc115eb",
   "metadata": {},
   "outputs": [],
   "source": []
  }
 ],
 "metadata": {
  "hide_input": false,
  "kernelspec": {
   "display_name": "Python 3 (ipykernel)",
   "language": "python",
   "name": "python3"
  },
  "language_info": {
   "codemirror_mode": {
    "name": "ipython",
    "version": 3
   },
   "file_extension": ".py",
   "mimetype": "text/x-python",
   "name": "python",
   "nbconvert_exporter": "python",
   "pygments_lexer": "ipython3",
   "version": "3.7.11"
  }
 },
 "nbformat": 4,
 "nbformat_minor": 5
}
