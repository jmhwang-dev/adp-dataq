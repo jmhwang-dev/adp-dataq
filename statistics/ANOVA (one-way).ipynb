{
 "cells": [
  {
   "cell_type": "markdown",
   "id": "245cdade",
   "metadata": {},
   "source": [
    "# ANOVA\n",
    "### 집단이 3개 이상일 때, 집단 간 평균 차이가 있는지 검정\n",
    "\n",
    "- factor: 요인. 집단을 구별하는 변수. ex) 성별, 국가\n",
    "- level: 요인의 수준(집단). 각 집단을 의미. ex) factor가 성별이었다면, level은 남, 여"
   ]
  },
  {
   "cell_type": "markdown",
   "id": "c125b636",
   "metadata": {},
   "source": [
    "# One-way ANOVA\n",
    "### 요인이 1개면서 수준이 3개 이상인 분산분석. (집단을 구별하는 변수가 1개)\n",
    "유의수준(알파)이 0.05일 때,\n",
    "\n",
    "- 귀무가설: 모든 집단의 평균은 동일하다. 평균 차이가 없다.\n",
    "    - if p-value > 0.05, 통계적으로 의미 없음\n",
    "\n",
    "\n",
    "- 대립가설: 적어도 한 집단의 평균이 다른 집단들의 평균과 다르다.\n",
    "    - if p-value < 0.05, 통계적으로 유의미함"
   ]
  },
  {
   "cell_type": "markdown",
   "id": "e70b7d02",
   "metadata": {},
   "source": [
    "## 가정\n",
    "- 독립성: 자료의 추출은 독립적으로 이루어짐\n",
    "- 정규성: 자료의 모집단의 분포는 정규분포\n",
    "- 등분산성: 모든 모집단의 모분산은 동일"
   ]
  },
  {
   "cell_type": "markdown",
   "id": "d7ceabd3",
   "metadata": {},
   "source": [
    "#### 데이터 준비"
   ]
  },
  {
   "cell_type": "code",
   "execution_count": 1,
   "id": "45cb798b",
   "metadata": {},
   "outputs": [],
   "source": [
    "import pandas as pd\n",
    "import matplotlib.pyplot as plt\n",
    "import seaborn as sns"
   ]
  },
  {
   "cell_type": "code",
   "execution_count": 2,
   "id": "6f983f46",
   "metadata": {},
   "outputs": [
    {
     "data": {
      "text/html": [
       "<div>\n",
       "<style scoped>\n",
       "    .dataframe tbody tr th:only-of-type {\n",
       "        vertical-align: middle;\n",
       "    }\n",
       "\n",
       "    .dataframe tbody tr th {\n",
       "        vertical-align: top;\n",
       "    }\n",
       "\n",
       "    .dataframe thead th {\n",
       "        text-align: right;\n",
       "    }\n",
       "</style>\n",
       "<table border=\"1\" class=\"dataframe\">\n",
       "  <thead>\n",
       "    <tr style=\"text-align: right;\">\n",
       "      <th></th>\n",
       "      <th>A</th>\n",
       "      <th>B</th>\n",
       "      <th>C</th>\n",
       "      <th>D</th>\n",
       "    </tr>\n",
       "  </thead>\n",
       "  <tbody>\n",
       "    <tr>\n",
       "      <th>0</th>\n",
       "      <td>25</td>\n",
       "      <td>45</td>\n",
       "      <td>30</td>\n",
       "      <td>54</td>\n",
       "    </tr>\n",
       "    <tr>\n",
       "      <th>1</th>\n",
       "      <td>30</td>\n",
       "      <td>55</td>\n",
       "      <td>29</td>\n",
       "      <td>60</td>\n",
       "    </tr>\n",
       "    <tr>\n",
       "      <th>2</th>\n",
       "      <td>28</td>\n",
       "      <td>29</td>\n",
       "      <td>33</td>\n",
       "      <td>51</td>\n",
       "    </tr>\n",
       "    <tr>\n",
       "      <th>3</th>\n",
       "      <td>36</td>\n",
       "      <td>56</td>\n",
       "      <td>37</td>\n",
       "      <td>62</td>\n",
       "    </tr>\n",
       "    <tr>\n",
       "      <th>4</th>\n",
       "      <td>29</td>\n",
       "      <td>40</td>\n",
       "      <td>27</td>\n",
       "      <td>73</td>\n",
       "    </tr>\n",
       "  </tbody>\n",
       "</table>\n",
       "</div>"
      ],
      "text/plain": [
       "    A   B   C   D\n",
       "0  25  45  30  54\n",
       "1  30  55  29  60\n",
       "2  28  29  33  51\n",
       "3  36  56  37  62\n",
       "4  29  40  27  73"
      ]
     },
     "execution_count": 2,
     "metadata": {},
     "output_type": "execute_result"
    }
   ],
   "source": [
    "df = pd.read_csv('./onewayanova.txt', sep='\\t')\n",
    "df"
   ]
  },
  {
   "cell_type": "code",
   "execution_count": 3,
   "id": "9a2e1e85",
   "metadata": {},
   "outputs": [
    {
     "data": {
      "text/html": [
       "<div>\n",
       "<style scoped>\n",
       "    .dataframe tbody tr th:only-of-type {\n",
       "        vertical-align: middle;\n",
       "    }\n",
       "\n",
       "    .dataframe tbody tr th {\n",
       "        vertical-align: top;\n",
       "    }\n",
       "\n",
       "    .dataframe thead th {\n",
       "        text-align: right;\n",
       "    }\n",
       "</style>\n",
       "<table border=\"1\" class=\"dataframe\">\n",
       "  <thead>\n",
       "    <tr style=\"text-align: right;\">\n",
       "      <th></th>\n",
       "      <th>treatments</th>\n",
       "      <th>value</th>\n",
       "    </tr>\n",
       "  </thead>\n",
       "  <tbody>\n",
       "    <tr>\n",
       "      <th>0</th>\n",
       "      <td>A</td>\n",
       "      <td>25</td>\n",
       "    </tr>\n",
       "    <tr>\n",
       "      <th>1</th>\n",
       "      <td>A</td>\n",
       "      <td>30</td>\n",
       "    </tr>\n",
       "    <tr>\n",
       "      <th>2</th>\n",
       "      <td>A</td>\n",
       "      <td>28</td>\n",
       "    </tr>\n",
       "    <tr>\n",
       "      <th>3</th>\n",
       "      <td>A</td>\n",
       "      <td>36</td>\n",
       "    </tr>\n",
       "    <tr>\n",
       "      <th>4</th>\n",
       "      <td>A</td>\n",
       "      <td>29</td>\n",
       "    </tr>\n",
       "  </tbody>\n",
       "</table>\n",
       "</div>"
      ],
      "text/plain": [
       "  treatments  value\n",
       "0          A     25\n",
       "1          A     30\n",
       "2          A     28\n",
       "3          A     36\n",
       "4          A     29"
      ]
     },
     "execution_count": 3,
     "metadata": {},
     "output_type": "execute_result"
    }
   ],
   "source": [
    "df_melt = pd.melt(df.reset_index(), id_vars=['index'], value_vars=['A', 'B', 'C', 'D'])\n",
    "df_melt.rename(columns={'variable':'treatments'}, inplace=True)\n",
    "df_melt.drop(columns=['index'], inplace=True)\n",
    "df_melt.head()"
   ]
  },
  {
   "cell_type": "markdown",
   "id": "4cf3f6a8",
   "metadata": {},
   "source": [
    "### 집단간 샘플 개수가 같은지 확인"
   ]
  },
  {
   "cell_type": "code",
   "execution_count": 4,
   "id": "6c0a0940",
   "metadata": {},
   "outputs": [
    {
     "data": {
      "text/html": [
       "<div>\n",
       "<style scoped>\n",
       "    .dataframe tbody tr th:only-of-type {\n",
       "        vertical-align: middle;\n",
       "    }\n",
       "\n",
       "    .dataframe tbody tr th {\n",
       "        vertical-align: top;\n",
       "    }\n",
       "\n",
       "    .dataframe thead th {\n",
       "        text-align: right;\n",
       "    }\n",
       "</style>\n",
       "<table border=\"1\" class=\"dataframe\">\n",
       "  <thead>\n",
       "    <tr style=\"text-align: right;\">\n",
       "      <th></th>\n",
       "      <th>value</th>\n",
       "    </tr>\n",
       "    <tr>\n",
       "      <th>treatments</th>\n",
       "      <th></th>\n",
       "    </tr>\n",
       "  </thead>\n",
       "  <tbody>\n",
       "    <tr>\n",
       "      <th>A</th>\n",
       "      <td>5</td>\n",
       "    </tr>\n",
       "    <tr>\n",
       "      <th>B</th>\n",
       "      <td>5</td>\n",
       "    </tr>\n",
       "    <tr>\n",
       "      <th>C</th>\n",
       "      <td>5</td>\n",
       "    </tr>\n",
       "    <tr>\n",
       "      <th>D</th>\n",
       "      <td>5</td>\n",
       "    </tr>\n",
       "  </tbody>\n",
       "</table>\n",
       "</div>"
      ],
      "text/plain": [
       "            value\n",
       "treatments       \n",
       "A               5\n",
       "B               5\n",
       "C               5\n",
       "D               5"
      ]
     },
     "execution_count": 4,
     "metadata": {},
     "output_type": "execute_result"
    }
   ],
   "source": [
    "df_melt.groupby('treatments').agg(len)"
   ]
  },
  {
   "cell_type": "markdown",
   "id": "a8b1f94a",
   "metadata": {},
   "source": [
    "### 1. 정규성 확인\n",
    "- Sahpiro test: if p-value > alpha, 정규성 만족(정규분포 따름)\n",
    "- Q-Q plot으로 확인"
   ]
  },
  {
   "cell_type": "code",
   "execution_count": 5,
   "id": "57026d06",
   "metadata": {},
   "outputs": [],
   "source": [
    "import scipy.stats"
   ]
  },
  {
   "cell_type": "code",
   "execution_count": 6,
   "id": "5245d443",
   "metadata": {},
   "outputs": [
    {
     "name": "stdout",
     "output_type": "stream",
     "text": [
      "Normality of group A -> statistics: 0.93, p-value: 0.61\n",
      "Normality of group B -> statistics: 0.93, p-value: 0.57\n",
      "Normality of group C -> statistics: 0.95, p-value: 0.76\n",
      "Normality of group D -> statistics: 0.94, p-value: 0.70\n"
     ]
    }
   ],
   "source": [
    "for _tr in df_melt.treatments.unique():\n",
    "    # stat: 검정통계치\n",
    "    stat, p = scipy.stats.shapiro(df_melt['value'][df_melt['treatments']==_tr])\n",
    "    print(\"Normality of group {0} -> statistics: {1:.2f}, p-value: {2:.2f}\".format(_tr, stat, p))"
   ]
  },
  {
   "cell_type": "code",
   "execution_count": 7,
   "id": "8b439689",
   "metadata": {},
   "outputs": [],
   "source": [
    "# ax = sns.boxplot(x='treatments', y='value', data=df_melt, color='green')\n",
    "# ax = sns.swarmplot(x='treatments', y='value', data=df_melt, color='red')\n",
    "# plt.show()"
   ]
  },
  {
   "cell_type": "markdown",
   "id": "4bc94e5f",
   "metadata": {},
   "source": [
    "### 2. 독립성 확인\n",
    "- random sampling인지 확인"
   ]
  },
  {
   "cell_type": "markdown",
   "id": "0b09973d",
   "metadata": {},
   "source": [
    "### 3. 등분산성 확인\n",
    "- Levene test: if p-value > 0.05, 집단의 분산이 모두 같다. 즉, 등분산성 만족\n",
    "- box test"
   ]
  },
  {
   "cell_type": "code",
   "execution_count": 8,
   "id": "1c4ad4a7",
   "metadata": {},
   "outputs": [
    {
     "data": {
      "text/plain": [
       "LeveneResult(statistic=1.9219593192195938, pvalue=0.16673281219949276)"
      ]
     },
     "execution_count": 8,
     "metadata": {},
     "output_type": "execute_result"
    }
   ],
   "source": [
    "scipy.stats.levene(\n",
    "    df_melt['value'][df_melt['treatments']=='A'],\n",
    "    df_melt['value'][df_melt['treatments']=='B'],\n",
    "    df_melt['value'][df_melt['treatments']=='C'],\n",
    "    df_melt['value'][df_melt['treatments']=='D'] )"
   ]
  },
  {
   "cell_type": "code",
   "execution_count": 9,
   "id": "4e2789eb",
   "metadata": {},
   "outputs": [
    {
     "data": {
      "text/plain": [
       "BartlettResult(statistic=5.687843565012841, pvalue=0.1278253399753447)"
      ]
     },
     "execution_count": 9,
     "metadata": {},
     "output_type": "execute_result"
    }
   ],
   "source": [
    "scipy.stats.bartlett(\n",
    "    df_melt['value'][df_melt['treatments']=='A'],\n",
    "    df_melt['value'][df_melt['treatments']=='B'],\n",
    "    df_melt['value'][df_melt['treatments']=='C'],\n",
    "    df_melt['value'][df_melt['treatments']=='D'] )"
   ]
  },
  {
   "cell_type": "markdown",
   "id": "146af5df",
   "metadata": {},
   "source": [
    "## one-way anova 첫번째 방법"
   ]
  },
  {
   "cell_type": "code",
   "execution_count": 10,
   "id": "7d990a85",
   "metadata": {},
   "outputs": [],
   "source": [
    "from scipy.stats import stats"
   ]
  },
  {
   "cell_type": "code",
   "execution_count": 11,
   "id": "86f6f784",
   "metadata": {},
   "outputs": [
    {
     "name": "stdout",
     "output_type": "stream",
     "text": [
      "17.492810457516338 2.639241146210922e-05\n"
     ]
    }
   ],
   "source": [
    "fvalue, pvalue = stats.f_oneway(df['A'], df['B'], df['C'], df['D'])\n",
    "print(fvalue, pvalue)"
   ]
  },
  {
   "cell_type": "markdown",
   "id": "2b419402",
   "metadata": {},
   "source": [
    "## one-way anova 두번째 방법"
   ]
  },
  {
   "cell_type": "code",
   "execution_count": 20,
   "id": "d71e1a2a",
   "metadata": {},
   "outputs": [],
   "source": [
    "from statsmodels.formula.api import ols\n",
    "from statsmodels.stats.anova import anova_lm"
   ]
  },
  {
   "cell_type": "code",
   "execution_count": 21,
   "id": "f47422ac",
   "metadata": {},
   "outputs": [],
   "source": [
    "model = ols('value ~ C(treatments)', df_melt).fit()"
   ]
  },
  {
   "cell_type": "code",
   "execution_count": 22,
   "id": "1fc663bc",
   "metadata": {},
   "outputs": [
    {
     "data": {
      "text/html": [
       "<div>\n",
       "<style scoped>\n",
       "    .dataframe tbody tr th:only-of-type {\n",
       "        vertical-align: middle;\n",
       "    }\n",
       "\n",
       "    .dataframe tbody tr th {\n",
       "        vertical-align: top;\n",
       "    }\n",
       "\n",
       "    .dataframe thead th {\n",
       "        text-align: right;\n",
       "    }\n",
       "</style>\n",
       "<table border=\"1\" class=\"dataframe\">\n",
       "  <thead>\n",
       "    <tr style=\"text-align: right;\">\n",
       "      <th></th>\n",
       "      <th>df</th>\n",
       "      <th>sum_sq</th>\n",
       "      <th>mean_sq</th>\n",
       "      <th>F</th>\n",
       "      <th>PR(&gt;F)</th>\n",
       "    </tr>\n",
       "  </thead>\n",
       "  <tbody>\n",
       "    <tr>\n",
       "      <th>C(treatments)</th>\n",
       "      <td>3.0</td>\n",
       "      <td>3010.95</td>\n",
       "      <td>1003.650</td>\n",
       "      <td>17.49281</td>\n",
       "      <td>0.000026</td>\n",
       "    </tr>\n",
       "    <tr>\n",
       "      <th>Residual</th>\n",
       "      <td>16.0</td>\n",
       "      <td>918.00</td>\n",
       "      <td>57.375</td>\n",
       "      <td>NaN</td>\n",
       "      <td>NaN</td>\n",
       "    </tr>\n",
       "  </tbody>\n",
       "</table>\n",
       "</div>"
      ],
      "text/plain": [
       "                 df   sum_sq   mean_sq         F    PR(>F)\n",
       "C(treatments)   3.0  3010.95  1003.650  17.49281  0.000026\n",
       "Residual       16.0   918.00    57.375       NaN       NaN"
      ]
     },
     "execution_count": 22,
     "metadata": {},
     "output_type": "execute_result"
    }
   ],
   "source": [
    "anova_lm(model)"
   ]
  },
  {
   "cell_type": "markdown",
   "id": "90e5cf22",
   "metadata": {},
   "source": [
    "## 사후분석(post-hocs)\n",
    "- 대립가설을 채택할 때(평균이 차이가 있는 집단이 적어도 한 개 존재), 구체적으로 어떤 수준(level)들이 차이가 있는지 확인\n",
    "- 반드시 동질성이 확보되어야함(Levene 방법 사용)"
   ]
  },
  {
   "cell_type": "markdown",
   "id": "64c44f6d",
   "metadata": {},
   "source": [
    "## Family-wise Error Rate\n",
    "- 여러 개의 가설 검정을 할 때 적어도 하나의 가설에서 1종 오류가 발생할 가능성\n",
    "- 가설검정을 많이 할 수록 FWER은 증가\n",
    "- 유의수준 5%에서 가설 검정을 1번 할 때, 1종 오류가 발생하지 않을 확률은 95%. FWER = 100% - 95% = 5%\n",
    "- 가설검정을 2번했을 때, 2번 모두 1종 오류가 발생하지 않을 확률은 95% × 95% = 90.25%. FWER = 9.75%\n",
    "- 가설검정을 3번했을 때, 3번 모두 1종 오류가 발생하지 않을 확률은 95% × 95% × 95% = 85.74%. FWER = 14.26%"
   ]
  },
  {
   "cell_type": "markdown",
   "id": "be974c07",
   "metadata": {},
   "source": [
    "### 방법\n",
    "\n",
    "#### 1. 집단별 표본의 수와 분산이 동일한 경우\n",
    "    - ** Tukey's HSD (Honestly Significant Difference) - 비교 대상 표본수가 동일하여야함. 표본수가 동일한 경우 가장 많이 사용되는 사후검정 기법\n",
    "    \n",
    "    \n",
    "#### 2. 집단별 표본의 수는 다르지만 분산의 동일한 경우\n",
    "    - Scheffe - 지나치게 보수적으로 엄격하게 사후검정 수행. 통계적으로 유의미한 차이를 도출하기 쉽지 않으므로 잘 사용하지 않으나 2번에서는 추천\n",
    "    - Fisher's LSD (Least Significant Difference) - 오차비율을 통제하지 않아 상대적으로 엄격하지 않은 기준으로 사후 검정(1종 오류 발생확률을 통제하지 않음)\n",
    "    \n",
    "    \n",
    "#### 3. 집단별 표본의 수도 다르고 분산의 동질성도 확보되지 않은 경우\n",
    "    - Games-Howell\n",
    "\n",
    "\n",
    "---\n",
    "\n",
    "** Bonferroni's correction\n",
    "- 모수, 비모수에 모두 적용 가능\n",
    "- 엄격함의 정보로 봤을 때, Tukey < Bonferroni < Scheffe\n",
    "- 그러나 비교대상이 많을수록 검정력이 약해짐\n"
   ]
  },
  {
   "cell_type": "markdown",
   "id": "2ce4a976",
   "metadata": {},
   "source": [
    "### Bonferroni correction"
   ]
  },
  {
   "cell_type": "code",
   "execution_count": 15,
   "id": "2b04e5ee",
   "metadata": {},
   "outputs": [],
   "source": [
    "from statsmodels.sandbox.stats.multicomp import MultiComparison\n",
    "import scipy.stats"
   ]
  },
  {
   "cell_type": "code",
   "execution_count": 16,
   "id": "0d1319b9",
   "metadata": {},
   "outputs": [],
   "source": [
    "comp = MultiComparison(df_melt.value, df_melt.treatments)"
   ]
  },
  {
   "cell_type": "markdown",
   "id": "673e6e61",
   "metadata": {},
   "source": [
    "- if p-value < 0.05, 두 수준(집단)의 평균 차이만 유의함\n",
    "- reject column으로 확인"
   ]
  },
  {
   "cell_type": "code",
   "execution_count": 17,
   "id": "b8935e38",
   "metadata": {},
   "outputs": [
    {
     "data": {
      "text/html": [
       "<table class=\"simpletable\">\n",
       "<caption>Test Multiple Comparison ttest_ind \n",
       "FWER=0.05 method=bonf\n",
       "alphacSidak=0.01, alphacBonf=0.008</caption>\n",
       "<tr>\n",
       "  <th>group1</th> <th>group2</th>  <th>stat</th>    <th>pval</th>  <th>pval_corr</th> <th>reject</th>\n",
       "</tr>\n",
       "<tr>\n",
       "     <td>A</td>      <td>B</td>   <td>-2.8918</td> <td>0.0201</td>  <td>0.1209</td>    <td>False</td>\n",
       "</tr>\n",
       "<tr>\n",
       "     <td>A</td>      <td>C</td>   <td>-0.6375</td> <td>0.5416</td>    <td>1.0</td>     <td>False</td>\n",
       "</tr>\n",
       "<tr>\n",
       "     <td>A</td>      <td>D</td>   <td>-7.2136</td> <td>0.0001</td>  <td>0.0005</td>    <td>True</td> \n",
       "</tr>\n",
       "<tr>\n",
       "     <td>B</td>      <td>C</td>   <td>2.6015</td>  <td>0.0315</td>  <td>0.1893</td>    <td>False</td>\n",
       "</tr>\n",
       "<tr>\n",
       "     <td>B</td>      <td>D</td>   <td>-2.3837</td> <td>0.0443</td>  <td>0.2658</td>    <td>False</td>\n",
       "</tr>\n",
       "<tr>\n",
       "     <td>C</td>      <td>D</td>   <td>-6.8767</td> <td>0.0001</td>  <td>0.0008</td>    <td>True</td> \n",
       "</tr>\n",
       "</table>"
      ],
      "text/plain": [
       "<class 'statsmodels.iolib.table.SimpleTable'>"
      ]
     },
     "execution_count": 17,
     "metadata": {},
     "output_type": "execute_result"
    }
   ],
   "source": [
    "result = comp.allpairtest(scipy.stats.ttest_ind, method='bonf')\n",
    "result[0]"
   ]
  },
  {
   "cell_type": "markdown",
   "id": "78b94385",
   "metadata": {},
   "source": [
    "### 집단별 표본의 수와 분산이 동일한 경우 - Tukey's HSD"
   ]
  },
  {
   "cell_type": "code",
   "execution_count": 18,
   "id": "2d3ae4fe",
   "metadata": {},
   "outputs": [],
   "source": [
    "from statsmodels.stats.multicomp import pairwise_tukeyhsd"
   ]
  },
  {
   "cell_type": "code",
   "execution_count": 19,
   "id": "9bb2126e",
   "metadata": {},
   "outputs": [
    {
     "data": {
      "text/html": [
       "<table class=\"simpletable\">\n",
       "<caption>Multiple Comparison of Means - Tukey HSD, FWER=0.05</caption>\n",
       "<tr>\n",
       "  <th>group1</th> <th>group2</th> <th>meandiff</th>  <th>p-adj</th>   <th>lower</th>   <th>upper</th>  <th>reject</th>\n",
       "</tr>\n",
       "<tr>\n",
       "     <td>A</td>      <td>B</td>     <td>15.4</td>   <td>0.0251</td>  <td>1.6929</td>  <td>29.1071</td>  <td>True</td> \n",
       "</tr>\n",
       "<tr>\n",
       "     <td>A</td>      <td>C</td>      <td>1.6</td>     <td>0.9</td>  <td>-12.1071</td> <td>15.3071</td>  <td>False</td>\n",
       "</tr>\n",
       "<tr>\n",
       "     <td>A</td>      <td>D</td>     <td>30.4</td>    <td>0.001</td>  <td>16.6929</td> <td>44.1071</td>  <td>True</td> \n",
       "</tr>\n",
       "<tr>\n",
       "     <td>B</td>      <td>C</td>     <td>-13.8</td>  <td>0.0482</td> <td>-27.5071</td> <td>-0.0929</td>  <td>True</td> \n",
       "</tr>\n",
       "<tr>\n",
       "     <td>B</td>      <td>D</td>     <td>15.0</td>   <td>0.0296</td>  <td>1.2929</td>  <td>28.7071</td>  <td>True</td> \n",
       "</tr>\n",
       "<tr>\n",
       "     <td>C</td>      <td>D</td>     <td>28.8</td>    <td>0.001</td>  <td>15.0929</td> <td>42.5071</td>  <td>True</td> \n",
       "</tr>\n",
       "</table>"
      ],
      "text/plain": [
       "<class 'statsmodels.iolib.table.SimpleTable'>"
      ]
     },
     "execution_count": 19,
     "metadata": {},
     "output_type": "execute_result"
    }
   ],
   "source": [
    "hsd = pairwise_tukeyhsd(df_melt['value'], df_melt['treatments'], alpha=0.05)\n",
    "hsd.summary()"
   ]
  },
  {
   "cell_type": "markdown",
   "id": "89fd6bb1",
   "metadata": {},
   "source": [
    "### Tukey's HSD 두번째 방법"
   ]
  },
  {
   "cell_type": "code",
   "execution_count": 20,
   "id": "b0063f1d",
   "metadata": {},
   "outputs": [
    {
     "ename": "NameError",
     "evalue": "name 'sp' is not defined",
     "output_type": "error",
     "traceback": [
      "\u001b[0;31m---------------------------------------------------------------------------\u001b[0m",
      "\u001b[0;31mNameError\u001b[0m                                 Traceback (most recent call last)",
      "\u001b[0;32m/tmp/ipykernel_9399/1684733223.py\u001b[0m in \u001b[0;36m<module>\u001b[0;34m\u001b[0m\n\u001b[0;32m----> 1\u001b[0;31m \u001b[0msp\u001b[0m\u001b[0;34m.\u001b[0m\u001b[0mposthoc_tukey_hsd\u001b[0m\u001b[0;34m(\u001b[0m\u001b[0mdf_melt\u001b[0m\u001b[0;34m.\u001b[0m\u001b[0mvalue\u001b[0m\u001b[0;34m,\u001b[0m \u001b[0mdf_melt\u001b[0m\u001b[0;34m.\u001b[0m\u001b[0mtreatments\u001b[0m\u001b[0;34m)\u001b[0m\u001b[0;34m\u001b[0m\u001b[0;34m\u001b[0m\u001b[0m\n\u001b[0m",
      "\u001b[0;31mNameError\u001b[0m: name 'sp' is not defined"
     ]
    }
   ],
   "source": [
    "sp.posthoc_tukey_hsd(df_melt.value, df_melt.treatments)"
   ]
  },
  {
   "cell_type": "markdown",
   "id": "1ebdbe98",
   "metadata": {},
   "source": [
    "### 집단별 표본의 수는 다르지만 분산의 동일한 경우 - Scheffe"
   ]
  },
  {
   "cell_type": "code",
   "execution_count": null,
   "id": "071eddd4",
   "metadata": {},
   "outputs": [],
   "source": [
    "import scikit_posthocs as sp"
   ]
  },
  {
   "cell_type": "code",
   "execution_count": null,
   "id": "12eae756",
   "metadata": {},
   "outputs": [],
   "source": [
    "# 각각의 값이 집단간 p-value\n",
    "# p-value < 0.05인 집단은 평균의 차이가 있음이 통계적으로 유의함\n",
    "sp.posthoc_scheffe(df_melt, val_col='value', group_col='treatments')"
   ]
  }
 ],
 "metadata": {
  "hide_input": false,
  "kernelspec": {
   "display_name": "Python 3 (ipykernel)",
   "language": "python",
   "name": "python3"
  },
  "language_info": {
   "codemirror_mode": {
    "name": "ipython",
    "version": 3
   },
   "file_extension": ".py",
   "mimetype": "text/x-python",
   "name": "python",
   "nbconvert_exporter": "python",
   "pygments_lexer": "ipython3",
   "version": "3.7.11"
  }
 },
 "nbformat": 4,
 "nbformat_minor": 5
}
