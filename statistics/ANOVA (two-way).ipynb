{
 "cells": [
  {
   "cell_type": "markdown",
   "id": "b13d828c",
   "metadata": {},
   "source": [
    "# two-way ANOVA\n",
    "- 집단을 구분하는 변수(=요인)이 2개일 때, 요인 간 상호작용을 파악하기 위함. (요인의 개수가 2개(=열이 2개)면 two-way anova인듯?)\n",
    "- 요인이 n개면 n-way ANOVA"
   ]
  },
  {
   "cell_type": "markdown",
   "id": "c0ae00b8",
   "metadata": {},
   "source": [
    "# one-way ANOVA 비교\n",
    "- 상호작용 효과를 분석하는게 중요\n",
    "- 상호작용 효과가 유의미한 경우(p-value < 0.05) 단순효과분석 결과를 상세하게 첨부"
   ]
  },
  {
   "cell_type": "markdown",
   "id": "a614bedc",
   "metadata": {},
   "source": [
    "# 주요 용어\n",
    "- 주 효과: 다른 요인(집단구분 변수)과 상관없이, 한 요인의 수준(집단)에 따라 효과가 유의미하게 달라질 때, '주효과'가 있다고 함\n",
    "- 상호작용 효과: 한 요인의 수준에 따른 효과의 차이가 또 다른 요인의 수준에 따라달라질 때, '요인들 간 상호작용(효과)'이 존재한다고 함"
   ]
  },
  {
   "cell_type": "markdown",
   "id": "748cfd42",
   "metadata": {},
   "source": [
    "# 균형설계 vs 비균형설계\n",
    "\n",
    "- 균형설계: 각 집단/조건별 표본수가 동일한 경우\n",
    "- 비균형설계: 각 집단/조건별 표본수가 동일하지 않은 경우\n",
    "- 균형설계와 비균형설계에 따라 계산 방법이 다름"
   ]
  },
  {
   "cell_type": "markdown",
   "id": "73e0efa4",
   "metadata": {},
   "source": [
    "## 데이터 준비\n",
    "\n",
    "- 독립변수 - poison, treat\n",
    "- 종속변수 - time (연속형)"
   ]
  },
  {
   "cell_type": "code",
   "execution_count": 1,
   "id": "ea054c56",
   "metadata": {},
   "outputs": [],
   "source": [
    "import pandas as pd"
   ]
  },
  {
   "cell_type": "code",
   "execution_count": 2,
   "id": "9f3501c8",
   "metadata": {},
   "outputs": [
    {
     "name": "stdout",
     "output_type": "stream",
     "text": [
      "   time  poison treat\n",
      "1  0.31       1     A\n",
      "2  0.45       1     A\n",
      "3  0.46       1     A\n",
      "4  0.43       1     A\n",
      "5  0.36       2     A\n",
      "\n",
      "poison의 레벨: [1 2 3]\n",
      "treat의 레벨: ['A' 'B' 'C' 'D']\n"
     ]
    }
   ],
   "source": [
    "df = pd.read_csv(\"./poison.csv\", index_col=0)\n",
    "print(df.head(), end='\\n\\n')\n",
    "print(\"poison의 레벨: {}\\ntreat의 레벨: {}\".format(df.poison.unique(), df.treat.unique()))"
   ]
  },
  {
   "cell_type": "markdown",
   "id": "0e1aa28d",
   "metadata": {},
   "source": [
    "## 균형설계 확인\n",
    "- 요인1(poison)의 샘플 수가 모두 동일한가?\n",
    "- 요인2(treat)의 샘플 수가 모두 동일한가?\n",
    "- 요인1과 요인2에 대해서 종속변수의 샘플수가 모두 동일한가?"
   ]
  },
  {
   "cell_type": "code",
   "execution_count": 3,
   "id": "c2c990b9",
   "metadata": {},
   "outputs": [
    {
     "data": {
      "text/html": [
       "<div>\n",
       "<style scoped>\n",
       "    .dataframe tbody tr th:only-of-type {\n",
       "        vertical-align: middle;\n",
       "    }\n",
       "\n",
       "    .dataframe tbody tr th {\n",
       "        vertical-align: top;\n",
       "    }\n",
       "\n",
       "    .dataframe thead th {\n",
       "        text-align: right;\n",
       "    }\n",
       "</style>\n",
       "<table border=\"1\" class=\"dataframe\">\n",
       "  <thead>\n",
       "    <tr style=\"text-align: right;\">\n",
       "      <th></th>\n",
       "      <th>time</th>\n",
       "      <th>treat</th>\n",
       "    </tr>\n",
       "    <tr>\n",
       "      <th>poison</th>\n",
       "      <th></th>\n",
       "      <th></th>\n",
       "    </tr>\n",
       "  </thead>\n",
       "  <tbody>\n",
       "    <tr>\n",
       "      <th>1</th>\n",
       "      <td>16</td>\n",
       "      <td>16</td>\n",
       "    </tr>\n",
       "    <tr>\n",
       "      <th>2</th>\n",
       "      <td>16</td>\n",
       "      <td>16</td>\n",
       "    </tr>\n",
       "    <tr>\n",
       "      <th>3</th>\n",
       "      <td>16</td>\n",
       "      <td>16</td>\n",
       "    </tr>\n",
       "  </tbody>\n",
       "</table>\n",
       "</div>"
      ],
      "text/plain": [
       "        time  treat\n",
       "poison             \n",
       "1         16     16\n",
       "2         16     16\n",
       "3         16     16"
      ]
     },
     "execution_count": 3,
     "metadata": {},
     "output_type": "execute_result"
    }
   ],
   "source": [
    "# poision 요인으로 구분한 집단별 표본 수가 모두 동일한가?\n",
    "df.groupby('poison').agg(len)"
   ]
  },
  {
   "cell_type": "code",
   "execution_count": 4,
   "id": "6d00fb7e",
   "metadata": {},
   "outputs": [
    {
     "data": {
      "text/html": [
       "<div>\n",
       "<style scoped>\n",
       "    .dataframe tbody tr th:only-of-type {\n",
       "        vertical-align: middle;\n",
       "    }\n",
       "\n",
       "    .dataframe tbody tr th {\n",
       "        vertical-align: top;\n",
       "    }\n",
       "\n",
       "    .dataframe thead th {\n",
       "        text-align: right;\n",
       "    }\n",
       "</style>\n",
       "<table border=\"1\" class=\"dataframe\">\n",
       "  <thead>\n",
       "    <tr style=\"text-align: right;\">\n",
       "      <th></th>\n",
       "      <th>time</th>\n",
       "      <th>poison</th>\n",
       "    </tr>\n",
       "    <tr>\n",
       "      <th>treat</th>\n",
       "      <th></th>\n",
       "      <th></th>\n",
       "    </tr>\n",
       "  </thead>\n",
       "  <tbody>\n",
       "    <tr>\n",
       "      <th>A</th>\n",
       "      <td>12</td>\n",
       "      <td>12</td>\n",
       "    </tr>\n",
       "    <tr>\n",
       "      <th>B</th>\n",
       "      <td>12</td>\n",
       "      <td>12</td>\n",
       "    </tr>\n",
       "    <tr>\n",
       "      <th>C</th>\n",
       "      <td>12</td>\n",
       "      <td>12</td>\n",
       "    </tr>\n",
       "    <tr>\n",
       "      <th>D</th>\n",
       "      <td>12</td>\n",
       "      <td>12</td>\n",
       "    </tr>\n",
       "  </tbody>\n",
       "</table>\n",
       "</div>"
      ],
      "text/plain": [
       "       time  poison\n",
       "treat              \n",
       "A        12      12\n",
       "B        12      12\n",
       "C        12      12\n",
       "D        12      12"
      ]
     },
     "execution_count": 4,
     "metadata": {},
     "output_type": "execute_result"
    }
   ],
   "source": [
    "# treat 요인으로 구분한 집단별 표본 수가 모두 동일한가?\n",
    "df.groupby('treat').agg(len)"
   ]
  },
  {
   "cell_type": "code",
   "execution_count": 5,
   "id": "6cd375e5",
   "metadata": {},
   "outputs": [
    {
     "data": {
      "text/html": [
       "<div>\n",
       "<style scoped>\n",
       "    .dataframe tbody tr th:only-of-type {\n",
       "        vertical-align: middle;\n",
       "    }\n",
       "\n",
       "    .dataframe tbody tr th {\n",
       "        vertical-align: top;\n",
       "    }\n",
       "\n",
       "    .dataframe thead th {\n",
       "        text-align: right;\n",
       "    }\n",
       "</style>\n",
       "<table border=\"1\" class=\"dataframe\">\n",
       "  <thead>\n",
       "    <tr style=\"text-align: right;\">\n",
       "      <th></th>\n",
       "      <th></th>\n",
       "      <th>time</th>\n",
       "    </tr>\n",
       "    <tr>\n",
       "      <th>treat</th>\n",
       "      <th>poison</th>\n",
       "      <th></th>\n",
       "    </tr>\n",
       "  </thead>\n",
       "  <tbody>\n",
       "    <tr>\n",
       "      <th rowspan=\"3\" valign=\"top\">A</th>\n",
       "      <th>1</th>\n",
       "      <td>4</td>\n",
       "    </tr>\n",
       "    <tr>\n",
       "      <th>2</th>\n",
       "      <td>4</td>\n",
       "    </tr>\n",
       "    <tr>\n",
       "      <th>3</th>\n",
       "      <td>4</td>\n",
       "    </tr>\n",
       "    <tr>\n",
       "      <th rowspan=\"3\" valign=\"top\">B</th>\n",
       "      <th>1</th>\n",
       "      <td>4</td>\n",
       "    </tr>\n",
       "    <tr>\n",
       "      <th>2</th>\n",
       "      <td>4</td>\n",
       "    </tr>\n",
       "    <tr>\n",
       "      <th>3</th>\n",
       "      <td>4</td>\n",
       "    </tr>\n",
       "    <tr>\n",
       "      <th rowspan=\"3\" valign=\"top\">C</th>\n",
       "      <th>1</th>\n",
       "      <td>4</td>\n",
       "    </tr>\n",
       "    <tr>\n",
       "      <th>2</th>\n",
       "      <td>4</td>\n",
       "    </tr>\n",
       "    <tr>\n",
       "      <th>3</th>\n",
       "      <td>4</td>\n",
       "    </tr>\n",
       "    <tr>\n",
       "      <th rowspan=\"3\" valign=\"top\">D</th>\n",
       "      <th>1</th>\n",
       "      <td>4</td>\n",
       "    </tr>\n",
       "    <tr>\n",
       "      <th>2</th>\n",
       "      <td>4</td>\n",
       "    </tr>\n",
       "    <tr>\n",
       "      <th>3</th>\n",
       "      <td>4</td>\n",
       "    </tr>\n",
       "  </tbody>\n",
       "</table>\n",
       "</div>"
      ],
      "text/plain": [
       "              time\n",
       "treat poison      \n",
       "A     1          4\n",
       "      2          4\n",
       "      3          4\n",
       "B     1          4\n",
       "      2          4\n",
       "      3          4\n",
       "C     1          4\n",
       "      2          4\n",
       "      3          4\n",
       "D     1          4\n",
       "      2          4\n",
       "      3          4"
      ]
     },
     "execution_count": 5,
     "metadata": {},
     "output_type": "execute_result"
    }
   ],
   "source": [
    "# poison, treat 요인으로 구분한 각 집단별 표본수가 모두 동일한가?\n",
    "df.groupby(['treat', \"poison\"]).agg(len)"
   ]
  },
  {
   "cell_type": "markdown",
   "id": "65667b2d",
   "metadata": {},
   "source": [
    "# two-way anova 실시"
   ]
  },
  {
   "cell_type": "code",
   "execution_count": 6,
   "id": "5b191785",
   "metadata": {},
   "outputs": [],
   "source": [
    "from statsmodels.formula.api import ols\n",
    "from statsmodels.stats.anova import anova_lm"
   ]
  },
  {
   "cell_type": "code",
   "execution_count": 7,
   "id": "0b83d95e",
   "metadata": {},
   "outputs": [
    {
     "data": {
      "text/html": [
       "<div>\n",
       "<style scoped>\n",
       "    .dataframe tbody tr th:only-of-type {\n",
       "        vertical-align: middle;\n",
       "    }\n",
       "\n",
       "    .dataframe tbody tr th {\n",
       "        vertical-align: top;\n",
       "    }\n",
       "\n",
       "    .dataframe thead th {\n",
       "        text-align: right;\n",
       "    }\n",
       "</style>\n",
       "<table border=\"1\" class=\"dataframe\">\n",
       "  <thead>\n",
       "    <tr style=\"text-align: right;\">\n",
       "      <th></th>\n",
       "      <th>df</th>\n",
       "      <th>sum_sq</th>\n",
       "      <th>mean_sq</th>\n",
       "      <th>F</th>\n",
       "      <th>PR(&gt;F)</th>\n",
       "    </tr>\n",
       "  </thead>\n",
       "  <tbody>\n",
       "    <tr>\n",
       "      <th>C(poison)</th>\n",
       "      <td>2.0</td>\n",
       "      <td>1.033012</td>\n",
       "      <td>0.516506</td>\n",
       "      <td>23.221737</td>\n",
       "      <td>3.331440e-07</td>\n",
       "    </tr>\n",
       "    <tr>\n",
       "      <th>C(treat)</th>\n",
       "      <td>3.0</td>\n",
       "      <td>0.921206</td>\n",
       "      <td>0.307069</td>\n",
       "      <td>13.805582</td>\n",
       "      <td>3.777331e-06</td>\n",
       "    </tr>\n",
       "    <tr>\n",
       "      <th>C(poison):C(treat)</th>\n",
       "      <td>6.0</td>\n",
       "      <td>0.250138</td>\n",
       "      <td>0.041690</td>\n",
       "      <td>1.874333</td>\n",
       "      <td>1.122506e-01</td>\n",
       "    </tr>\n",
       "    <tr>\n",
       "      <th>Residual</th>\n",
       "      <td>36.0</td>\n",
       "      <td>0.800725</td>\n",
       "      <td>0.022242</td>\n",
       "      <td>NaN</td>\n",
       "      <td>NaN</td>\n",
       "    </tr>\n",
       "  </tbody>\n",
       "</table>\n",
       "</div>"
      ],
      "text/plain": [
       "                      df    sum_sq   mean_sq          F        PR(>F)\n",
       "C(poison)            2.0  1.033012  0.516506  23.221737  3.331440e-07\n",
       "C(treat)             3.0  0.921206  0.307069  13.805582  3.777331e-06\n",
       "C(poison):C(treat)   6.0  0.250138  0.041690   1.874333  1.122506e-01\n",
       "Residual            36.0  0.800725  0.022242        NaN           NaN"
      ]
     },
     "execution_count": 7,
     "metadata": {},
     "output_type": "execute_result"
    }
   ],
   "source": [
    "model = ols('time ~ C(poison) * C(treat)', df).fit()\n",
    "anova_lm(model)"
   ]
  },
  {
   "cell_type": "markdown",
   "id": "ccff463d",
   "metadata": {},
   "source": [
    "# 결과 해석"
   ]
  },
  {
   "cell_type": "markdown",
   "id": "3729837a",
   "metadata": {},
   "source": [
    "- poison: F(2, 36) = 23.222, p < 0.05로 유의미. 즉 poison의 수준에 따라 평균에 차이가 난다고 볼 수 있음\n",
    "- treat: F(3, 36) = 13.806, p < 0.05로 유의미. 즉 treat의 수준에 따라 평균에 차이가 난다고 볼 수 있음\n",
    "- poison:treat: F(6, 36) = 1.874, p > 0.05로 유의미하지 않음. 상호작용 효과는 발견하지 못함\n"
   ]
  },
  {
   "cell_type": "markdown",
   "id": "27861683",
   "metadata": {},
   "source": [
    "# 결과 보고 예시 - 상호작용이 유의미하지 않은 경우\n",
    "\n",
    "time에 대하여 poison과 treat를 요인으로 하는 이원분산분석을 실시한 결과,\n",
    "\n",
    "poison의 주효과는 유의미하였으며(F(2, 36) = 23.222, p < 0.05),\n",
    "\n",
    "treat의 주효과 또한 유의미하였으나(F(3, 36) = 13.806, p < 0.05), \n",
    "\n",
    "poison과 treat의 유의미한 상호작용효과는 발견할 수 없었다(F(6, 36) = 1.874, p > 0.05).\n"
   ]
  },
  {
   "cell_type": "markdown",
   "id": "39160d2a",
   "metadata": {},
   "source": [
    "---"
   ]
  },
  {
   "cell_type": "markdown",
   "id": "af650eac",
   "metadata": {},
   "source": [
    "# 비균형자료의 이원분산분석"
   ]
  },
  {
   "cell_type": "code",
   "execution_count": 34,
   "id": "df039894",
   "metadata": {},
   "outputs": [],
   "source": [
    "import pandas as pd\n",
    "dat = pd.read_csv('./poison.csv', index_col=0)"
   ]
  },
  {
   "cell_type": "code",
   "execution_count": 39,
   "id": "63d1d73b",
   "metadata": {},
   "outputs": [],
   "source": [
    "dat2 = dat.loc[1:,:]  # 데이터의 첫 행을 제거하여 비균형으로 만듬. 집단 별 표본수가 동일하지 않으므로 비균형설계자료"
   ]
  },
  {
   "cell_type": "code",
   "execution_count": 37,
   "id": "7443b600",
   "metadata": {},
   "outputs": [
    {
     "data": {
      "text/html": [
       "<div>\n",
       "<style scoped>\n",
       "    .dataframe tbody tr th:only-of-type {\n",
       "        vertical-align: middle;\n",
       "    }\n",
       "\n",
       "    .dataframe tbody tr th {\n",
       "        vertical-align: top;\n",
       "    }\n",
       "\n",
       "    .dataframe thead th {\n",
       "        text-align: right;\n",
       "    }\n",
       "</style>\n",
       "<table border=\"1\" class=\"dataframe\">\n",
       "  <thead>\n",
       "    <tr style=\"text-align: right;\">\n",
       "      <th></th>\n",
       "      <th>sum_sq</th>\n",
       "      <th>df</th>\n",
       "      <th>F</th>\n",
       "      <th>PR(&gt;F)</th>\n",
       "    </tr>\n",
       "  </thead>\n",
       "  <tbody>\n",
       "    <tr>\n",
       "      <th>Intercept</th>\n",
       "      <td>0.680625</td>\n",
       "      <td>1.0</td>\n",
       "      <td>30.600393</td>\n",
       "      <td>0.000003</td>\n",
       "    </tr>\n",
       "    <tr>\n",
       "      <th>C(poison)</th>\n",
       "      <td>0.082217</td>\n",
       "      <td>2.0</td>\n",
       "      <td>1.848200</td>\n",
       "      <td>0.172157</td>\n",
       "    </tr>\n",
       "    <tr>\n",
       "      <th>C(treat)</th>\n",
       "      <td>0.453950</td>\n",
       "      <td>3.0</td>\n",
       "      <td>6.803085</td>\n",
       "      <td>0.000947</td>\n",
       "    </tr>\n",
       "    <tr>\n",
       "      <th>C(poison):C(treat)</th>\n",
       "      <td>0.250137</td>\n",
       "      <td>6.0</td>\n",
       "      <td>1.874333</td>\n",
       "      <td>0.112251</td>\n",
       "    </tr>\n",
       "    <tr>\n",
       "      <th>Residual</th>\n",
       "      <td>0.800725</td>\n",
       "      <td>36.0</td>\n",
       "      <td>NaN</td>\n",
       "      <td>NaN</td>\n",
       "    </tr>\n",
       "  </tbody>\n",
       "</table>\n",
       "</div>"
      ],
      "text/plain": [
       "                      sum_sq    df          F    PR(>F)\n",
       "Intercept           0.680625   1.0  30.600393  0.000003\n",
       "C(poison)           0.082217   2.0   1.848200  0.172157\n",
       "C(treat)            0.453950   3.0   6.803085  0.000947\n",
       "C(poison):C(treat)  0.250137   6.0   1.874333  0.112251\n",
       "Residual            0.800725  36.0        NaN       NaN"
      ]
     },
     "execution_count": 37,
     "metadata": {},
     "output_type": "execute_result"
    }
   ],
   "source": [
    "from statsmodels.formula.api import ols\n",
    "from statsmodels.stats.anova import anova_lm\n",
    "\n",
    "model = ols('time ~ C(poison) * C(treat)', dat2).fit()\n",
    "anova_lm(model, typ=3)"
   ]
  },
  {
   "cell_type": "code",
   "execution_count": 42,
   "id": "f6cc2037",
   "metadata": {},
   "outputs": [
    {
     "data": {
      "text/html": [
       "<div>\n",
       "<style scoped>\n",
       "    .dataframe tbody tr th:only-of-type {\n",
       "        vertical-align: middle;\n",
       "    }\n",
       "\n",
       "    .dataframe tbody tr th {\n",
       "        vertical-align: top;\n",
       "    }\n",
       "\n",
       "    .dataframe thead th {\n",
       "        text-align: right;\n",
       "    }\n",
       "</style>\n",
       "<table border=\"1\" class=\"dataframe\">\n",
       "  <thead>\n",
       "    <tr style=\"text-align: right;\">\n",
       "      <th></th>\n",
       "      <th>sum_sq</th>\n",
       "      <th>df</th>\n",
       "      <th>F</th>\n",
       "      <th>PR(&gt;F)</th>\n",
       "    </tr>\n",
       "  </thead>\n",
       "  <tbody>\n",
       "    <tr>\n",
       "      <th>Intercept</th>\n",
       "      <td>0.680625</td>\n",
       "      <td>1.0</td>\n",
       "      <td>30.600393</td>\n",
       "      <td>0.000003</td>\n",
       "    </tr>\n",
       "    <tr>\n",
       "      <th>C(treat)</th>\n",
       "      <td>0.453950</td>\n",
       "      <td>3.0</td>\n",
       "      <td>6.803085</td>\n",
       "      <td>0.000947</td>\n",
       "    </tr>\n",
       "    <tr>\n",
       "      <th>C(poison)</th>\n",
       "      <td>0.082217</td>\n",
       "      <td>2.0</td>\n",
       "      <td>1.848200</td>\n",
       "      <td>0.172157</td>\n",
       "    </tr>\n",
       "    <tr>\n",
       "      <th>C(treat):C(poison)</th>\n",
       "      <td>0.250137</td>\n",
       "      <td>6.0</td>\n",
       "      <td>1.874333</td>\n",
       "      <td>0.112251</td>\n",
       "    </tr>\n",
       "    <tr>\n",
       "      <th>Residual</th>\n",
       "      <td>0.800725</td>\n",
       "      <td>36.0</td>\n",
       "      <td>NaN</td>\n",
       "      <td>NaN</td>\n",
       "    </tr>\n",
       "  </tbody>\n",
       "</table>\n",
       "</div>"
      ],
      "text/plain": [
       "                      sum_sq    df          F    PR(>F)\n",
       "Intercept           0.680625   1.0  30.600393  0.000003\n",
       "C(treat)            0.453950   3.0   6.803085  0.000947\n",
       "C(poison)           0.082217   2.0   1.848200  0.172157\n",
       "C(treat):C(poison)  0.250137   6.0   1.874333  0.112251\n",
       "Residual            0.800725  36.0        NaN       NaN"
      ]
     },
     "execution_count": 42,
     "metadata": {},
     "output_type": "execute_result"
    }
   ],
   "source": [
    "# 변수를 바꿔도 결과는 동일\n",
    "model = ols('time ~ C(treat) * C(poison)', dat2).fit()\n",
    "anova_lm(model, typ=3)"
   ]
  },
  {
   "cell_type": "markdown",
   "id": "68e799af",
   "metadata": {},
   "source": [
    "# 결과 해석\n",
    "- treat만 p < 0.05 이므로 통계적으로 유의미하다"
   ]
  },
  {
   "cell_type": "markdown",
   "id": "6856336f",
   "metadata": {},
   "source": [
    "# 결과 보고 예시 - 상호작용효과가 유의미한 경우\n",
    "\n",
    "poison과 treat의 유의미한 상호작용 효과에 대하여 단순효과분석을 실시한 결과,\n",
    "\n",
    "poison이 1인 집단에서는 treat의 단순 주효과는 유의미하였고(F(3,36) = 6.8031, p < 0.05), \n",
    "\n",
    "poison이 2인 집단도 treat의 단순 주효과는 유의미하였으나(F(3,36) = 10.0367, p < 0.05), \n",
    "\n",
    "poison이 3인 집단에서는 treat의 단순 주효과가 유의미하지 않았다(F(3,36) = 0.7145, p > 0.05)."
   ]
  },
  {
   "cell_type": "code",
   "execution_count": null,
   "id": "33d0fb3e",
   "metadata": {},
   "outputs": [],
   "source": []
  }
 ],
 "metadata": {
  "hide_input": false,
  "kernelspec": {
   "display_name": "Python 3 (ipykernel)",
   "language": "python",
   "name": "python3"
  },
  "language_info": {
   "codemirror_mode": {
    "name": "ipython",
    "version": 3
   },
   "file_extension": ".py",
   "mimetype": "text/x-python",
   "name": "python",
   "nbconvert_exporter": "python",
   "pygments_lexer": "ipython3",
   "version": "3.7.11"
  }
 },
 "nbformat": 4,
 "nbformat_minor": 5
}
