{
 "cells": [
  {
   "cell_type": "markdown",
   "id": "fec1d73f",
   "metadata": {},
   "source": [
    "# t-test\n",
    "- 모집단의 표준편차를 모르고 n <= 30 일 때,\n",
    "    - 표본의 표준편차를 이용해서 표본의 표준편차로 표준화를 하면 t 분포를 따름\n",
    "    - 표본에서 구한 분산(또는 표준편차)로 표준화를 하면 t-value 값이 되고, 이를 통해 검증하므로 t-test라고 함\n",
    "    \n",
    "# z-test\n",
    "- 모집단의 표준편차를 알 때 (n은 상관없음)\n",
    "- 모집단의 표준편차를 모르고 n > 30일 때,"
   ]
  },
  {
   "cell_type": "markdown",
   "id": "612c3d18",
   "metadata": {},
   "source": [
    "# Independent sample t-test\n",
    "\n",
    "### 독립적인 2개의 집단의 평균 차이가 있는지를 검정\n",
    "\n",
    "유의수준(알파)이 0.05일 때,\n",
    "\n",
    "1. 귀무가설: 두 모집단의 평균 차이는 없다.    \n",
    "    - if p-value > 0.05, 통계적으로 의미 없음\n",
    "    - 귀무가설 채택\n",
    "\n",
    "\n",
    "2. 대립가설: 두 모집단의 평균 차이는 있다.\n",
    "    - if p-value < 0.05, 통계적으로 유의미함\n",
    "    - 대립가설 채택"
   ]
  },
  {
   "cell_type": "code",
   "execution_count": 11,
   "id": "1a04f26a",
   "metadata": {},
   "outputs": [],
   "source": [
    "import pandas as pd\n",
    "import numpy as np"
   ]
  },
  {
   "cell_type": "code",
   "execution_count": 12,
   "id": "6aa1ac2f",
   "metadata": {},
   "outputs": [],
   "source": [
    "dat_M = [117, 108, 105, 89, 101, 93, 96, 108, 108, 94, 93, 112, 92, 91, 100, 96, 120, 86, 96, 95]\n",
    "dat_F = [121, 101, 102, 114, 103, 105, 101, 131, 96, 109, 109, 113, 115, 94, 108, 96, 110, 112, 120, 100]"
   ]
  },
  {
   "cell_type": "code",
   "execution_count": 13,
   "id": "186b3ce5",
   "metadata": {},
   "outputs": [],
   "source": [
    "import scipy.stats"
   ]
  },
  {
   "cell_type": "code",
   "execution_count": 14,
   "id": "8b409a0e",
   "metadata": {},
   "outputs": [
    {
     "data": {
      "text/plain": [
       "Ttest_indResult(statistic=-2.670573872669349, pvalue=0.01108318824471652)"
      ]
     },
     "execution_count": 14,
     "metadata": {},
     "output_type": "execute_result"
    }
   ],
   "source": [
    "scipy.stats.ttest_ind(dat_M, dat_F, equal_var=False)"
   ]
  },
  {
   "cell_type": "markdown",
   "id": "e6567bad",
   "metadata": {},
   "source": [
    "## t-test 결과 보고\n",
    "- 효과크기\n",
    ": 0.2정도면 작은편, 0.5면 중간, 0.8이면 큰편"
   ]
  },
  {
   "cell_type": "markdown",
   "id": "b7a0b3f7",
   "metadata": {},
   "source": [
    "#### Cohen's D"
   ]
  },
  {
   "cell_type": "code",
   "execution_count": 15,
   "id": "b9e3f138",
   "metadata": {},
   "outputs": [
    {
     "data": {
      "text/plain": [
       "-2.670573872669349"
      ]
     },
     "execution_count": 15,
     "metadata": {},
     "output_type": "execute_result"
    }
   ],
   "source": [
    "m = scipy.stats.ttest_ind(dat_M, dat_F, equal_var=False)\n",
    "m.statistic"
   ]
  },
  {
   "cell_type": "code",
   "execution_count": 16,
   "id": "ed0e56a5",
   "metadata": {},
   "outputs": [
    {
     "data": {
      "text/plain": [
       "0.4332242888591059"
      ]
     },
     "execution_count": 16,
     "metadata": {},
     "output_type": "execute_result"
    }
   ],
   "source": [
    "t = m.statistic\n",
    "df = len(dat_M) + len(dat_F) - 2\n",
    "\n",
    "abs(t) / np.sqrt(df)"
   ]
  },
  {
   "cell_type": "markdown",
   "id": "3f7d94fd",
   "metadata": {},
   "source": [
    "#### Pearson's R"
   ]
  },
  {
   "cell_type": "code",
   "execution_count": 17,
   "id": "b4fbe988",
   "metadata": {},
   "outputs": [
    {
     "data": {
      "text/plain": [
       "0.39752319599996255"
      ]
     },
     "execution_count": 17,
     "metadata": {},
     "output_type": "execute_result"
    }
   ],
   "source": [
    "t2 = t ** 2\n",
    "\n",
    "np.sqrt(t2 / (t2 + df))"
   ]
  },
  {
   "cell_type": "markdown",
   "id": "2100c607",
   "metadata": {},
   "source": [
    "# Paired t-test\n",
    "### 쌍으로 이루어진 집단의 평균 차이가 있는지를 통계적으로 검정. 두 집단의 자료의 개수가 동일해야함\n",
    "\n",
    "유의수준(알파)이 0.05일 때,\n",
    "\n",
    "1. 귀무가설: 두 모집단의 평균 차이는 없다.    \n",
    "    - if p-value > 0.05, 통계적으로 의미 없음\n",
    "    - 귀무가설 채택\n",
    "\n",
    "\n",
    "2. 대립가설: 두 모집단의 평균 차이는 있다.\n",
    "    - if p-value < 0.05, 통계적으로 유의미함\n",
    "    - 대립가설 채택"
   ]
  },
  {
   "cell_type": "code",
   "execution_count": 18,
   "id": "a585d245",
   "metadata": {},
   "outputs": [],
   "source": [
    "dat_M = [117, 108, 105, 89, 101, 93, 96, 108, 108, 94, 93, 112, 92, 91, 100, 96, 120, 86, 96, 95]\n",
    "dat_F = [121, 101, 102, 114, 103, 105, 101, 131, 96, 109, 109, 113, 115, 94, 108, 96, 110, 112, 120, 100]"
   ]
  },
  {
   "cell_type": "code",
   "execution_count": 19,
   "id": "5faa5300",
   "metadata": {},
   "outputs": [],
   "source": [
    "import scipy.stats"
   ]
  },
  {
   "cell_type": "code",
   "execution_count": 20,
   "id": "13e4bbcd",
   "metadata": {},
   "outputs": [
    {
     "data": {
      "text/plain": [
       "Ttest_relResult(statistic=-2.9868874599588247, pvalue=0.007578486289181322)"
      ]
     },
     "execution_count": 20,
     "metadata": {},
     "output_type": "execute_result"
    }
   ],
   "source": [
    "scipy.stats.ttest_rel(dat_M, dat_F)"
   ]
  }
 ],
 "metadata": {
  "hide_input": false,
  "kernelspec": {
   "display_name": "Python 3 (ipykernel)",
   "language": "python",
   "name": "python3"
  },
  "language_info": {
   "codemirror_mode": {
    "name": "ipython",
    "version": 3
   },
   "file_extension": ".py",
   "mimetype": "text/x-python",
   "name": "python",
   "nbconvert_exporter": "python",
   "pygments_lexer": "ipython3",
   "version": "3.7.11"
  }
 },
 "nbformat": 4,
 "nbformat_minor": 5
}
