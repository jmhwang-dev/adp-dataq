{
 "cells": [
  {
   "cell_type": "markdown",
   "id": "dc6ef91e",
   "metadata": {},
   "source": [
    "# 카이제곱 검정 (교차분석, 빈도분석)\n",
    "- 관찰된 빈도수의 기댓값과 얼마나 다른지 확인\n",
    "- 귀무가설: 분할표의 행과 열은 독립이다.\n",
    "- 연구가설: 분할표의 행과 열은 독립이 아니다."
   ]
  },
  {
   "cell_type": "code",
   "execution_count": 23,
   "id": "cb068a4f",
   "metadata": {},
   "outputs": [],
   "source": [
    "import pandas as pd"
   ]
  },
  {
   "cell_type": "code",
   "execution_count": 24,
   "id": "0ff1b1c7",
   "metadata": {},
   "outputs": [
    {
     "data": {
      "text/html": [
       "<div>\n",
       "<style scoped>\n",
       "    .dataframe tbody tr th:only-of-type {\n",
       "        vertical-align: middle;\n",
       "    }\n",
       "\n",
       "    .dataframe tbody tr th {\n",
       "        vertical-align: top;\n",
       "    }\n",
       "\n",
       "    .dataframe thead th {\n",
       "        text-align: right;\n",
       "    }\n",
       "</style>\n",
       "<table border=\"1\" class=\"dataframe\">\n",
       "  <thead>\n",
       "    <tr style=\"text-align: right;\">\n",
       "      <th></th>\n",
       "      <th>Wife</th>\n",
       "      <th>Alternating</th>\n",
       "      <th>Husband</th>\n",
       "      <th>Jointly</th>\n",
       "    </tr>\n",
       "  </thead>\n",
       "  <tbody>\n",
       "    <tr>\n",
       "      <th>Laundry</th>\n",
       "      <td>156</td>\n",
       "      <td>14</td>\n",
       "      <td>2</td>\n",
       "      <td>4</td>\n",
       "    </tr>\n",
       "    <tr>\n",
       "      <th>Main_meal</th>\n",
       "      <td>124</td>\n",
       "      <td>20</td>\n",
       "      <td>5</td>\n",
       "      <td>4</td>\n",
       "    </tr>\n",
       "    <tr>\n",
       "      <th>Dinner</th>\n",
       "      <td>77</td>\n",
       "      <td>11</td>\n",
       "      <td>7</td>\n",
       "      <td>13</td>\n",
       "    </tr>\n",
       "    <tr>\n",
       "      <th>Breakfeast</th>\n",
       "      <td>82</td>\n",
       "      <td>36</td>\n",
       "      <td>15</td>\n",
       "      <td>7</td>\n",
       "    </tr>\n",
       "    <tr>\n",
       "      <th>Tidying</th>\n",
       "      <td>53</td>\n",
       "      <td>11</td>\n",
       "      <td>1</td>\n",
       "      <td>57</td>\n",
       "    </tr>\n",
       "    <tr>\n",
       "      <th>Dishes</th>\n",
       "      <td>32</td>\n",
       "      <td>24</td>\n",
       "      <td>4</td>\n",
       "      <td>53</td>\n",
       "    </tr>\n",
       "    <tr>\n",
       "      <th>Shopping</th>\n",
       "      <td>33</td>\n",
       "      <td>23</td>\n",
       "      <td>9</td>\n",
       "      <td>55</td>\n",
       "    </tr>\n",
       "    <tr>\n",
       "      <th>Official</th>\n",
       "      <td>12</td>\n",
       "      <td>46</td>\n",
       "      <td>23</td>\n",
       "      <td>15</td>\n",
       "    </tr>\n",
       "    <tr>\n",
       "      <th>Driving</th>\n",
       "      <td>10</td>\n",
       "      <td>51</td>\n",
       "      <td>75</td>\n",
       "      <td>3</td>\n",
       "    </tr>\n",
       "    <tr>\n",
       "      <th>Finances</th>\n",
       "      <td>13</td>\n",
       "      <td>13</td>\n",
       "      <td>21</td>\n",
       "      <td>66</td>\n",
       "    </tr>\n",
       "    <tr>\n",
       "      <th>Insurance</th>\n",
       "      <td>8</td>\n",
       "      <td>1</td>\n",
       "      <td>53</td>\n",
       "      <td>77</td>\n",
       "    </tr>\n",
       "    <tr>\n",
       "      <th>Repairs</th>\n",
       "      <td>0</td>\n",
       "      <td>3</td>\n",
       "      <td>160</td>\n",
       "      <td>2</td>\n",
       "    </tr>\n",
       "    <tr>\n",
       "      <th>Holidays</th>\n",
       "      <td>0</td>\n",
       "      <td>1</td>\n",
       "      <td>6</td>\n",
       "      <td>153</td>\n",
       "    </tr>\n",
       "  </tbody>\n",
       "</table>\n",
       "</div>"
      ],
      "text/plain": [
       "            Wife  Alternating  Husband  Jointly\n",
       "Laundry      156           14        2        4\n",
       "Main_meal    124           20        5        4\n",
       "Dinner        77           11        7       13\n",
       "Breakfeast    82           36       15        7\n",
       "Tidying       53           11        1       57\n",
       "Dishes        32           24        4       53\n",
       "Shopping      33           23        9       55\n",
       "Official      12           46       23       15\n",
       "Driving       10           51       75        3\n",
       "Finances      13           13       21       66\n",
       "Insurance      8            1       53       77\n",
       "Repairs        0            3      160        2\n",
       "Holidays       0            1        6      153"
      ]
     },
     "execution_count": 24,
     "metadata": {},
     "output_type": "execute_result"
    }
   ],
   "source": [
    "data = pd.read_csv(\"./housetask.txt\", sep='\\t', index_col=0)\n",
    "data"
   ]
  },
  {
   "cell_type": "code",
   "execution_count": 25,
   "id": "78fd9715",
   "metadata": {},
   "outputs": [],
   "source": [
    "import scipy.stats"
   ]
  },
  {
   "cell_type": "code",
   "execution_count": 26,
   "id": "cc392bf1",
   "metadata": {},
   "outputs": [
    {
     "name": "stdout",
     "output_type": "stream",
     "text": [
      "test statistic: 1944.4561959955277\n",
      "p-value: 0.0\n",
      "degree of freedom: 36\n",
      "expected: [[60.55045872 25.63302752 38.44954128 51.36697248]\n",
      " [52.63761468 22.28325688 33.42488532 44.65424312]\n",
      " [37.1559633  15.7293578  23.5940367  31.5206422 ]\n",
      " [48.16513761 20.38990826 30.58486239 40.86009174]\n",
      " [41.97247706 17.76834862 26.65252294 35.60665138]\n",
      " [38.87614679 16.45756881 24.68635321 32.97993119]\n",
      " [41.28440367 17.47706422 26.21559633 35.02293578]\n",
      " [33.02752294 13.98165138 20.97247706 28.01834862]\n",
      " [47.82110092 20.24426606 30.36639908 40.56823394]\n",
      " [38.87614679 16.45756881 24.68635321 32.97993119]\n",
      " [47.82110092 20.24426606 30.36639908 40.56823394]\n",
      " [56.76605505 24.0309633  36.04644495 48.1565367 ]\n",
      " [55.04587156 23.30275229 34.95412844 46.69724771]]\n"
     ]
    }
   ],
   "source": [
    "chi2, pvalue, dof, expected = scipy.stats.chi2_contingency(data)\n",
    "print(\"test statistic:\", chi2)\n",
    "print(\"p-value:\", pvalue)\n",
    "print(\"degree of freedom:\", dof)\n",
    "print(\"expected:\", expected)"
   ]
  },
  {
   "cell_type": "markdown",
   "id": "7bcf3021",
   "metadata": {},
   "source": [
    "# 결과해석\n",
    "- p-value < 0.05이므로, 대립가설 채택\n",
    "- 즉, 집안일의 종류와 수행하는 사람은 독립이 아님"
   ]
  },
  {
   "cell_type": "markdown",
   "id": "4632f48b",
   "metadata": {},
   "source": [
    "# 피셔의 정확검정\n",
    "- 서로의 빈도 수 차이가 많이 나는 경우 사용하는 검정"
   ]
  },
  {
   "cell_type": "code",
   "execution_count": 37,
   "id": "05eecd6a",
   "metadata": {},
   "outputs": [],
   "source": [
    "import pandas as pd\n",
    "from scipy.stats import fisher_exact"
   ]
  },
  {
   "cell_type": "code",
   "execution_count": 38,
   "id": "b416afd7",
   "metadata": {},
   "outputs": [
    {
     "data": {
      "text/html": [
       "<div>\n",
       "<style scoped>\n",
       "    .dataframe tbody tr th:only-of-type {\n",
       "        vertical-align: middle;\n",
       "    }\n",
       "\n",
       "    .dataframe tbody tr th {\n",
       "        vertical-align: top;\n",
       "    }\n",
       "\n",
       "    .dataframe thead th {\n",
       "        text-align: right;\n",
       "    }\n",
       "</style>\n",
       "<table border=\"1\" class=\"dataframe\">\n",
       "  <thead>\n",
       "    <tr style=\"text-align: right;\">\n",
       "      <th></th>\n",
       "      <th>가짜 약</th>\n",
       "      <th>진짜 약</th>\n",
       "    </tr>\n",
       "  </thead>\n",
       "  <tbody>\n",
       "    <tr>\n",
       "      <th>효과있음</th>\n",
       "      <td>1</td>\n",
       "      <td>6</td>\n",
       "    </tr>\n",
       "    <tr>\n",
       "      <th>효과없음</th>\n",
       "      <td>5</td>\n",
       "      <td>2</td>\n",
       "    </tr>\n",
       "  </tbody>\n",
       "</table>\n",
       "</div>"
      ],
      "text/plain": [
       "      가짜 약  진짜 약\n",
       "효과있음     1     6\n",
       "효과없음     5     2"
      ]
     },
     "execution_count": 38,
     "metadata": {},
     "output_type": "execute_result"
    }
   ],
   "source": [
    "data2 = pd.DataFrame([[1, 6], [5, 2]])\n",
    "data2.columns = ['가짜 약','진짜 약']\n",
    "data2.index = ['효과있음', '효과없음']\n",
    "data2"
   ]
  },
  {
   "cell_type": "markdown",
   "id": "7f0bd61c",
   "metadata": {},
   "source": [
    "### p-value > 0.05 이므로 약의 유효성은 없다"
   ]
  },
  {
   "cell_type": "code",
   "execution_count": 40,
   "id": "69b21ac0",
   "metadata": {},
   "outputs": [
    {
     "name": "stdout",
     "output_type": "stream",
     "text": [
      "oddratio: 0.06666666666666667 \n",
      "p-value: 0.10256410256410275\n"
     ]
    }
   ],
   "source": [
    "oddsratio, pvalue = fisher_exact(data2)\n",
    "print(\"oddratio:\", oddsratio, \"\\n\"\n",
    "        \"p-value:\", pvalue )"
   ]
  },
  {
   "cell_type": "markdown",
   "id": "681fa74d",
   "metadata": {},
   "source": [
    "# 자유도에 따른 chi-squre 그래프"
   ]
  },
  {
   "cell_type": "code",
   "execution_count": 29,
   "id": "44201dc3",
   "metadata": {},
   "outputs": [],
   "source": [
    "import numpy as np\n",
    "from scipy.stats import chi2\n",
    "import matplotlib.pyplot as plt"
   ]
  },
  {
   "cell_type": "code",
   "execution_count": 30,
   "id": "7bc16b9c",
   "metadata": {},
   "outputs": [
    {
     "data": {
      "image/png": "[encoded data removed]",
      "text/plain": [
       "<Figure size 720x432 with 1 Axes>"
      ]
     },
     "metadata": {
      "needs_background": "light"
     },
     "output_type": "display_data"
    }
   ],
   "source": [
    "x = np.linspace(0, 20, 50)\n",
    "plt.figure(figsize=(10, 6))\n",
    "\n",
    "for dof in range(1, 5):\n",
    "    y = chi2(dof).pdf(x)\n",
    "    plt.plot(x, y, label=\"dof {}\".format(dof))\n",
    "plt.legend()\n",
    "plt.show()"
   ]
  }
 ],
 "metadata": {
  "kernelspec": {
   "display_name": "Python 3 (ipykernel)",
   "language": "python",
   "name": "python3"
  },
  "language_info": {
   "codemirror_mode": {
    "name": "ipython",
    "version": 3
   },
   "file_extension": ".py",
   "mimetype": "text/x-python",
   "name": "python",
   "nbconvert_exporter": "python",
   "pygments_lexer": "ipython3",
   "version": "3.7.11"
  }
 },
 "nbformat": 4,
 "nbformat_minor": 5
}
