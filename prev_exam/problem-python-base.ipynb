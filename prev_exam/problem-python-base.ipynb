{
 "cells": [
  {
   "cell_type": "code",
   "execution_count": 1,
   "id": "02773c2d",
   "metadata": {
    "_cell_guid": "b1076dfc-b9ad-4769-8c92-a6c4dae69d19",
    "_uuid": "8f2839f25d086af736a60e9eeb907d3b93b6e0e5",
    "execution": {
     "iopub.execute_input": "2022-03-08T10:56:54.191541Z",
     "iopub.status.busy": "2022-03-08T10:56:54.190345Z",
     "iopub.status.idle": "2022-03-08T10:56:54.208395Z",
     "shell.execute_reply": "2022-03-08T10:56:54.209081Z"
    },
    "papermill": {
     "duration": 0.048484,
     "end_time": "2022-03-08T10:56:54.209431",
     "exception": false,
     "start_time": "2022-03-08T10:56:54.160947",
     "status": "completed"
    },
    "tags": []
   },
   "outputs": [
    {
     "name": "stdout",
     "output_type": "stream",
     "text": [
      "/kaggle/input/adp-kr-p1/problem3_covid2.csv\n",
      "/kaggle/input/adp-kr-p1/problem2.csv\n",
      "/kaggle/input/adp-kr-p1/problem1.csv\n",
      "/kaggle/input/adp-kr-p1/problem4.png\n"
     ]
    }
   ],
   "source": [
    "# This Python 3 environment comes with many helpful analytics libraries installed\n",
    "# It is defined by the kaggle/python Docker image: https://github.com/kaggle/docker-python\n",
    "# For example, here's several helpful packages to load\n",
    "\n",
    "import numpy as np # linear algebra\n",
    "import pandas as pd # data processing, CSV file I/O (e.g. pd.read_csv)\n",
    "\n",
    "# Input data files are available in the read-only \"../input/\" directory\n",
    "# For example, running this (by clicking run or pressing Shift+Enter) will list all files under the input directory\n",
    "\n",
    "import os\n",
    "for dirname, _, filenames in os.walk('/kaggle/input'):\n",
    "    for filename in filenames:\n",
    "        print(os.path.join(dirname, filename))\n",
    "\n",
    "# You can write up to 20GB to the current directory (/kaggle/working/) that gets preserved as output when you create a version using \"Save & Run All\" \n",
    "# You can also write temporary files to /kaggle/temp/, but they won't be saved outside of the current session"
   ]
  },
  {
   "cell_type": "code",
   "execution_count": null,
   "id": "8c1dcab5",
   "metadata": {
    "papermill": {
     "duration": 0.025092,
     "end_time": "2022-03-08T10:56:54.260957",
     "exception": false,
     "start_time": "2022-03-08T10:56:54.235865",
     "status": "completed"
    },
    "tags": []
   },
   "outputs": [],
   "source": []
  },
  {
   "cell_type": "markdown",
   "id": "73716afe",
   "metadata": {
    "papermill": {
     "duration": 0.025531,
     "end_time": "2022-03-08T10:56:54.313231",
     "exception": false,
     "start_time": "2022-03-08T10:56:54.287700",
     "status": "completed"
    },
    "tags": []
   },
   "source": [
    "# 1번\n",
    "온,습도,조도,CO2농도에 따른 객실의 사용유무 판별     \n",
    "종속변수 Occupancy, 0: 비어있음 , 1: 사용중    \n",
    "\n",
    "데이터 경로 : /kaggle/input/adp-kr-p1/problem1.csv"
   ]
  },
  {
   "cell_type": "markdown",
   "id": "d293b5db",
   "metadata": {
    "papermill": {
     "duration": 0.023866,
     "end_time": "2022-03-08T10:56:54.362186",
     "exception": false,
     "start_time": "2022-03-08T10:56:54.338320",
     "status": "completed"
    },
    "tags": []
   },
   "source": [
    "### 1 - (1)\n",
    "데이터 EDA 수행 후, 분석가 입장에서 의미있는 탐색"
   ]
  },
  {
   "cell_type": "code",
   "execution_count": null,
   "id": "23f17a7d",
   "metadata": {
    "papermill": {
     "duration": 0.02373,
     "end_time": "2022-03-08T10:56:54.409940",
     "exception": false,
     "start_time": "2022-03-08T10:56:54.386210",
     "status": "completed"
    },
    "tags": []
   },
   "outputs": [],
   "source": []
  },
  {
   "cell_type": "markdown",
   "id": "b35795b4",
   "metadata": {
    "papermill": {
     "duration": 0.023743,
     "end_time": "2022-03-08T10:56:54.457626",
     "exception": false,
     "start_time": "2022-03-08T10:56:54.433883",
     "status": "completed"
    },
    "tags": []
   },
   "source": [
    "### 1 - (2)\n",
    "결측치를 대체하는 방식 선택하고 근거제시, 대체 수행"
   ]
  },
  {
   "cell_type": "markdown",
   "id": "108e769c",
   "metadata": {
    "papermill": {
     "duration": 0.024474,
     "end_time": "2022-03-08T10:56:54.507022",
     "exception": false,
     "start_time": "2022-03-08T10:56:54.482548",
     "status": "completed"
    },
    "tags": []
   },
   "source": []
  },
  {
   "cell_type": "code",
   "execution_count": null,
   "id": "72a6f608",
   "metadata": {
    "papermill": {
     "duration": 0.023964,
     "end_time": "2022-03-08T10:56:54.555571",
     "exception": false,
     "start_time": "2022-03-08T10:56:54.531607",
     "status": "completed"
    },
    "tags": []
   },
   "outputs": [],
   "source": []
  },
  {
   "cell_type": "markdown",
   "id": "a494d25c",
   "metadata": {
    "papermill": {
     "duration": 0.024103,
     "end_time": "2022-03-08T10:56:54.604656",
     "exception": false,
     "start_time": "2022-03-08T10:56:54.580553",
     "status": "completed"
    },
    "tags": []
   },
   "source": [
    "### 1 - (3)\n",
    "추가적으로 데이터의 질 및 품질관리를 향상시킬만한 내용 작성"
   ]
  },
  {
   "cell_type": "code",
   "execution_count": null,
   "id": "3c89e475",
   "metadata": {
    "papermill": {
     "duration": 0.024103,
     "end_time": "2022-03-08T10:56:54.652884",
     "exception": false,
     "start_time": "2022-03-08T10:56:54.628781",
     "status": "completed"
    },
    "tags": []
   },
   "outputs": [],
   "source": []
  },
  {
   "cell_type": "markdown",
   "id": "808bbbe3",
   "metadata": {
    "papermill": {
     "duration": 0.023681,
     "end_time": "2022-03-08T10:56:54.701665",
     "exception": false,
     "start_time": "2022-03-08T10:56:54.677984",
     "status": "completed"
    },
    "tags": []
   },
   "source": [
    "### 2 - (1)\n",
    "데이터에 불균형이 있는지 확인, 불균형 판단 근거 작성\n"
   ]
  },
  {
   "cell_type": "code",
   "execution_count": null,
   "id": "b79eb6e5",
   "metadata": {
    "papermill": {
     "duration": 0.024301,
     "end_time": "2022-03-08T10:56:54.750960",
     "exception": false,
     "start_time": "2022-03-08T10:56:54.726659",
     "status": "completed"
    },
    "tags": []
   },
   "outputs": [],
   "source": []
  },
  {
   "cell_type": "markdown",
   "id": "6d543f64",
   "metadata": {
    "papermill": {
     "duration": 0.023821,
     "end_time": "2022-03-08T10:56:54.799290",
     "exception": false,
     "start_time": "2022-03-08T10:56:54.775469",
     "status": "completed"
    },
    "tags": []
   },
   "source": [
    "### 2 - (2)\n",
    "오버샘플링 방법들 중 2개 선택하고 장단점 등 선정 이유 제시"
   ]
  },
  {
   "cell_type": "markdown",
   "id": "eae25fb0",
   "metadata": {
    "papermill": {
     "duration": 0.025244,
     "end_time": "2022-03-08T10:56:54.850185",
     "exception": false,
     "start_time": "2022-03-08T10:56:54.824941",
     "status": "completed"
    },
    "tags": []
   },
   "source": []
  },
  {
   "cell_type": "code",
   "execution_count": null,
   "id": "f75fa48a",
   "metadata": {
    "papermill": {
     "duration": 0.024825,
     "end_time": "2022-03-08T10:56:54.900261",
     "exception": false,
     "start_time": "2022-03-08T10:56:54.875436",
     "status": "completed"
    },
    "tags": []
   },
   "outputs": [],
   "source": []
  },
  {
   "cell_type": "markdown",
   "id": "f0edddce",
   "metadata": {
    "papermill": {
     "duration": 0.024194,
     "end_time": "2022-03-08T10:56:54.949591",
     "exception": false,
     "start_time": "2022-03-08T10:56:54.925397",
     "status": "completed"
    },
    "tags": []
   },
   "source": [
    "### 2 - (3)\n",
    "오버샘플링 수행 및 결과, 잘 되었다는 것을 판단해라"
   ]
  },
  {
   "cell_type": "code",
   "execution_count": null,
   "id": "7d060260",
   "metadata": {
    "papermill": {
     "duration": 0.02469,
     "end_time": "2022-03-08T10:56:54.999655",
     "exception": false,
     "start_time": "2022-03-08T10:56:54.974965",
     "status": "completed"
    },
    "tags": []
   },
   "outputs": [],
   "source": []
  },
  {
   "cell_type": "markdown",
   "id": "b7507ff7",
   "metadata": {
    "papermill": {
     "duration": 0.025546,
     "end_time": "2022-03-08T10:56:55.050355",
     "exception": false,
     "start_time": "2022-03-08T10:56:55.024809",
     "status": "completed"
    },
    "tags": []
   },
   "source": [
    "### 3 - (1)\n",
    "속도측면, 정확도측면 모델 1개씩 선택, 선택 이유도 기술"
   ]
  },
  {
   "cell_type": "code",
   "execution_count": null,
   "id": "091473d3",
   "metadata": {
    "papermill": {
     "duration": 0.024826,
     "end_time": "2022-03-08T10:56:55.100303",
     "exception": false,
     "start_time": "2022-03-08T10:56:55.075477",
     "status": "completed"
    },
    "tags": []
   },
   "outputs": [],
   "source": []
  },
  {
   "cell_type": "markdown",
   "id": "a3166527",
   "metadata": {
    "papermill": {
     "duration": 0.024167,
     "end_time": "2022-03-08T10:56:55.148431",
     "exception": false,
     "start_time": "2022-03-08T10:56:55.124264",
     "status": "completed"
    },
    "tags": []
   },
   "source": [
    "### 3 - (2)\n",
    "위에서 오버샘플링 한 데이터 2개, 오버샘플링 하기 전 데이터 1개에 대해 모델 2개를 적용하고 성능 보여주기"
   ]
  },
  {
   "cell_type": "code",
   "execution_count": null,
   "id": "36497bf9",
   "metadata": {
    "papermill": {
     "duration": 0.024308,
     "end_time": "2022-03-08T10:56:55.197000",
     "exception": false,
     "start_time": "2022-03-08T10:56:55.172692",
     "status": "completed"
    },
    "tags": []
   },
   "outputs": [],
   "source": []
  },
  {
   "cell_type": "markdown",
   "id": "9139828f",
   "metadata": {
    "papermill": {
     "duration": 0.023739,
     "end_time": "2022-03-08T10:56:55.244878",
     "exception": false,
     "start_time": "2022-03-08T10:56:55.221139",
     "status": "completed"
    },
    "tags": []
   },
   "source": [
    "### 3 - (3)\n",
    "위 예측결과 사용해서 오버샘플링이 미친 영향에 대해 작성하라\n",
    "\n"
   ]
  },
  {
   "cell_type": "code",
   "execution_count": null,
   "id": "06541dc4",
   "metadata": {
    "papermill": {
     "duration": 0.023957,
     "end_time": "2022-03-08T10:56:55.292905",
     "exception": false,
     "start_time": "2022-03-08T10:56:55.268948",
     "status": "completed"
    },
    "tags": []
   },
   "outputs": [],
   "source": []
  },
  {
   "cell_type": "markdown",
   "id": "c62115e0",
   "metadata": {
    "papermill": {
     "duration": 0.023674,
     "end_time": "2022-03-08T10:56:55.340577",
     "exception": false,
     "start_time": "2022-03-08T10:56:55.316903",
     "status": "completed"
    },
    "tags": []
   },
   "source": [
    "# 2번\n",
    "공장에서는 진공관 수명이 1만 시간이라고 주장하여 품질관리팀에서 12개 샘플을 뽑았음 유의수준 5%에서 부호 검정하시오    \n",
    "데이터 경로 : /kaggle/input/adp-kr-p1/problem2.csv"
   ]
  },
  {
   "cell_type": "markdown",
   "id": "76822a87",
   "metadata": {
    "papermill": {
     "duration": 0.023594,
     "end_time": "2022-03-08T10:56:55.388313",
     "exception": false,
     "start_time": "2022-03-08T10:56:55.364719",
     "status": "completed"
    },
    "tags": []
   },
   "source": [
    "### 1\n",
    "귀무가설, 연구가설 세우기"
   ]
  },
  {
   "cell_type": "code",
   "execution_count": null,
   "id": "9b2c8143",
   "metadata": {
    "papermill": {
     "duration": 0.023563,
     "end_time": "2022-03-08T10:56:55.435849",
     "exception": false,
     "start_time": "2022-03-08T10:56:55.412286",
     "status": "completed"
    },
    "tags": []
   },
   "outputs": [],
   "source": []
  },
  {
   "cell_type": "markdown",
   "id": "a43a3ea3",
   "metadata": {
    "papermill": {
     "duration": 0.023668,
     "end_time": "2022-03-08T10:56:55.484012",
     "exception": false,
     "start_time": "2022-03-08T10:56:55.460344",
     "status": "completed"
    },
    "tags": []
   },
   "source": [
    "### 2\n",
    "유효한 데이터의 개수는?"
   ]
  },
  {
   "cell_type": "code",
   "execution_count": null,
   "id": "c8718821",
   "metadata": {
    "papermill": {
     "duration": 0.023747,
     "end_time": "2022-03-08T10:56:55.531762",
     "exception": false,
     "start_time": "2022-03-08T10:56:55.508015",
     "status": "completed"
    },
    "tags": []
   },
   "outputs": [],
   "source": []
  },
  {
   "cell_type": "markdown",
   "id": "232880f1",
   "metadata": {
    "papermill": {
     "duration": 0.02389,
     "end_time": "2022-03-08T10:56:55.579660",
     "exception": false,
     "start_time": "2022-03-08T10:56:55.555770",
     "status": "completed"
    },
    "tags": []
   },
   "source": [
    "### 3\n",
    "검정통계량 및 연구가설 채택 여부를 작성하라"
   ]
  },
  {
   "cell_type": "code",
   "execution_count": null,
   "id": "f506387a",
   "metadata": {
    "papermill": {
     "duration": 0.023807,
     "end_time": "2022-03-08T10:56:55.627545",
     "exception": false,
     "start_time": "2022-03-08T10:56:55.603738",
     "status": "completed"
    },
    "tags": []
   },
   "outputs": [],
   "source": []
  },
  {
   "cell_type": "markdown",
   "id": "e5db959c",
   "metadata": {
    "papermill": {
     "duration": 0.024823,
     "end_time": "2022-03-08T10:56:55.676940",
     "exception": false,
     "start_time": "2022-03-08T10:56:55.652117",
     "status": "completed"
    },
    "tags": []
   },
   "source": [
    "# 3번\n",
    "코로나 시계열 데이터     \n",
    "데이터 출처(후처리과정 미포함) :https://www.kaggle.com/antgoldbloom/covid19panels?select=country_panel.csv    \n",
    "     \n",
    "데이터 경로 : /kaggle/input/adp-kr-p1/problem3_covid2.csv"
   ]
  },
  {
   "cell_type": "markdown",
   "id": "1594430e",
   "metadata": {
    "papermill": {
     "duration": 0.023717,
     "end_time": "2022-03-08T10:56:55.724865",
     "exception": false,
     "start_time": "2022-03-08T10:56:55.701148",
     "status": "completed"
    },
    "tags": []
   },
   "source": [
    "### 1 \n",
    "데이터는 일자별 각 나라의 일일 확진자수를 나타낸다. 각 나라의 일자별 누적확진자 수를 나타내는 데이터 프레임을 생성하라"
   ]
  },
  {
   "cell_type": "code",
   "execution_count": null,
   "id": "ca805595",
   "metadata": {
    "papermill": {
     "duration": 0.024465,
     "end_time": "2022-03-08T10:56:55.773479",
     "exception": false,
     "start_time": "2022-03-08T10:56:55.749014",
     "status": "completed"
    },
    "tags": []
   },
   "outputs": [],
   "source": []
  },
  {
   "cell_type": "markdown",
   "id": "e64c4d5e",
   "metadata": {
    "papermill": {
     "duration": 0.026182,
     "end_time": "2022-03-08T10:56:55.825951",
     "exception": false,
     "start_time": "2022-03-08T10:56:55.799769",
     "status": "completed"
    },
    "tags": []
   },
   "source": [
    "## 2\n",
    "1에서 구한 데이터를 각 나라별로 acf값을 구하고(lag는 50개까지 구하고 첫번째 값을 제외하라)  국가를 기준으로 유클리디안 거리를 기준으로 클러스터링을 진행 후 계층적 군집 분석을 위해 덴드로그램 작성하라"
   ]
  },
  {
   "cell_type": "code",
   "execution_count": null,
   "id": "913d6f6c",
   "metadata": {
    "papermill": {
     "duration": 0.024943,
     "end_time": "2022-03-08T10:56:55.876198",
     "exception": false,
     "start_time": "2022-03-08T10:56:55.851255",
     "status": "completed"
    },
    "tags": []
   },
   "outputs": [],
   "source": []
  },
  {
   "cell_type": "markdown",
   "id": "b0ea635b",
   "metadata": {
    "papermill": {
     "duration": 0.025869,
     "end_time": "2022-03-08T10:56:55.927481",
     "exception": false,
     "start_time": "2022-03-08T10:56:55.901612",
     "status": "completed"
    },
    "tags": []
   },
   "source": [
    "# 4번\n",
    "아래 이미지와 같은 학과별 학점 분포 인원수 표가 있다. 학과와 성적이 관계있는지를 검정하라    \n",
    "![image](https://github.com/Datamanim/datarepo/blob/main/adp/p1/problem4.png?raw=true)\n"
   ]
  },
  {
   "cell_type": "markdown",
   "id": "4346a354",
   "metadata": {
    "papermill": {
     "duration": 0.025307,
     "end_time": "2022-03-08T10:56:55.979190",
     "exception": false,
     "start_time": "2022-03-08T10:56:55.953883",
     "status": "completed"
    },
    "tags": []
   },
   "source": [
    "### 1번\n",
    "귀무가설, 연구가설 세우기"
   ]
  },
  {
   "cell_type": "code",
   "execution_count": null,
   "id": "c7ea5f3f",
   "metadata": {
    "papermill": {
     "duration": 0.025772,
     "end_time": "2022-03-08T10:56:56.030888",
     "exception": false,
     "start_time": "2022-03-08T10:56:56.005116",
     "status": "completed"
    },
    "tags": []
   },
   "outputs": [],
   "source": []
  },
  {
   "cell_type": "markdown",
   "id": "44708072",
   "metadata": {
    "papermill": {
     "duration": 0.026084,
     "end_time": "2022-03-08T10:56:56.083001",
     "exception": false,
     "start_time": "2022-03-08T10:56:56.056917",
     "status": "completed"
    },
    "tags": []
   },
   "source": [
    "### 2번\n",
    "학과와 성적이 독립일 경우의 기댓값을 구하시오"
   ]
  },
  {
   "cell_type": "code",
   "execution_count": null,
   "id": "a44ed3c9",
   "metadata": {
    "papermill": {
     "duration": 0.024834,
     "end_time": "2022-03-08T10:56:56.133661",
     "exception": false,
     "start_time": "2022-03-08T10:56:56.108827",
     "status": "completed"
    },
    "tags": []
   },
   "outputs": [],
   "source": []
  },
  {
   "cell_type": "markdown",
   "id": "733428aa",
   "metadata": {
    "papermill": {
     "duration": 0.024678,
     "end_time": "2022-03-08T10:56:56.183438",
     "exception": false,
     "start_time": "2022-03-08T10:56:56.158760",
     "status": "completed"
    },
    "tags": []
   },
   "source": [
    "### 3번\n",
    "검정통계량 구하고 연구가설의 채택여부 작성"
   ]
  },
  {
   "cell_type": "code",
   "execution_count": null,
   "id": "55aea2c4",
   "metadata": {
    "papermill": {
     "duration": 0.024912,
     "end_time": "2022-03-08T10:56:56.233458",
     "exception": false,
     "start_time": "2022-03-08T10:56:56.208546",
     "status": "completed"
    },
    "tags": []
   },
   "outputs": [],
   "source": []
  }
 ],
 "metadata": {
  "kernelspec": {
   "display_name": "Python 3 (ipykernel)",
   "language": "python",
   "name": "python3"
  },
  "language_info": {
   "codemirror_mode": {
    "name": "ipython",
    "version": 3
   },
   "file_extension": ".py",
   "mimetype": "text/x-python",
   "name": "python",
   "nbconvert_exporter": "python",
   "pygments_lexer": "ipython3",
   "version": "3.7.11"
  },
  "papermill": {
   "default_parameters": {},
   "duration": 12.924395,
   "end_time": "2022-03-08T10:56:56.868596",
   "environment_variables": {},
   "exception": null,
   "input_path": "__notebook__.ipynb",
   "output_path": "__notebook__.ipynb",
   "parameters": {},
   "start_time": "2022-03-08T10:56:43.944201",
   "version": "2.3.3"
  }
 },
 "nbformat": 4,
 "nbformat_minor": 5
}
