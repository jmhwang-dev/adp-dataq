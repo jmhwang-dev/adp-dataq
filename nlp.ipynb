{
 "cells": [
  {
   "cell_type": "markdown",
   "metadata": {},
   "source": [
    "# NLP"
   ]
  },
  {
   "cell_type": "code",
   "execution_count": 379,
   "metadata": {},
   "outputs": [],
   "source": [
    "from konlpy.tag import Kkma\n",
    "from collections import Counter\n",
    "import matplotlib.pyplot as plt\n",
    "plt.rcParams['font.family'] = 'NanumGothic'"
   ]
  },
  {
   "cell_type": "code",
   "execution_count": 380,
   "metadata": {},
   "outputs": [],
   "source": [
    "kkma = Kkma()"
   ]
  },
  {
   "cell_type": "code",
   "execution_count": 381,
   "metadata": {},
   "outputs": [],
   "source": [
    "# 개행 제거\n",
    "# str1 = \"\\n Starbucks has the best coffee \\n\"\n",
    "# newstr = str1.strip()\n",
    "# print(newstr)\n",
    "\n",
    "# 개행 치환\n",
    "# list1 = [\"Starbucks\\n\", \"has the \\nbest\", \"coffee\\n\\n \"]\n",
    "# rez = []\n",
    "\n",
    "# for x in list1:\n",
    "#     rez.append(x.replace(\"\\n\", \"\"))\n",
    "\n",
    "# print(\"New list : \" + str(rez))"
   ]
  },
  {
   "cell_type": "code",
   "execution_count": 382,
   "metadata": {},
   "outputs": [],
   "source": [
    "# VA: 형용사\n",
    "# VV: 동사\n",
    "# NNG, NNP, NNB, NP, NR: 명사"
   ]
  },
  {
   "cell_type": "code",
   "execution_count": 383,
   "metadata": {},
   "outputs": [],
   "source": [
    "sample = \\\n",
    "u\"무궁화 삼천리 화려 강산 대한 사람 대한으로 길이 보전하세\"\\\n",
    "    \"무궁화 삼만리 멋진 강산 대한 사람 대한으로 널리 보존하세\""
   ]
  },
  {
   "cell_type": "code",
   "execution_count": 384,
   "metadata": {},
   "outputs": [],
   "source": [
    "# 형용사에 대한 처리는 여기서 출력해보고 할 것\n",
    "pos = kkma.pos(sample)\n",
    "# pos"
   ]
  },
  {
   "cell_type": "code",
   "execution_count": 385,
   "metadata": {},
   "outputs": [],
   "source": [
    "nouns = kkma.nouns(sample)\n",
    "# nouns"
   ]
  },
  {
   "cell_type": "code",
   "execution_count": 386,
   "metadata": {},
   "outputs": [],
   "source": [
    "morphs = kkma.morphs(sample)\n",
    "# morphs"
   ]
  },
  {
   "cell_type": "code",
   "execution_count": 387,
   "metadata": {},
   "outputs": [],
   "source": [
    "counter = Counter(morphs)\n",
    "# counter"
   ]
  },
  {
   "cell_type": "code",
   "execution_count": 388,
   "metadata": {},
   "outputs": [],
   "source": [
    "word_info = dict()\n",
    "for _word, cnt in counter.most_common(100):\n",
    "    if _word in nouns:\n",
    "        word_info[_word] = cnt\n",
    "\n",
    "# word_info"
   ]
  },
  {
   "cell_type": "code",
   "execution_count": 389,
   "metadata": {},
   "outputs": [],
   "source": [
    "sorted_value = sorted(word_info.items(), key=lambda x: x[1], reverse=True)\n",
    "# sorted_value"
   ]
  },
  {
   "cell_type": "code",
   "execution_count": 390,
   "metadata": {},
   "outputs": [
    {
     "data": {
      "image/png": "[encoded data removed]",
      "text/plain": [
       "<Figure size 432x288 with 1 Axes>"
      ]
     },
     "metadata": {},
     "output_type": "display_data"
    }
   ],
   "source": [
    "plt.bar(list(range(len(sorted_value))), [k[1] for k in sorted_value])\n",
    "plt.xticks(range(len(sorted_value)), [k[0] for k in sorted_value], rotation='50')\n",
    "plt.show()"
   ]
  }
 ],
 "metadata": {
  "hide_input": false,
  "interpreter": {
   "hash": "0d231a6470d02105dd0e2d5fb32a340c68a16c247b145115fcd327b9e5903d15"
  },
  "kernelspec": {
   "display_name": "Python 3 (ipykernel)",
   "language": "python",
   "name": "python3"
  },
  "language_info": {
   "codemirror_mode": {
    "name": "ipython",
    "version": 3
   },
   "file_extension": ".py",
   "mimetype": "text/x-python",
   "name": "python",
   "nbconvert_exporter": "python",
   "pygments_lexer": "ipython3",
   "version": "3.8.11"
  }
 },
 "nbformat": 4,
 "nbformat_minor": 2
}
