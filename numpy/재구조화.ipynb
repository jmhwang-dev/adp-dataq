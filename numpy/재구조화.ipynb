{
 "cells": [
  {
   "cell_type": "code",
   "execution_count": 1,
   "id": "6c6166b6",
   "metadata": {},
   "outputs": [],
   "source": [
    "import numpy as np"
   ]
  },
  {
   "cell_type": "markdown",
   "id": "abf522fe",
   "metadata": {},
   "source": [
    "reshape"
   ]
  },
  {
   "cell_type": "code",
   "execution_count": 3,
   "id": "39190ed9",
   "metadata": {},
   "outputs": [
    {
     "data": {
      "text/plain": [
       "array([[1, 2, 3],\n",
       "       [4, 5, 6],\n",
       "       [7, 8, 9]])"
      ]
     },
     "execution_count": 3,
     "metadata": {},
     "output_type": "execute_result"
    }
   ],
   "source": [
    "a = np.arange(1, 10)\n",
    "a.reshape(3, 3)"
   ]
  },
  {
   "cell_type": "code",
   "execution_count": 5,
   "id": "b857dafb",
   "metadata": {},
   "outputs": [
    {
     "data": {
      "text/plain": [
       "array([1, 2, 3])"
      ]
     },
     "execution_count": 5,
     "metadata": {},
     "output_type": "execute_result"
    }
   ],
   "source": [
    "x = np.arange(1, 4)\n",
    "x"
   ]
  },
  {
   "cell_type": "code",
   "execution_count": 6,
   "id": "3bbfb3aa",
   "metadata": {},
   "outputs": [
    {
     "data": {
      "text/plain": [
       "array([[1],\n",
       "       [2],\n",
       "       [3]])"
      ]
     },
     "execution_count": 6,
     "metadata": {},
     "output_type": "execute_result"
    }
   ],
   "source": [
    "x[:, np.newaxis]"
   ]
  },
  {
   "cell_type": "code",
   "execution_count": 9,
   "id": "00bb71cf",
   "metadata": {},
   "outputs": [
    {
     "data": {
      "text/plain": [
       "array([[1, 2, 3]])"
      ]
     },
     "execution_count": 9,
     "metadata": {},
     "output_type": "execute_result"
    }
   ],
   "source": [
    "x[np.newaxis, :]"
   ]
  },
  {
   "cell_type": "markdown",
   "id": "d31189f3",
   "metadata": {},
   "source": [
    "배열 연결\n",
    "\n",
    "`np.concatenate([x, y])`\n",
    "\n",
    "`np.vstack()`\n",
    "\n",
    "`np.hstack()`"
   ]
  },
  {
   "cell_type": "markdown",
   "id": "bf1ff00b",
   "metadata": {},
   "source": [
    "1차원"
   ]
  },
  {
   "cell_type": "code",
   "execution_count": 10,
   "id": "7864524f",
   "metadata": {},
   "outputs": [
    {
     "data": {
      "text/plain": [
       "array([1, 2, 3])"
      ]
     },
     "execution_count": 10,
     "metadata": {},
     "output_type": "execute_result"
    }
   ],
   "source": [
    "x = np.arange(1, 4)\n",
    "x"
   ]
  },
  {
   "cell_type": "code",
   "execution_count": 15,
   "id": "e062fbc7",
   "metadata": {},
   "outputs": [
    {
     "data": {
      "text/plain": [
       "array([3, 2, 1])"
      ]
     },
     "execution_count": 15,
     "metadata": {},
     "output_type": "execute_result"
    }
   ],
   "source": [
    "y = np.arange(3, 0, -1)\n",
    "y"
   ]
  },
  {
   "cell_type": "code",
   "execution_count": 18,
   "id": "f50b4972",
   "metadata": {},
   "outputs": [
    {
     "data": {
      "text/plain": [
       "array([1, 2, 3, 3, 2, 1])"
      ]
     },
     "execution_count": 18,
     "metadata": {},
     "output_type": "execute_result"
    }
   ],
   "source": [
    "np.concatenate([x, y])"
   ]
  },
  {
   "cell_type": "markdown",
   "id": "21b0c4dc",
   "metadata": {},
   "source": [
    "2차원"
   ]
  },
  {
   "cell_type": "code",
   "execution_count": 20,
   "id": "884b21d5",
   "metadata": {},
   "outputs": [
    {
     "data": {
      "text/plain": [
       "array([[1, 2, 3],\n",
       "       [4, 5, 6]])"
      ]
     },
     "execution_count": 20,
     "metadata": {},
     "output_type": "execute_result"
    }
   ],
   "source": [
    "grid = np.arange(1,7).reshape(2, 3)\n",
    "grid"
   ]
  },
  {
   "cell_type": "markdown",
   "id": "221781cb",
   "metadata": {},
   "source": [
    "첫번째 축"
   ]
  },
  {
   "cell_type": "code",
   "execution_count": 21,
   "id": "d7b4d3f2",
   "metadata": {},
   "outputs": [
    {
     "data": {
      "text/plain": [
       "array([[1, 2, 3],\n",
       "       [4, 5, 6],\n",
       "       [1, 2, 3],\n",
       "       [4, 5, 6]])"
      ]
     },
     "execution_count": 21,
     "metadata": {},
     "output_type": "execute_result"
    }
   ],
   "source": [
    "np.concatenate([grid, grid])"
   ]
  },
  {
   "cell_type": "markdown",
   "id": "1632d224",
   "metadata": {},
   "source": [
    "두번째 축"
   ]
  },
  {
   "cell_type": "code",
   "execution_count": 22,
   "id": "ea6fb705",
   "metadata": {},
   "outputs": [
    {
     "data": {
      "text/plain": [
       "array([[1, 2, 3, 1, 2, 3],\n",
       "       [4, 5, 6, 4, 5, 6]])"
      ]
     },
     "execution_count": 22,
     "metadata": {},
     "output_type": "execute_result"
    }
   ],
   "source": [
    "np.concatenate([grid, grid], axis=1)"
   ]
  },
  {
   "cell_type": "code",
   "execution_count": null,
   "id": "3061afef",
   "metadata": {},
   "outputs": [],
   "source": []
  },
  {
   "cell_type": "code",
   "execution_count": 26,
   "id": "2fba3263",
   "metadata": {},
   "outputs": [
    {
     "data": {
      "text/plain": [
       "array([1, 2, 3])"
      ]
     },
     "execution_count": 26,
     "metadata": {},
     "output_type": "execute_result"
    }
   ],
   "source": [
    "x = np.arange(1, 4)\n",
    "x"
   ]
  },
  {
   "cell_type": "code",
   "execution_count": 29,
   "id": "497d6435",
   "metadata": {},
   "outputs": [
    {
     "data": {
      "text/plain": [
       "array([[9, 8, 7],\n",
       "       [6, 5, 4]])"
      ]
     },
     "execution_count": 29,
     "metadata": {},
     "output_type": "execute_result"
    }
   ],
   "source": [
    "grid = np.arange(9, 3, -1).reshape(2,3)\n",
    "grid"
   ]
  },
  {
   "cell_type": "code",
   "execution_count": 30,
   "id": "dded7bf4",
   "metadata": {},
   "outputs": [
    {
     "data": {
      "text/plain": [
       "array([[1, 2, 3],\n",
       "       [9, 8, 7],\n",
       "       [6, 5, 4]])"
      ]
     },
     "execution_count": 30,
     "metadata": {},
     "output_type": "execute_result"
    }
   ],
   "source": [
    "np.vstack([x, grid])"
   ]
  },
  {
   "cell_type": "code",
   "execution_count": 34,
   "id": "0db4ebb1",
   "metadata": {},
   "outputs": [
    {
     "data": {
      "text/plain": [
       "array([[99],\n",
       "       [99]])"
      ]
     },
     "execution_count": 34,
     "metadata": {},
     "output_type": "execute_result"
    }
   ],
   "source": [
    "y = np.array([99, 99]).reshape(2, 1)\n",
    "# y = y[:, np.newaxis]\n",
    "y"
   ]
  },
  {
   "cell_type": "code",
   "execution_count": 35,
   "id": "cff870eb",
   "metadata": {},
   "outputs": [
    {
     "data": {
      "text/plain": [
       "array([[99,  9,  8,  7],\n",
       "       [99,  6,  5,  4]])"
      ]
     },
     "execution_count": 35,
     "metadata": {},
     "output_type": "execute_result"
    }
   ],
   "source": [
    "np.hstack([y, grid])"
   ]
  },
  {
   "cell_type": "code",
   "execution_count": null,
   "id": "8045efb5",
   "metadata": {},
   "outputs": [],
   "source": []
  },
  {
   "cell_type": "markdown",
   "id": "d3ce1d6a",
   "metadata": {},
   "source": [
    "배열 분할"
   ]
  },
  {
   "cell_type": "code",
   "execution_count": 37,
   "id": "8585362e",
   "metadata": {},
   "outputs": [
    {
     "data": {
      "text/plain": [
       "array([1, 2, 3, 4, 5, 6, 7, 8, 9])"
      ]
     },
     "execution_count": 37,
     "metadata": {},
     "output_type": "execute_result"
    }
   ],
   "source": [
    "x = np.arange(1, 10)\n",
    "x"
   ]
  },
  {
   "cell_type": "code",
   "execution_count": 38,
   "id": "c98b7545",
   "metadata": {},
   "outputs": [
    {
     "data": {
      "text/plain": [
       "[array([1, 2, 3]), array([4, 5]), array([6, 7, 8, 9])]"
      ]
     },
     "execution_count": 38,
     "metadata": {},
     "output_type": "execute_result"
    }
   ],
   "source": [
    "np.split(x, [3, 5])"
   ]
  },
  {
   "cell_type": "code",
   "execution_count": 41,
   "id": "1d170013",
   "metadata": {},
   "outputs": [
    {
     "data": {
      "text/plain": [
       "[array([1, 2, 3, 4]), array([5, 6, 7, 8, 9])]"
      ]
     },
     "execution_count": 41,
     "metadata": {},
     "output_type": "execute_result"
    }
   ],
   "source": [
    "np.split(x, [4])"
   ]
  },
  {
   "cell_type": "code",
   "execution_count": null,
   "id": "96d4debb",
   "metadata": {},
   "outputs": [],
   "source": []
  },
  {
   "cell_type": "code",
   "execution_count": 43,
   "id": "ba16cb33",
   "metadata": {},
   "outputs": [
    {
     "data": {
      "text/plain": [
       "array([[ 0,  1,  2,  3],\n",
       "       [ 4,  5,  6,  7],\n",
       "       [ 8,  9, 10, 11],\n",
       "       [12, 13, 14, 15]])"
      ]
     },
     "execution_count": 43,
     "metadata": {},
     "output_type": "execute_result"
    }
   ],
   "source": [
    "grid = np.arange(16).reshape(4,4)\n",
    "grid"
   ]
  },
  {
   "cell_type": "code",
   "execution_count": 44,
   "id": "a5292d87",
   "metadata": {},
   "outputs": [
    {
     "data": {
      "text/plain": [
       "[array([[0, 1, 2, 3],\n",
       "        [4, 5, 6, 7]]),\n",
       " array([[ 8,  9, 10, 11],\n",
       "        [12, 13, 14, 15]])]"
      ]
     },
     "execution_count": 44,
     "metadata": {},
     "output_type": "execute_result"
    }
   ],
   "source": [
    "np.vsplit(grid, [2])"
   ]
  },
  {
   "cell_type": "code",
   "execution_count": 45,
   "id": "a7e1ce09",
   "metadata": {},
   "outputs": [
    {
     "data": {
      "text/plain": [
       "[array([[ 0,  1],\n",
       "        [ 4,  5],\n",
       "        [ 8,  9],\n",
       "        [12, 13]]),\n",
       " array([[ 2,  3],\n",
       "        [ 6,  7],\n",
       "        [10, 11],\n",
       "        [14, 15]])]"
      ]
     },
     "execution_count": 45,
     "metadata": {},
     "output_type": "execute_result"
    }
   ],
   "source": [
    "np.hsplit(grid, [2])"
   ]
  },
  {
   "cell_type": "code",
   "execution_count": 49,
   "id": "57a1090b",
   "metadata": {},
   "outputs": [
    {
     "data": {
      "text/plain": [
       "array([[[ 0,  1,  2,  3],\n",
       "        [ 4,  5,  6,  7],\n",
       "        [ 8,  9, 10, 11],\n",
       "        [12, 13, 14, 15]],\n",
       "\n",
       "       [[16, 17, 18, 19],\n",
       "        [20, 21, 22, 23],\n",
       "        [24, 25, 26, 27],\n",
       "        [28, 29, 30, 31]],\n",
       "\n",
       "       [[32, 33, 34, 35],\n",
       "        [36, 37, 38, 39],\n",
       "        [40, 41, 42, 43],\n",
       "        [44, 45, 46, 47]]])"
      ]
     },
     "execution_count": 49,
     "metadata": {},
     "output_type": "execute_result"
    }
   ],
   "source": [
    "grid = np.arange(48).reshape(3, 4, 4)\n",
    "grid"
   ]
  },
  {
   "cell_type": "code",
   "execution_count": 53,
   "id": "65bf6e23",
   "metadata": {},
   "outputs": [
    {
     "name": "stdout",
     "output_type": "stream",
     "text": [
      "(2, 4, 4)\n",
      "(1, 4, 4)\n"
     ]
    }
   ],
   "source": [
    "a, b = np.vsplit(grid, [2])\n",
    "print(a.shape)\n",
    "print(b.shape)"
   ]
  },
  {
   "cell_type": "code",
   "execution_count": 54,
   "id": "b648b225",
   "metadata": {},
   "outputs": [
    {
     "name": "stdout",
     "output_type": "stream",
     "text": [
      "(3, 2, 4)\n",
      "(3, 2, 4)\n"
     ]
    }
   ],
   "source": [
    "a, b = np.hsplit(grid, [2])\n",
    "print(a.shape)\n",
    "print(b.shape)"
   ]
  },
  {
   "cell_type": "code",
   "execution_count": 58,
   "id": "5da5399e",
   "metadata": {},
   "outputs": [
    {
     "name": "stdout",
     "output_type": "stream",
     "text": [
      "(3, 4, 2)\n",
      "(3, 4, 2)\n"
     ]
    }
   ],
   "source": [
    "a, b = np.dsplit(grid, [2])\n",
    "print(a.shape)\n",
    "print(b.shape)"
   ]
  },
  {
   "cell_type": "code",
   "execution_count": 60,
   "id": "aaab1a25",
   "metadata": {},
   "outputs": [
    {
     "data": {
      "text/plain": [
       "array([[[[  0,   1,   2,   3],\n",
       "         [  4,   5,   6,   7],\n",
       "         [  8,   9,  10,  11],\n",
       "         [ 12,  13,  14,  15]],\n",
       "\n",
       "        [[ 16,  17,  18,  19],\n",
       "         [ 20,  21,  22,  23],\n",
       "         [ 24,  25,  26,  27],\n",
       "         [ 28,  29,  30,  31]],\n",
       "\n",
       "        [[ 32,  33,  34,  35],\n",
       "         [ 36,  37,  38,  39],\n",
       "         [ 40,  41,  42,  43],\n",
       "         [ 44,  45,  46,  47]],\n",
       "\n",
       "        [[ 48,  49,  50,  51],\n",
       "         [ 52,  53,  54,  55],\n",
       "         [ 56,  57,  58,  59],\n",
       "         [ 60,  61,  62,  63]]],\n",
       "\n",
       "\n",
       "       [[[ 64,  65,  66,  67],\n",
       "         [ 68,  69,  70,  71],\n",
       "         [ 72,  73,  74,  75],\n",
       "         [ 76,  77,  78,  79]],\n",
       "\n",
       "        [[ 80,  81,  82,  83],\n",
       "         [ 84,  85,  86,  87],\n",
       "         [ 88,  89,  90,  91],\n",
       "         [ 92,  93,  94,  95]],\n",
       "\n",
       "        [[ 96,  97,  98,  99],\n",
       "         [100, 101, 102, 103],\n",
       "         [104, 105, 106, 107],\n",
       "         [108, 109, 110, 111]],\n",
       "\n",
       "        [[112, 113, 114, 115],\n",
       "         [116, 117, 118, 119],\n",
       "         [120, 121, 122, 123],\n",
       "         [124, 125, 126, 127]]],\n",
       "\n",
       "\n",
       "       [[[128, 129, 130, 131],\n",
       "         [132, 133, 134, 135],\n",
       "         [136, 137, 138, 139],\n",
       "         [140, 141, 142, 143]],\n",
       "\n",
       "        [[144, 145, 146, 147],\n",
       "         [148, 149, 150, 151],\n",
       "         [152, 153, 154, 155],\n",
       "         [156, 157, 158, 159]],\n",
       "\n",
       "        [[160, 161, 162, 163],\n",
       "         [164, 165, 166, 167],\n",
       "         [168, 169, 170, 171],\n",
       "         [172, 173, 174, 175]],\n",
       "\n",
       "        [[176, 177, 178, 179],\n",
       "         [180, 181, 182, 183],\n",
       "         [184, 185, 186, 187],\n",
       "         [188, 189, 190, 191]]]])"
      ]
     },
     "execution_count": 60,
     "metadata": {},
     "output_type": "execute_result"
    }
   ],
   "source": [
    "grid = np.arange(3*4*4*4).reshape(3, 4, 4, 4)\n",
    "grid"
   ]
  },
  {
   "cell_type": "code",
   "execution_count": 66,
   "id": "3740c4dc",
   "metadata": {},
   "outputs": [
    {
     "data": {
      "text/plain": [
       "[array([[[[  0,   1,   2,   3],\n",
       "          [  4,   5,   6,   7]],\n",
       " \n",
       "         [[ 16,  17,  18,  19],\n",
       "          [ 20,  21,  22,  23]],\n",
       " \n",
       "         [[ 32,  33,  34,  35],\n",
       "          [ 36,  37,  38,  39]],\n",
       " \n",
       "         [[ 48,  49,  50,  51],\n",
       "          [ 52,  53,  54,  55]]],\n",
       " \n",
       " \n",
       "        [[[ 64,  65,  66,  67],\n",
       "          [ 68,  69,  70,  71]],\n",
       " \n",
       "         [[ 80,  81,  82,  83],\n",
       "          [ 84,  85,  86,  87]],\n",
       " \n",
       "         [[ 96,  97,  98,  99],\n",
       "          [100, 101, 102, 103]],\n",
       " \n",
       "         [[112, 113, 114, 115],\n",
       "          [116, 117, 118, 119]]],\n",
       " \n",
       " \n",
       "        [[[128, 129, 130, 131],\n",
       "          [132, 133, 134, 135]],\n",
       " \n",
       "         [[144, 145, 146, 147],\n",
       "          [148, 149, 150, 151]],\n",
       " \n",
       "         [[160, 161, 162, 163],\n",
       "          [164, 165, 166, 167]],\n",
       " \n",
       "         [[176, 177, 178, 179],\n",
       "          [180, 181, 182, 183]]]]),\n",
       " array([[[[  8,   9,  10,  11],\n",
       "          [ 12,  13,  14,  15]],\n",
       " \n",
       "         [[ 24,  25,  26,  27],\n",
       "          [ 28,  29,  30,  31]],\n",
       " \n",
       "         [[ 40,  41,  42,  43],\n",
       "          [ 44,  45,  46,  47]],\n",
       " \n",
       "         [[ 56,  57,  58,  59],\n",
       "          [ 60,  61,  62,  63]]],\n",
       " \n",
       " \n",
       "        [[[ 72,  73,  74,  75],\n",
       "          [ 76,  77,  78,  79]],\n",
       " \n",
       "         [[ 88,  89,  90,  91],\n",
       "          [ 92,  93,  94,  95]],\n",
       " \n",
       "         [[104, 105, 106, 107],\n",
       "          [108, 109, 110, 111]],\n",
       " \n",
       "         [[120, 121, 122, 123],\n",
       "          [124, 125, 126, 127]]],\n",
       " \n",
       " \n",
       "        [[[136, 137, 138, 139],\n",
       "          [140, 141, 142, 143]],\n",
       " \n",
       "         [[152, 153, 154, 155],\n",
       "          [156, 157, 158, 159]],\n",
       " \n",
       "         [[168, 169, 170, 171],\n",
       "          [172, 173, 174, 175]],\n",
       " \n",
       "         [[184, 185, 186, 187],\n",
       "          [188, 189, 190, 191]]]])]"
      ]
     },
     "execution_count": 66,
     "metadata": {},
     "output_type": "execute_result"
    }
   ],
   "source": [
    "np.dsplit(grid, [2])"
   ]
  },
  {
   "cell_type": "code",
   "execution_count": null,
   "id": "9d001744",
   "metadata": {},
   "outputs": [],
   "source": []
  }
 ],
 "metadata": {
  "hide_input": false,
  "kernelspec": {
   "display_name": "Python 3 (ipykernel)",
   "language": "python",
   "name": "python3"
  },
  "language_info": {
   "codemirror_mode": {
    "name": "ipython",
    "version": 3
   },
   "file_extension": ".py",
   "mimetype": "text/x-python",
   "name": "python",
   "nbconvert_exporter": "python",
   "pygments_lexer": "ipython3",
   "version": "3.7.11"
  }
 },
 "nbformat": 4,
 "nbformat_minor": 5
}
