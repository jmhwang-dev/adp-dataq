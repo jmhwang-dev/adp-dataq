{
 "cells": [
  {
   "cell_type": "code",
   "execution_count": 2,
   "id": "e2c7eec9",
   "metadata": {},
   "outputs": [],
   "source": [
    "import numpy as np"
   ]
  },
  {
   "cell_type": "code",
   "execution_count": 3,
   "id": "58f9853a",
   "metadata": {},
   "outputs": [
    {
     "data": {
      "text/plain": [
       "'1.20.3'"
      ]
     },
     "execution_count": 3,
     "metadata": {},
     "output_type": "execute_result"
    }
   ],
   "source": [
    "np.__version__"
   ]
  },
  {
   "cell_type": "code",
   "execution_count": 4,
   "id": "86cdcfff",
   "metadata": {},
   "outputs": [
    {
     "data": {
      "text/plain": [
       "array([1., 2., 3.], dtype=float32)"
      ]
     },
     "execution_count": 4,
     "metadata": {},
     "output_type": "execute_result"
    }
   ],
   "source": [
    "np.array([1,2,3], dtype='float32') # type 초기화 방식"
   ]
  },
  {
   "cell_type": "code",
   "execution_count": 5,
   "id": "55b06ca7",
   "metadata": {},
   "outputs": [
    {
     "data": {
      "text/plain": [
       "array([1., 2., 3.], dtype=float32)"
      ]
     },
     "execution_count": 5,
     "metadata": {},
     "output_type": "execute_result"
    }
   ],
   "source": [
    "np.array([1,2,3], dtype=np.float32) # type 초기화 방식2"
   ]
  },
  {
   "cell_type": "markdown",
   "id": "3f2c3d4a",
   "metadata": {},
   "source": [
    "# 처음부터 배열 만들기"
   ]
  },
  {
   "cell_type": "markdown",
   "id": "8399d269",
   "metadata": {},
   "source": [
    "size를 list or tuple로 함수들\n",
    "\n",
    "`np.zeros((2,2))`\n",
    "\n",
    "`np.ones((3,5))`\n",
    "\n",
    "`np.full((2,2), 5.0)`\n",
    "\n",
    "`np.empty((5,5))`\n",
    "\n",
    "---\n",
    "\n",
    "size를 각각의 파라미터로 받는 함수\n",
    "\n",
    "`np.eye(3, 5)`"
   ]
  },
  {
   "cell_type": "code",
   "execution_count": 6,
   "id": "f36be9ae",
   "metadata": {},
   "outputs": [
    {
     "data": {
      "text/plain": [
       "array([[0., 0.],\n",
       "       [0., 0.]])"
      ]
     },
     "execution_count": 6,
     "metadata": {},
     "output_type": "execute_result"
    }
   ],
   "source": [
    "np.zeros([2,2])"
   ]
  },
  {
   "cell_type": "code",
   "execution_count": 7,
   "id": "0281ab3a",
   "metadata": {},
   "outputs": [
    {
     "data": {
      "text/plain": [
       "array([[1., 1., 1., 1., 1.],\n",
       "       [1., 1., 1., 1., 1.],\n",
       "       [1., 1., 1., 1., 1.]])"
      ]
     },
     "execution_count": 7,
     "metadata": {},
     "output_type": "execute_result"
    }
   ],
   "source": [
    "np.ones((3,5))"
   ]
  },
  {
   "cell_type": "code",
   "execution_count": 8,
   "id": "cc4f5d92",
   "metadata": {},
   "outputs": [
    {
     "data": {
      "text/plain": [
       "array([[5., 5.],\n",
       "       [5., 5.]])"
      ]
     },
     "execution_count": 8,
     "metadata": {},
     "output_type": "execute_result"
    }
   ],
   "source": [
    "np.full([2,2], 5.0)"
   ]
  },
  {
   "cell_type": "code",
   "execution_count": 9,
   "id": "c42346c9",
   "metadata": {},
   "outputs": [
    {
     "data": {
      "text/plain": [
       "array([[5., 5.],\n",
       "       [5., 5.]])"
      ]
     },
     "execution_count": 9,
     "metadata": {},
     "output_type": "execute_result"
    }
   ],
   "source": [
    "np.empty((2,2))"
   ]
  },
  {
   "cell_type": "code",
   "execution_count": 10,
   "id": "dfbfb3d1",
   "metadata": {},
   "outputs": [
    {
     "data": {
      "text/plain": [
       "array([[1., 0., 0., 0., 0.],\n",
       "       [0., 1., 0., 0., 0.],\n",
       "       [0., 0., 1., 0., 0.]])"
      ]
     },
     "execution_count": 10,
     "metadata": {},
     "output_type": "execute_result"
    }
   ],
   "source": [
    "np.eye(3, 5)"
   ]
  },
  {
   "cell_type": "markdown",
   "id": "d889b506",
   "metadata": {},
   "source": [
    "# np.random"
   ]
  },
  {
   "cell_type": "markdown",
   "id": "c07d391b",
   "metadata": {},
   "source": [
    "정규분포로 뽑는 함수 + size를 파라미터 각각으로 받는 함수\n",
    "\n",
    "`np.random.randn(2,2)`\n",
    "\n",
    "---\n",
    "\n",
    "\n",
    "균등분포로 뽑는 함수 + size를 파라미터 각각으로 받는 함수\n",
    "\n",
    "`np.random.rand(2, 2)`\n",
    "\n",
    "---\n",
    "\n",
    "균등분포인데 size를 list or tuple로 함수들\n",
    "\n",
    "`np.random.random((2, 2))`\n",
    "\n",
    "`np.random.randint(0, 10, (2, 2))`\n",
    "\n",
    "`np.random.uniform(0, 0.1, (2,2))`"
   ]
  },
  {
   "cell_type": "code",
   "execution_count": 11,
   "id": "ed75ce31",
   "metadata": {},
   "outputs": [
    {
     "data": {
      "text/plain": [
       "array([[ 1.05431601,  0.0313212 ],\n",
       "       [ 0.20858543, -0.96049845]])"
      ]
     },
     "execution_count": 11,
     "metadata": {},
     "output_type": "execute_result"
    }
   ],
   "source": [
    "np.random.randn(2, 2) # 표준 정규 분포"
   ]
  },
  {
   "cell_type": "code",
   "execution_count": 12,
   "id": "8d5243a4",
   "metadata": {},
   "outputs": [
    {
     "data": {
      "text/plain": [
       "array([[0.40244853, 0.02210987],\n",
       "       [0.8245346 , 0.08238093]])"
      ]
     },
     "execution_count": 12,
     "metadata": {},
     "output_type": "execute_result"
    }
   ],
   "source": [
    "np.random.rand(2, 2) # [0, 1)의 균등분포"
   ]
  },
  {
   "cell_type": "code",
   "execution_count": 13,
   "id": "271e7810",
   "metadata": {},
   "outputs": [
    {
     "data": {
      "text/plain": [
       "array([[7, 8],\n",
       "       [9, 5]])"
      ]
     },
     "execution_count": 13,
     "metadata": {},
     "output_type": "execute_result"
    }
   ],
   "source": [
    "np.random.randint(0, 10, [2, 2]) # [low, high) 범위의 정수를 균등 분포로 반환"
   ]
  },
  {
   "cell_type": "code",
   "execution_count": 14,
   "id": "a92e95b7",
   "metadata": {},
   "outputs": [
    {
     "data": {
      "text/plain": [
       "array([[0.35034622, 0.85968126],\n",
       "       [0.4620513 , 0.95140301]])"
      ]
     },
     "execution_count": 14,
     "metadata": {},
     "output_type": "execute_result"
    }
   ],
   "source": [
    "np.random.random((2, 2)) # [0, 1)의 범위를 균등 분포로 반환\n",
    "# np.random.rand()과의 차이: size 입력 파라미터"
   ]
  },
  {
   "cell_type": "code",
   "execution_count": 15,
   "id": "722f85f9",
   "metadata": {},
   "outputs": [
    {
     "data": {
      "text/plain": [
       "array([[0.05141754, 0.0319482 ],\n",
       "       [0.0530711 , 0.07088853]])"
      ]
     },
     "execution_count": 15,
     "metadata": {},
     "output_type": "execute_result"
    }
   ],
   "source": [
    "np.random.uniform(0, 0.1, (2,2)) # [low, high) 범위의 값을 균등 분포로 반환\n",
    "# np.random.random()과의 차이: 범위를 입력 가능"
   ]
  },
  {
   "cell_type": "code",
   "execution_count": 40,
   "id": "38b60901",
   "metadata": {},
   "outputs": [
    {
     "data": {
      "text/plain": [
       "array([[0.77395605, 0.43887844],\n",
       "       [0.85859792, 0.69736803]])"
      ]
     },
     "execution_count": 40,
     "metadata": {},
     "output_type": "execute_result"
    }
   ],
   "source": [
    "# 1.17 이후, 아래 방식을 추천함. np.random namespace도 작동하지만 더이상 개발이 진행되지 않음.\n",
    "rng = np.random.default_rng(seed=42)\n",
    "rng.random((2, 2))"
   ]
  },
  {
   "cell_type": "code",
   "execution_count": 41,
   "id": "3dac428f",
   "metadata": {},
   "outputs": [
    {
     "data": {
      "text/plain": [
       "array([[1.09417735, 1.97562235],\n",
       "       [1.7611397 , 1.78606431]])"
      ]
     },
     "execution_count": 41,
     "metadata": {},
     "output_type": "execute_result"
    }
   ],
   "source": [
    "rng.uniform(1, 2, size=(2,2))"
   ]
  },
  {
   "cell_type": "code",
   "execution_count": 42,
   "id": "0bde5ce3",
   "metadata": {},
   "outputs": [
    {
     "data": {
      "text/plain": [
       "array([5, 1, 8])"
      ]
     },
     "execution_count": 42,
     "metadata": {},
     "output_type": "execute_result"
    }
   ],
   "source": [
    "rng.integers(10, size=3)"
   ]
  },
  {
   "cell_type": "code",
   "execution_count": 43,
   "id": "f2eb584f",
   "metadata": {},
   "outputs": [
    {
     "data": {
      "text/plain": [
       "array([4, 5, 3])"
      ]
     },
     "execution_count": 43,
     "metadata": {},
     "output_type": "execute_result"
    }
   ],
   "source": [
    "rng.integers(10, size=3)"
   ]
  },
  {
   "cell_type": "code",
   "execution_count": 44,
   "id": "2f2cd108",
   "metadata": {},
   "outputs": [
    {
     "data": {
      "text/plain": [
       "array([1, 9])"
      ]
     },
     "execution_count": 44,
     "metadata": {},
     "output_type": "execute_result"
    }
   ],
   "source": [
    "rng.choice(np.arange(10), 2)"
   ]
  },
  {
   "cell_type": "markdown",
   "id": "4e5f090f",
   "metadata": {},
   "source": [
    "# 배열 속성\n",
    "\n",
    "`.ndim`\n",
    "`.shape`\n",
    "`.size`"
   ]
  },
  {
   "cell_type": "code",
   "execution_count": 271,
   "id": "3e62c9b2",
   "metadata": {},
   "outputs": [
    {
     "name": "stdout",
     "output_type": "stream",
     "text": [
      "2\n",
      "(6, 5)\n",
      "30\n"
     ]
    }
   ],
   "source": [
    "a = np.random.randint(0, 10, (6, 5))\n",
    "print(a.ndim)\n",
    "print(a.shape)\n",
    "print(a.size)"
   ]
  },
  {
   "cell_type": "markdown",
   "id": "8d592a24",
   "metadata": {},
   "source": [
    "# 배열 인덱싱\n",
    "\n",
    "`start:stop:step`\n",
    "-> 시작행 : stop-1행까지 : 간격\n",
    "\n",
    "step이 -1 이면 역방향"
   ]
  },
  {
   "cell_type": "code",
   "execution_count": 322,
   "id": "8874121b",
   "metadata": {},
   "outputs": [
    {
     "data": {
      "text/plain": [
       "array([[12,  4,  2,  0],\n",
       "       [ 2, 10,  0,  8],\n",
       "       [ 5,  3,  9,  6],\n",
       "       [ 0,  9, 11,  6]])"
      ]
     },
     "execution_count": 322,
     "metadata": {},
     "output_type": "execute_result"
    }
   ],
   "source": [
    "x2 = np.random.randint(0, 13, [4,4])\n",
    "x2"
   ]
  },
  {
   "cell_type": "code",
   "execution_count": 323,
   "id": "8639f5ec",
   "metadata": {},
   "outputs": [
    {
     "data": {
      "text/plain": [
       "array([[ 2, 10,  0,  8]])"
      ]
     },
     "execution_count": 323,
     "metadata": {},
     "output_type": "execute_result"
    }
   ],
   "source": [
    "x2[1:2]"
   ]
  },
  {
   "cell_type": "code",
   "execution_count": 324,
   "id": "5fecd1c1",
   "metadata": {},
   "outputs": [
    {
     "data": {
      "text/plain": [
       "array([[12,  4,  2],\n",
       "       [ 2, 10,  0]])"
      ]
     },
     "execution_count": 324,
     "metadata": {},
     "output_type": "execute_result"
    }
   ],
   "source": [
    "x2[:2, :3]"
   ]
  },
  {
   "cell_type": "code",
   "execution_count": 325,
   "id": "802ccb05",
   "metadata": {},
   "outputs": [
    {
     "data": {
      "text/plain": [
       "array([[ 0, 11],\n",
       "       [ 5,  9],\n",
       "       [ 2,  0],\n",
       "       [12,  2]])"
      ]
     },
     "execution_count": 325,
     "metadata": {},
     "output_type": "execute_result"
    }
   ],
   "source": [
    "x2[::-1, ::2]"
   ]
  },
  {
   "cell_type": "markdown",
   "id": "4a781da2",
   "metadata": {},
   "source": [
    "# axis\n",
    "\n",
    "중첩 리스트: 가장 바깥쪽 리스트부터 안쪽 리스트 순으로 0부터 이름을 붙인것\n",
    "\n",
    "- axis = 0 -> 가장 바깥\n",
    "- axis = 1 -> 그다음\n",
    "- axis = 2 -> 가장 안쪽"
   ]
  },
  {
   "cell_type": "code",
   "execution_count": 45,
   "id": "7277627c",
   "metadata": {},
   "outputs": [],
   "source": [
    "grid = np.arange(20).reshape(5, 2, -1)"
   ]
  },
  {
   "cell_type": "code",
   "execution_count": 46,
   "id": "b53b854f",
   "metadata": {},
   "outputs": [
    {
     "data": {
      "text/plain": [
       "array([[[ 0,  1],\n",
       "        [ 2,  3]],\n",
       "\n",
       "       [[ 4,  5],\n",
       "        [ 6,  7]],\n",
       "\n",
       "       [[ 8,  9],\n",
       "        [10, 11]],\n",
       "\n",
       "       [[12, 13],\n",
       "        [14, 15]],\n",
       "\n",
       "       [[16, 17],\n",
       "        [18, 19]]])"
      ]
     },
     "execution_count": 46,
     "metadata": {},
     "output_type": "execute_result"
    }
   ],
   "source": [
    "grid"
   ]
  },
  {
   "cell_type": "code",
   "execution_count": 47,
   "id": "fa117f42",
   "metadata": {},
   "outputs": [
    {
     "name": "stdout",
     "output_type": "stream",
     "text": [
      "(5, 2, 2)\n",
      "(5, 2, 0)\n"
     ]
    }
   ],
   "source": [
    "a, b = np.split(grid, [20], axis=2)\n",
    "# print(a)\n",
    "print(a.shape)\n",
    "print(b.shape)"
   ]
  },
  {
   "cell_type": "code",
   "execution_count": 48,
   "id": "1bcb3be8",
   "metadata": {},
   "outputs": [
    {
     "data": {
      "text/plain": [
       "array([[[ 0,  1],\n",
       "        [ 2,  3]],\n",
       "\n",
       "       [[ 4,  5],\n",
       "        [ 6,  7]],\n",
       "\n",
       "       [[ 8,  9],\n",
       "        [10, 11]],\n",
       "\n",
       "       [[12, 13],\n",
       "        [14, 15]],\n",
       "\n",
       "       [[16, 17],\n",
       "        [18, 19]]])"
      ]
     },
     "execution_count": 48,
     "metadata": {},
     "output_type": "execute_result"
    }
   ],
   "source": [
    "a"
   ]
  },
  {
   "cell_type": "code",
   "execution_count": 49,
   "id": "4e67c8a1",
   "metadata": {},
   "outputs": [
    {
     "data": {
      "text/plain": [
       "array([], shape=(5, 2, 0), dtype=int64)"
      ]
     },
     "execution_count": 49,
     "metadata": {},
     "output_type": "execute_result"
    }
   ],
   "source": [
    "b"
   ]
  },
  {
   "cell_type": "code",
   "execution_count": 50,
   "id": "a71c784f",
   "metadata": {},
   "outputs": [
    {
     "data": {
      "text/plain": [
       "array([[[ 0,  1],\n",
       "        [ 2,  3]],\n",
       "\n",
       "       [[ 4,  5],\n",
       "        [ 6,  7]],\n",
       "\n",
       "       [[ 8,  9],\n",
       "        [10, 11]],\n",
       "\n",
       "       [[12, 13],\n",
       "        [14, 15]],\n",
       "\n",
       "       [[16, 17],\n",
       "        [18, 19]]])"
      ]
     },
     "execution_count": 50,
     "metadata": {},
     "output_type": "execute_result"
    }
   ],
   "source": [
    "grid"
   ]
  },
  {
   "cell_type": "code",
   "execution_count": 51,
   "id": "37277d5f",
   "metadata": {},
   "outputs": [
    {
     "data": {
      "text/plain": [
       "array([[0, 1],\n",
       "       [2, 3]])"
      ]
     },
     "execution_count": 51,
     "metadata": {},
     "output_type": "execute_result"
    }
   ],
   "source": [
    "grid[0]"
   ]
  },
  {
   "cell_type": "code",
   "execution_count": 52,
   "id": "c834528d",
   "metadata": {},
   "outputs": [
    {
     "data": {
      "text/plain": [
       "array([[4, 5],\n",
       "       [6, 7]])"
      ]
     },
     "execution_count": 52,
     "metadata": {},
     "output_type": "execute_result"
    }
   ],
   "source": [
    "grid[1]"
   ]
  },
  {
   "cell_type": "code",
   "execution_count": 53,
   "id": "5baa1d66",
   "metadata": {},
   "outputs": [
    {
     "data": {
      "text/plain": [
       "array([[ 0,  1],\n",
       "       [ 4,  5],\n",
       "       [ 8,  9],\n",
       "       [12, 13],\n",
       "       [16, 17]])"
      ]
     },
     "execution_count": 53,
     "metadata": {},
     "output_type": "execute_result"
    }
   ],
   "source": [
    "grid[:, 0]"
   ]
  },
  {
   "cell_type": "code",
   "execution_count": null,
   "id": "c5a12845",
   "metadata": {},
   "outputs": [],
   "source": []
  },
  {
   "cell_type": "code",
   "execution_count": null,
   "id": "c44c2617",
   "metadata": {},
   "outputs": [],
   "source": []
  },
  {
   "cell_type": "code",
   "execution_count": null,
   "id": "66c3de26",
   "metadata": {},
   "outputs": [],
   "source": []
  },
  {
   "cell_type": "code",
   "execution_count": 55,
   "id": "c3f3e238",
   "metadata": {},
   "outputs": [
    {
     "data": {
      "text/plain": [
       "array([[[ 0,  1,  2,  3,  4],\n",
       "        [ 5,  6,  7,  8,  9]],\n",
       "\n",
       "       [[10, 11, 12, 13, 14],\n",
       "        [15, 16, 17, 18, 19]]])"
      ]
     },
     "execution_count": 55,
     "metadata": {},
     "output_type": "execute_result"
    }
   ],
   "source": [
    "grid = np.arange(20).reshape(2, 2, -1)\n",
    "grid\n"
   ]
  },
  {
   "cell_type": "code",
   "execution_count": 56,
   "id": "617bd37f",
   "metadata": {},
   "outputs": [
    {
     "data": {
      "text/plain": [
       "(2, 2, 5)"
      ]
     },
     "execution_count": 56,
     "metadata": {},
     "output_type": "execute_result"
    }
   ],
   "source": [
    "grid.shape"
   ]
  },
  {
   "cell_type": "code",
   "execution_count": 57,
   "id": "2625745b",
   "metadata": {},
   "outputs": [
    {
     "data": {
      "text/plain": [
       "array([[0, 1, 2, 3, 4],\n",
       "       [5, 6, 7, 8, 9]])"
      ]
     },
     "execution_count": 57,
     "metadata": {},
     "output_type": "execute_result"
    }
   ],
   "source": [
    "grid[0, :, :]"
   ]
  },
  {
   "cell_type": "code",
   "execution_count": 58,
   "id": "5b471b9a",
   "metadata": {},
   "outputs": [
    {
     "data": {
      "text/plain": [
       "array([[ 0,  1,  2,  3,  4],\n",
       "       [10, 11, 12, 13, 14]])"
      ]
     },
     "execution_count": 58,
     "metadata": {},
     "output_type": "execute_result"
    }
   ],
   "source": [
    "grid[:, 0, :]"
   ]
  },
  {
   "cell_type": "code",
   "execution_count": 59,
   "id": "860ce538",
   "metadata": {},
   "outputs": [
    {
     "data": {
      "text/plain": [
       "10"
      ]
     },
     "execution_count": 59,
     "metadata": {},
     "output_type": "execute_result"
    }
   ],
   "source": [
    "grid[1, 0, 0]"
   ]
  },
  {
   "cell_type": "code",
   "execution_count": 60,
   "id": "8dd317c6",
   "metadata": {},
   "outputs": [
    {
     "data": {
      "text/plain": [
       "array([[0, 1, 2, 3, 4],\n",
       "       [5, 6, 7, 8, 9]])"
      ]
     },
     "execution_count": 60,
     "metadata": {},
     "output_type": "execute_result"
    }
   ],
   "source": [
    "grid = np.arange(10).reshape(2, 5)\n",
    "grid"
   ]
  },
  {
   "cell_type": "code",
   "execution_count": null,
   "id": "143d4932",
   "metadata": {},
   "outputs": [],
   "source": []
  },
  {
   "cell_type": "code",
   "execution_count": null,
   "id": "ab8b4c6d",
   "metadata": {},
   "outputs": [],
   "source": []
  }
 ],
 "metadata": {
  "hide_input": false,
  "kernelspec": {
   "display_name": "Python 3 (ipykernel)",
   "language": "python",
   "name": "python3"
  },
  "language_info": {
   "codemirror_mode": {
    "name": "ipython",
    "version": 3
   },
   "file_extension": ".py",
   "mimetype": "text/x-python",
   "name": "python",
   "nbconvert_exporter": "python",
   "pygments_lexer": "ipython3",
   "version": "3.7.11"
  }
 },
 "nbformat": 4,
 "nbformat_minor": 5
}
