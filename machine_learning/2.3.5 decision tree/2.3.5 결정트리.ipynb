{
 "cells": [
  {
   "cell_type": "code",
   "execution_count": 1,
   "id": "8953be58",
   "metadata": {},
   "outputs": [
    {
     "name": "stderr",
     "output_type": "stream",
     "text": [
      "/home/jmhwang/miniconda3/envs/adp/lib/python3.7/importlib/_bootstrap.py:219: RuntimeWarning: numpy.ufunc size changed, may indicate binary incompatibility. Expected 192 from C header, got 216 from PyObject\n",
      "  return f(*args, **kwds)\n",
      "/home/jmhwang/miniconda3/envs/adp/lib/python3.7/importlib/_bootstrap.py:219: RuntimeWarning: numpy.ufunc size changed, may indicate binary incompatibility. Expected 192 from C header, got 216 from PyObject\n",
      "  return f(*args, **kwds)\n",
      "/home/jmhwang/miniconda3/envs/adp/lib/python3.7/importlib/_bootstrap.py:219: RuntimeWarning: numpy.ufunc size changed, may indicate binary incompatibility. Expected 192 from C header, got 216 from PyObject\n",
      "  return f(*args, **kwds)\n"
     ]
    }
   ],
   "source": [
    "import mglearn"
   ]
  },
  {
   "cell_type": "code",
   "execution_count": 3,
   "id": "9e13ac53",
   "metadata": {},
   "outputs": [
    {
     "data": {
      "image/png": "[encoded data removed]",
      "text/plain": [
       "<Figure size 432x288 with 1 Axes>"
      ]
     },
     "metadata": {
      "needs_background": "light"
     },
     "output_type": "display_data"
    }
   ],
   "source": [
    "mglearn.plots.plot_animal_tree()"
   ]
  },
  {
   "cell_type": "code",
   "execution_count": 4,
   "id": "f2baf42a",
   "metadata": {},
   "outputs": [],
   "source": [
    "from sklearn.tree import DecisionTreeClassifier"
   ]
  },
  {
   "cell_type": "code",
   "execution_count": 5,
   "id": "981f0854",
   "metadata": {},
   "outputs": [],
   "source": [
    "from sklearn.datasets import load_breast_cancer"
   ]
  },
  {
   "cell_type": "code",
   "execution_count": 7,
   "id": "96acbb76",
   "metadata": {},
   "outputs": [],
   "source": [
    "from sklearn.model_selection import train_test_split"
   ]
  },
  {
   "cell_type": "code",
   "execution_count": 6,
   "id": "dba135bf",
   "metadata": {},
   "outputs": [],
   "source": [
    "cancer = load_breast_cancer()"
   ]
  },
  {
   "cell_type": "code",
   "execution_count": 9,
   "id": "3e783aea",
   "metadata": {},
   "outputs": [],
   "source": [
    "X_train, X_test, y_train, y_test = train_test_split(cancer.data, cancer.target, stratify=cancer.target, random_state=42)"
   ]
  },
  {
   "cell_type": "code",
   "execution_count": 10,
   "id": "b4983a9d",
   "metadata": {},
   "outputs": [],
   "source": [
    "tree = DecisionTreeClassifier(random_state=0)"
   ]
  },
  {
   "cell_type": "code",
   "execution_count": 11,
   "id": "95b9e832",
   "metadata": {},
   "outputs": [
    {
     "data": {
      "text/plain": [
       "DecisionTreeClassifier(random_state=0)"
      ]
     },
     "execution_count": 11,
     "metadata": {},
     "output_type": "execute_result"
    }
   ],
   "source": [
    "tree.fit(X_train, y_train)"
   ]
  },
  {
   "cell_type": "code",
   "execution_count": 12,
   "id": "f814db1b",
   "metadata": {},
   "outputs": [
    {
     "data": {
      "text/plain": [
       "1.0"
      ]
     },
     "execution_count": 12,
     "metadata": {},
     "output_type": "execute_result"
    }
   ],
   "source": [
    "tree.score(X_train, y_train)"
   ]
  },
  {
   "cell_type": "code",
   "execution_count": 14,
   "id": "07376014",
   "metadata": {},
   "outputs": [
    {
     "data": {
      "text/plain": [
       "0.9370629370629371"
      ]
     },
     "execution_count": 14,
     "metadata": {},
     "output_type": "execute_result"
    }
   ],
   "source": [
    "tree.score(X_test, y_test)"
   ]
  },
  {
   "cell_type": "markdown",
   "id": "79fd564b",
   "metadata": {},
   "source": [
    "# 사전 가지치기\n",
    "- sklearn에서는 사전 가지치기만 지원"
   ]
  },
  {
   "cell_type": "code",
   "execution_count": 18,
   "id": "8bc516c8",
   "metadata": {},
   "outputs": [
    {
     "data": {
      "text/plain": [
       "DecisionTreeClassifier(max_depth=4, random_state=0)"
      ]
     },
     "execution_count": 18,
     "metadata": {},
     "output_type": "execute_result"
    }
   ],
   "source": [
    "tree = DecisionTreeClassifier(max_depth=4, random_state=0)\n",
    "tree.fit(X_train, y_train)"
   ]
  },
  {
   "cell_type": "code",
   "execution_count": 19,
   "id": "3c9c9600",
   "metadata": {},
   "outputs": [
    {
     "data": {
      "text/plain": [
       "0.9882629107981221"
      ]
     },
     "execution_count": 19,
     "metadata": {},
     "output_type": "execute_result"
    }
   ],
   "source": [
    "tree.score(X_train, y_train)"
   ]
  },
  {
   "cell_type": "code",
   "execution_count": 20,
   "id": "785b5763",
   "metadata": {},
   "outputs": [
    {
     "data": {
      "text/plain": [
       "0.951048951048951"
      ]
     },
     "execution_count": 20,
     "metadata": {},
     "output_type": "execute_result"
    }
   ],
   "source": [
    "tree.score(X_test, y_test)"
   ]
  },
  {
   "cell_type": "markdown",
   "id": "bb959516",
   "metadata": {},
   "source": [
    "# 결정트리 분석"
   ]
  },
  {
   "cell_type": "code",
   "execution_count": 26,
   "id": "377f1b6c",
   "metadata": {},
   "outputs": [
    {
     "data": {
      "text/plain": [
       "(569, 30)"
      ]
     },
     "execution_count": 26,
     "metadata": {},
     "output_type": "execute_result"
    }
   ],
   "source": [
    "cancer.data.shape"
   ]
  },
  {
   "cell_type": "code",
   "execution_count": 21,
   "id": "c1f0644b",
   "metadata": {},
   "outputs": [],
   "source": [
    "from sklearn.tree import export_graphviz"
   ]
  },
  {
   "cell_type": "code",
   "execution_count": 22,
   "id": "9e3c9ef3",
   "metadata": {},
   "outputs": [],
   "source": [
    "export_graphviz(\n",
    "    tree, \n",
    "    out_file='tree.dot', \n",
    "    class_names=[\"악성\", \"양성\"], \n",
    "    feature_names=cancer.feature_names, \n",
    "    impurity=False, \n",
    "    filled=True)"
   ]
  },
  {
   "cell_type": "code",
   "execution_count": 23,
   "id": "e7de7c11",
   "metadata": {},
   "outputs": [],
   "source": [
    "import graphviz"
   ]
  },
  {
   "cell_type": "code",
   "execution_count": 25,
   "id": "aaa9a184",
   "metadata": {
    "scrolled": false
   },
   "outputs": [
    {
     "data": {
      "image/svg+xml": [
       "<?xml version=\"1.0\" encoding=\"UTF-8\" standalone=\"no\"?>\n",
       "<!DOCTYPE svg PUBLIC \"-//W3C//DTD SVG 1.1//EN\"\n",
       " \"http://www.w3.org/Graphics/SVG/1.1/DTD/svg11.dtd\">\n",
       "<!-- Generated by graphviz version 2.43.0 (0)\n",
       " -->\n",
       "<!-- Title: Tree Pages: 1 -->\n",
       "<svg width=\"1184pt\" height=\"477pt\"\n",
       " viewBox=\"0.00 0.00 1183.50 477.00\" xmlns=\"http://www.w3.org/2000/svg\" xmlns:xlink=\"http://www.w3.org/1999/xlink\">\n",
       "<g id=\"graph0\" class=\"graph\" transform=\"scale(1 1) rotate(0) translate(4 473)\">\n",
       "<title>Tree</title>\n",
       "<polygon fill=\"white\" stroke=\"transparent\" points=\"-4,4 -4,-473 1179.5,-473 1179.5,4 -4,4\"/>\n",
       "<!-- 0 -->\n",
       "<g id=\"node1\" class=\"node\">\n",
       "<title>0</title>\n",
       "<polygon fill=\"#afd7f4\" stroke=\"black\" points=\"730.5,-469 541.5,-469 541.5,-401 730.5,-401 730.5,-469\"/>\n",
       "<text text-anchor=\"middle\" x=\"636\" y=\"-453.8\" font-family=\"Times,serif\" font-size=\"14.00\">worst radius &lt;= 16.795</text>\n",
       "<text text-anchor=\"middle\" x=\"636\" y=\"-438.8\" font-family=\"Times,serif\" font-size=\"14.00\">samples = 426</text>\n",
       "<text text-anchor=\"middle\" x=\"636\" y=\"-423.8\" font-family=\"Times,serif\" font-size=\"14.00\">value = [159, 267]</text>\n",
       "<text text-anchor=\"middle\" x=\"636\" y=\"-408.8\" font-family=\"Times,serif\" font-size=\"14.00\">class = 양성</text>\n",
       "</g>\n",
       "<!-- 1 -->\n",
       "<g id=\"node2\" class=\"node\">\n",
       "<title>1</title>\n",
       "<polygon fill=\"#4ca6e8\" stroke=\"black\" points=\"626.5,-365 385.5,-365 385.5,-297 626.5,-297 626.5,-365\"/>\n",
       "<text text-anchor=\"middle\" x=\"506\" y=\"-349.8\" font-family=\"Times,serif\" font-size=\"14.00\">worst concave points &lt;= 0.136</text>\n",
       "<text text-anchor=\"middle\" x=\"506\" y=\"-334.8\" font-family=\"Times,serif\" font-size=\"14.00\">samples = 284</text>\n",
       "<text text-anchor=\"middle\" x=\"506\" y=\"-319.8\" font-family=\"Times,serif\" font-size=\"14.00\">value = [25, 259]</text>\n",
       "<text text-anchor=\"middle\" x=\"506\" y=\"-304.8\" font-family=\"Times,serif\" font-size=\"14.00\">class = 양성</text>\n",
       "</g>\n",
       "<!-- 0&#45;&gt;1 -->\n",
       "<g id=\"edge1\" class=\"edge\">\n",
       "<title>0&#45;&gt;1</title>\n",
       "<path fill=\"none\" stroke=\"black\" d=\"M593.79,-400.88C581.87,-391.53 568.78,-381.26 556.43,-371.57\"/>\n",
       "<polygon fill=\"black\" stroke=\"black\" points=\"558.47,-368.72 548.44,-365.3 554.15,-374.23 558.47,-368.72\"/>\n",
       "<text text-anchor=\"middle\" x=\"551.44\" y=\"-386.42\" font-family=\"Times,serif\" font-size=\"14.00\">True</text>\n",
       "</g>\n",
       "<!-- 14 -->\n",
       "<g id=\"node15\" class=\"node\">\n",
       "<title>14</title>\n",
       "<polygon fill=\"#e78945\" stroke=\"black\" points=\"837,-365 653,-365 653,-297 837,-297 837,-365\"/>\n",
       "<text text-anchor=\"middle\" x=\"745\" y=\"-349.8\" font-family=\"Times,serif\" font-size=\"14.00\">texture error &lt;= 0.473</text>\n",
       "<text text-anchor=\"middle\" x=\"745\" y=\"-334.8\" font-family=\"Times,serif\" font-size=\"14.00\">samples = 142</text>\n",
       "<text text-anchor=\"middle\" x=\"745\" y=\"-319.8\" font-family=\"Times,serif\" font-size=\"14.00\">value = [134, 8]</text>\n",
       "<text text-anchor=\"middle\" x=\"745\" y=\"-304.8\" font-family=\"Times,serif\" font-size=\"14.00\">class = 악성</text>\n",
       "</g>\n",
       "<!-- 0&#45;&gt;14 -->\n",
       "<g id=\"edge14\" class=\"edge\">\n",
       "<title>0&#45;&gt;14</title>\n",
       "<path fill=\"none\" stroke=\"black\" d=\"M671.39,-400.88C681.1,-391.8 691.73,-381.85 701.83,-372.4\"/>\n",
       "<polygon fill=\"black\" stroke=\"black\" points=\"704.51,-374.69 709.42,-365.3 699.72,-369.58 704.51,-374.69\"/>\n",
       "<text text-anchor=\"middle\" x=\"708.59\" y=\"-386.59\" font-family=\"Times,serif\" font-size=\"14.00\">False</text>\n",
       "</g>\n",
       "<!-- 2 -->\n",
       "<g id=\"node3\" class=\"node\">\n",
       "<title>2</title>\n",
       "<polygon fill=\"#3c9fe5\" stroke=\"black\" points=\"379,-261 203,-261 203,-193 379,-193 379,-261\"/>\n",
       "<text text-anchor=\"middle\" x=\"291\" y=\"-245.8\" font-family=\"Times,serif\" font-size=\"14.00\">radius error &lt;= 1.048</text>\n",
       "<text text-anchor=\"middle\" x=\"291\" y=\"-230.8\" font-family=\"Times,serif\" font-size=\"14.00\">samples = 252</text>\n",
       "<text text-anchor=\"middle\" x=\"291\" y=\"-215.8\" font-family=\"Times,serif\" font-size=\"14.00\">value = [4, 248]</text>\n",
       "<text text-anchor=\"middle\" x=\"291\" y=\"-200.8\" font-family=\"Times,serif\" font-size=\"14.00\">class = 양성</text>\n",
       "</g>\n",
       "<!-- 1&#45;&gt;2 -->\n",
       "<g id=\"edge2\" class=\"edge\">\n",
       "<title>1&#45;&gt;2</title>\n",
       "<path fill=\"none\" stroke=\"black\" d=\"M436.2,-296.88C415.06,-286.86 391.7,-275.77 370.01,-265.48\"/>\n",
       "<polygon fill=\"black\" stroke=\"black\" points=\"371.36,-262.25 360.82,-261.12 368.36,-268.57 371.36,-262.25\"/>\n",
       "</g>\n",
       "<!-- 7 -->\n",
       "<g id=\"node8\" class=\"node\">\n",
       "<title>7</title>\n",
       "<polygon fill=\"#f3c3a1\" stroke=\"black\" points=\"600,-261 412,-261 412,-193 600,-193 600,-261\"/>\n",
       "<text text-anchor=\"middle\" x=\"506\" y=\"-245.8\" font-family=\"Times,serif\" font-size=\"14.00\">worst texture &lt;= 25.62</text>\n",
       "<text text-anchor=\"middle\" x=\"506\" y=\"-230.8\" font-family=\"Times,serif\" font-size=\"14.00\">samples = 32</text>\n",
       "<text text-anchor=\"middle\" x=\"506\" y=\"-215.8\" font-family=\"Times,serif\" font-size=\"14.00\">value = [21, 11]</text>\n",
       "<text text-anchor=\"middle\" x=\"506\" y=\"-200.8\" font-family=\"Times,serif\" font-size=\"14.00\">class = 악성</text>\n",
       "</g>\n",
       "<!-- 1&#45;&gt;7 -->\n",
       "<g id=\"edge7\" class=\"edge\">\n",
       "<title>1&#45;&gt;7</title>\n",
       "<path fill=\"none\" stroke=\"black\" d=\"M506,-296.88C506,-288.78 506,-279.98 506,-271.47\"/>\n",
       "<polygon fill=\"black\" stroke=\"black\" points=\"509.5,-271.3 506,-261.3 502.5,-271.3 509.5,-271.3\"/>\n",
       "</g>\n",
       "<!-- 3 -->\n",
       "<g id=\"node4\" class=\"node\">\n",
       "<title>3</title>\n",
       "<polygon fill=\"#3b9ee5\" stroke=\"black\" points=\"216,-157 0,-157 0,-89 216,-89 216,-157\"/>\n",
       "<text text-anchor=\"middle\" x=\"108\" y=\"-141.8\" font-family=\"Times,serif\" font-size=\"14.00\">smoothness error &lt;= 0.003</text>\n",
       "<text text-anchor=\"middle\" x=\"108\" y=\"-126.8\" font-family=\"Times,serif\" font-size=\"14.00\">samples = 251</text>\n",
       "<text text-anchor=\"middle\" x=\"108\" y=\"-111.8\" font-family=\"Times,serif\" font-size=\"14.00\">value = [3, 248]</text>\n",
       "<text text-anchor=\"middle\" x=\"108\" y=\"-96.8\" font-family=\"Times,serif\" font-size=\"14.00\">class = 양성</text>\n",
       "</g>\n",
       "<!-- 2&#45;&gt;3 -->\n",
       "<g id=\"edge3\" class=\"edge\">\n",
       "<title>2&#45;&gt;3</title>\n",
       "<path fill=\"none\" stroke=\"black\" d=\"M231.59,-192.88C213.92,-183.04 194.42,-172.17 176.24,-162.03\"/>\n",
       "<polygon fill=\"black\" stroke=\"black\" points=\"177.87,-158.94 167.43,-157.12 174.46,-165.05 177.87,-158.94\"/>\n",
       "</g>\n",
       "<!-- 6 -->\n",
       "<g id=\"node7\" class=\"node\">\n",
       "<title>6</title>\n",
       "<polygon fill=\"#e58139\" stroke=\"black\" points=\"347.5,-149.5 234.5,-149.5 234.5,-96.5 347.5,-96.5 347.5,-149.5\"/>\n",
       "<text text-anchor=\"middle\" x=\"291\" y=\"-134.3\" font-family=\"Times,serif\" font-size=\"14.00\">samples = 1</text>\n",
       "<text text-anchor=\"middle\" x=\"291\" y=\"-119.3\" font-family=\"Times,serif\" font-size=\"14.00\">value = [1, 0]</text>\n",
       "<text text-anchor=\"middle\" x=\"291\" y=\"-104.3\" font-family=\"Times,serif\" font-size=\"14.00\">class = 악성</text>\n",
       "</g>\n",
       "<!-- 2&#45;&gt;6 -->\n",
       "<g id=\"edge6\" class=\"edge\">\n",
       "<title>2&#45;&gt;6</title>\n",
       "<path fill=\"none\" stroke=\"black\" d=\"M291,-192.88C291,-182.33 291,-170.6 291,-159.85\"/>\n",
       "<polygon fill=\"black\" stroke=\"black\" points=\"294.5,-159.52 291,-149.52 287.5,-159.52 294.5,-159.52\"/>\n",
       "</g>\n",
       "<!-- 4 -->\n",
       "<g id=\"node5\" class=\"node\">\n",
       "<title>4</title>\n",
       "<polygon fill=\"#7bbeee\" stroke=\"black\" points=\"142.5,-53 29.5,-53 29.5,0 142.5,0 142.5,-53\"/>\n",
       "<text text-anchor=\"middle\" x=\"86\" y=\"-37.8\" font-family=\"Times,serif\" font-size=\"14.00\">samples = 4</text>\n",
       "<text text-anchor=\"middle\" x=\"86\" y=\"-22.8\" font-family=\"Times,serif\" font-size=\"14.00\">value = [1, 3]</text>\n",
       "<text text-anchor=\"middle\" x=\"86\" y=\"-7.8\" font-family=\"Times,serif\" font-size=\"14.00\">class = 양성</text>\n",
       "</g>\n",
       "<!-- 3&#45;&gt;4 -->\n",
       "<g id=\"edge4\" class=\"edge\">\n",
       "<title>3&#45;&gt;4</title>\n",
       "<path fill=\"none\" stroke=\"black\" d=\"M100.31,-88.95C98.37,-80.62 96.28,-71.65 94.31,-63.2\"/>\n",
       "<polygon fill=\"black\" stroke=\"black\" points=\"97.67,-62.18 91.99,-53.24 90.85,-63.77 97.67,-62.18\"/>\n",
       "</g>\n",
       "<!-- 5 -->\n",
       "<g id=\"node6\" class=\"node\">\n",
       "<title>5</title>\n",
       "<polygon fill=\"#3b9ee5\" stroke=\"black\" points=\"291.5,-53 160.5,-53 160.5,0 291.5,0 291.5,-53\"/>\n",
       "<text text-anchor=\"middle\" x=\"226\" y=\"-37.8\" font-family=\"Times,serif\" font-size=\"14.00\">samples = 247</text>\n",
       "<text text-anchor=\"middle\" x=\"226\" y=\"-22.8\" font-family=\"Times,serif\" font-size=\"14.00\">value = [2, 245]</text>\n",
       "<text text-anchor=\"middle\" x=\"226\" y=\"-7.8\" font-family=\"Times,serif\" font-size=\"14.00\">class = 양성</text>\n",
       "</g>\n",
       "<!-- 3&#45;&gt;5 -->\n",
       "<g id=\"edge5\" class=\"edge\">\n",
       "<title>3&#45;&gt;5</title>\n",
       "<path fill=\"none\" stroke=\"black\" d=\"M149.27,-88.95C161.15,-79.43 174.09,-69.07 185.9,-59.62\"/>\n",
       "<polygon fill=\"black\" stroke=\"black\" points=\"188.25,-62.22 193.86,-53.24 183.87,-56.76 188.25,-62.22\"/>\n",
       "</g>\n",
       "<!-- 8 -->\n",
       "<g id=\"node9\" class=\"node\">\n",
       "<title>8</title>\n",
       "<polygon fill=\"#7bbeee\" stroke=\"black\" points=\"586,-157 366,-157 366,-89 586,-89 586,-157\"/>\n",
       "<text text-anchor=\"middle\" x=\"476\" y=\"-141.8\" font-family=\"Times,serif\" font-size=\"14.00\">worst smoothness &lt;= 0.179</text>\n",
       "<text text-anchor=\"middle\" x=\"476\" y=\"-126.8\" font-family=\"Times,serif\" font-size=\"14.00\">samples = 12</text>\n",
       "<text text-anchor=\"middle\" x=\"476\" y=\"-111.8\" font-family=\"Times,serif\" font-size=\"14.00\">value = [3, 9]</text>\n",
       "<text text-anchor=\"middle\" x=\"476\" y=\"-96.8\" font-family=\"Times,serif\" font-size=\"14.00\">class = 양성</text>\n",
       "</g>\n",
       "<!-- 7&#45;&gt;8 -->\n",
       "<g id=\"edge8\" class=\"edge\">\n",
       "<title>7&#45;&gt;8</title>\n",
       "<path fill=\"none\" stroke=\"black\" d=\"M496.26,-192.88C493.82,-184.6 491.18,-175.6 488.62,-166.91\"/>\n",
       "<polygon fill=\"black\" stroke=\"black\" points=\"491.97,-165.91 485.79,-157.3 485.26,-167.88 491.97,-165.91\"/>\n",
       "</g>\n",
       "<!-- 11 -->\n",
       "<g id=\"node12\" class=\"node\">\n",
       "<title>11</title>\n",
       "<polygon fill=\"#e88f4f\" stroke=\"black\" points=\"811.5,-157 604.5,-157 604.5,-89 811.5,-89 811.5,-157\"/>\n",
       "<text text-anchor=\"middle\" x=\"708\" y=\"-141.8\" font-family=\"Times,serif\" font-size=\"14.00\">worst symmetry &lt;= 0.268</text>\n",
       "<text text-anchor=\"middle\" x=\"708\" y=\"-126.8\" font-family=\"Times,serif\" font-size=\"14.00\">samples = 20</text>\n",
       "<text text-anchor=\"middle\" x=\"708\" y=\"-111.8\" font-family=\"Times,serif\" font-size=\"14.00\">value = [18, 2]</text>\n",
       "<text text-anchor=\"middle\" x=\"708\" y=\"-96.8\" font-family=\"Times,serif\" font-size=\"14.00\">class = 악성</text>\n",
       "</g>\n",
       "<!-- 7&#45;&gt;11 -->\n",
       "<g id=\"edge11\" class=\"edge\">\n",
       "<title>7&#45;&gt;11</title>\n",
       "<path fill=\"none\" stroke=\"black\" d=\"M571.58,-192.88C591.26,-182.95 613,-171.97 633.23,-161.76\"/>\n",
       "<polygon fill=\"black\" stroke=\"black\" points=\"635.05,-164.76 642.4,-157.12 631.9,-158.51 635.05,-164.76\"/>\n",
       "</g>\n",
       "<!-- 9 -->\n",
       "<g id=\"node10\" class=\"node\">\n",
       "<title>9</title>\n",
       "<polygon fill=\"#4fa8e8\" stroke=\"black\" points=\"437,-53 323,-53 323,0 437,0 437,-53\"/>\n",
       "<text text-anchor=\"middle\" x=\"380\" y=\"-37.8\" font-family=\"Times,serif\" font-size=\"14.00\">samples = 10</text>\n",
       "<text text-anchor=\"middle\" x=\"380\" y=\"-22.8\" font-family=\"Times,serif\" font-size=\"14.00\">value = [1, 9]</text>\n",
       "<text text-anchor=\"middle\" x=\"380\" y=\"-7.8\" font-family=\"Times,serif\" font-size=\"14.00\">class = 양성</text>\n",
       "</g>\n",
       "<!-- 8&#45;&gt;9 -->\n",
       "<g id=\"edge9\" class=\"edge\">\n",
       "<title>8&#45;&gt;9</title>\n",
       "<path fill=\"none\" stroke=\"black\" d=\"M442.42,-88.95C433.04,-79.71 422.84,-69.67 413.46,-60.44\"/>\n",
       "<polygon fill=\"black\" stroke=\"black\" points=\"415.73,-57.76 406.15,-53.24 410.82,-62.75 415.73,-57.76\"/>\n",
       "</g>\n",
       "<!-- 10 -->\n",
       "<g id=\"node11\" class=\"node\">\n",
       "<title>10</title>\n",
       "<polygon fill=\"#e58139\" stroke=\"black\" points=\"568.5,-53 455.5,-53 455.5,0 568.5,0 568.5,-53\"/>\n",
       "<text text-anchor=\"middle\" x=\"512\" y=\"-37.8\" font-family=\"Times,serif\" font-size=\"14.00\">samples = 2</text>\n",
       "<text text-anchor=\"middle\" x=\"512\" y=\"-22.8\" font-family=\"Times,serif\" font-size=\"14.00\">value = [2, 0]</text>\n",
       "<text text-anchor=\"middle\" x=\"512\" y=\"-7.8\" font-family=\"Times,serif\" font-size=\"14.00\">class = 악성</text>\n",
       "</g>\n",
       "<!-- 8&#45;&gt;10 -->\n",
       "<g id=\"edge10\" class=\"edge\">\n",
       "<title>8&#45;&gt;10</title>\n",
       "<path fill=\"none\" stroke=\"black\" d=\"M488.59,-88.95C491.83,-80.44 495.33,-71.26 498.61,-62.65\"/>\n",
       "<polygon fill=\"black\" stroke=\"black\" points=\"501.91,-63.83 502.2,-53.24 495.36,-61.34 501.91,-63.83\"/>\n",
       "</g>\n",
       "<!-- 12 -->\n",
       "<g id=\"node13\" class=\"node\">\n",
       "<title>12</title>\n",
       "<polygon fill=\"#9ccef2\" stroke=\"black\" points=\"705.5,-53 592.5,-53 592.5,0 705.5,0 705.5,-53\"/>\n",
       "<text text-anchor=\"middle\" x=\"649\" y=\"-37.8\" font-family=\"Times,serif\" font-size=\"14.00\">samples = 3</text>\n",
       "<text text-anchor=\"middle\" x=\"649\" y=\"-22.8\" font-family=\"Times,serif\" font-size=\"14.00\">value = [1, 2]</text>\n",
       "<text text-anchor=\"middle\" x=\"649\" y=\"-7.8\" font-family=\"Times,serif\" font-size=\"14.00\">class = 양성</text>\n",
       "</g>\n",
       "<!-- 11&#45;&gt;12 -->\n",
       "<g id=\"edge12\" class=\"edge\">\n",
       "<title>11&#45;&gt;12</title>\n",
       "<path fill=\"none\" stroke=\"black\" d=\"M687.36,-88.95C681.88,-80.17 675.95,-70.66 670.42,-61.82\"/>\n",
       "<polygon fill=\"black\" stroke=\"black\" points=\"673.33,-59.87 665.07,-53.24 667.4,-63.57 673.33,-59.87\"/>\n",
       "</g>\n",
       "<!-- 13 -->\n",
       "<g id=\"node14\" class=\"node\">\n",
       "<title>13</title>\n",
       "<polygon fill=\"#e58139\" stroke=\"black\" points=\"846,-53 724,-53 724,0 846,0 846,-53\"/>\n",
       "<text text-anchor=\"middle\" x=\"785\" y=\"-37.8\" font-family=\"Times,serif\" font-size=\"14.00\">samples = 17</text>\n",
       "<text text-anchor=\"middle\" x=\"785\" y=\"-22.8\" font-family=\"Times,serif\" font-size=\"14.00\">value = [17, 0]</text>\n",
       "<text text-anchor=\"middle\" x=\"785\" y=\"-7.8\" font-family=\"Times,serif\" font-size=\"14.00\">class = 악성</text>\n",
       "</g>\n",
       "<!-- 11&#45;&gt;13 -->\n",
       "<g id=\"edge13\" class=\"edge\">\n",
       "<title>11&#45;&gt;13</title>\n",
       "<path fill=\"none\" stroke=\"black\" d=\"M734.93,-88.95C742.24,-79.98 750.15,-70.27 757.49,-61.26\"/>\n",
       "<polygon fill=\"black\" stroke=\"black\" points=\"760.43,-63.2 764.03,-53.24 755,-58.78 760.43,-63.2\"/>\n",
       "</g>\n",
       "<!-- 15 -->\n",
       "<g id=\"node16\" class=\"node\">\n",
       "<title>15</title>\n",
       "<polygon fill=\"#399de5\" stroke=\"black\" points=\"801.5,-253.5 688.5,-253.5 688.5,-200.5 801.5,-200.5 801.5,-253.5\"/>\n",
       "<text text-anchor=\"middle\" x=\"745\" y=\"-238.3\" font-family=\"Times,serif\" font-size=\"14.00\">samples = 5</text>\n",
       "<text text-anchor=\"middle\" x=\"745\" y=\"-223.3\" font-family=\"Times,serif\" font-size=\"14.00\">value = [0, 5]</text>\n",
       "<text text-anchor=\"middle\" x=\"745\" y=\"-208.3\" font-family=\"Times,serif\" font-size=\"14.00\">class = 양성</text>\n",
       "</g>\n",
       "<!-- 14&#45;&gt;15 -->\n",
       "<g id=\"edge15\" class=\"edge\">\n",
       "<title>14&#45;&gt;15</title>\n",
       "<path fill=\"none\" stroke=\"black\" d=\"M745,-296.88C745,-286.33 745,-274.6 745,-263.85\"/>\n",
       "<polygon fill=\"black\" stroke=\"black\" points=\"748.5,-263.52 745,-253.52 741.5,-263.52 748.5,-263.52\"/>\n",
       "</g>\n",
       "<!-- 16 -->\n",
       "<g id=\"node17\" class=\"node\">\n",
       "<title>16</title>\n",
       "<polygon fill=\"#e6843d\" stroke=\"black\" points=\"1029.5,-261 826.5,-261 826.5,-193 1029.5,-193 1029.5,-261\"/>\n",
       "<text text-anchor=\"middle\" x=\"928\" y=\"-245.8\" font-family=\"Times,serif\" font-size=\"14.00\">worst concavity &lt;= 0.191</text>\n",
       "<text text-anchor=\"middle\" x=\"928\" y=\"-230.8\" font-family=\"Times,serif\" font-size=\"14.00\">samples = 137</text>\n",
       "<text text-anchor=\"middle\" x=\"928\" y=\"-215.8\" font-family=\"Times,serif\" font-size=\"14.00\">value = [134, 3]</text>\n",
       "<text text-anchor=\"middle\" x=\"928\" y=\"-200.8\" font-family=\"Times,serif\" font-size=\"14.00\">class = 악성</text>\n",
       "</g>\n",
       "<!-- 14&#45;&gt;16 -->\n",
       "<g id=\"edge16\" class=\"edge\">\n",
       "<title>14&#45;&gt;16</title>\n",
       "<path fill=\"none\" stroke=\"black\" d=\"M804.41,-296.88C822.08,-287.04 841.58,-276.17 859.76,-266.03\"/>\n",
       "<polygon fill=\"black\" stroke=\"black\" points=\"861.54,-269.05 868.57,-261.12 858.13,-262.94 861.54,-269.05\"/>\n",
       "</g>\n",
       "<!-- 17 -->\n",
       "<g id=\"node18\" class=\"node\">\n",
       "<title>17</title>\n",
       "<polygon fill=\"#bddef6\" stroke=\"black\" points=\"1026.5,-157 829.5,-157 829.5,-89 1026.5,-89 1026.5,-157\"/>\n",
       "<text text-anchor=\"middle\" x=\"928\" y=\"-141.8\" font-family=\"Times,serif\" font-size=\"14.00\">worst texture &lt;= 30.975</text>\n",
       "<text text-anchor=\"middle\" x=\"928\" y=\"-126.8\" font-family=\"Times,serif\" font-size=\"14.00\">samples = 5</text>\n",
       "<text text-anchor=\"middle\" x=\"928\" y=\"-111.8\" font-family=\"Times,serif\" font-size=\"14.00\">value = [2, 3]</text>\n",
       "<text text-anchor=\"middle\" x=\"928\" y=\"-96.8\" font-family=\"Times,serif\" font-size=\"14.00\">class = 양성</text>\n",
       "</g>\n",
       "<!-- 16&#45;&gt;17 -->\n",
       "<g id=\"edge17\" class=\"edge\">\n",
       "<title>16&#45;&gt;17</title>\n",
       "<path fill=\"none\" stroke=\"black\" d=\"M928,-192.88C928,-184.78 928,-175.98 928,-167.47\"/>\n",
       "<polygon fill=\"black\" stroke=\"black\" points=\"931.5,-167.3 928,-157.3 924.5,-167.3 931.5,-167.3\"/>\n",
       "</g>\n",
       "<!-- 20 -->\n",
       "<g id=\"node21\" class=\"node\">\n",
       "<title>20</title>\n",
       "<polygon fill=\"#e58139\" stroke=\"black\" points=\"1175.5,-149.5 1044.5,-149.5 1044.5,-96.5 1175.5,-96.5 1175.5,-149.5\"/>\n",
       "<text text-anchor=\"middle\" x=\"1110\" y=\"-134.3\" font-family=\"Times,serif\" font-size=\"14.00\">samples = 132</text>\n",
       "<text text-anchor=\"middle\" x=\"1110\" y=\"-119.3\" font-family=\"Times,serif\" font-size=\"14.00\">value = [132, 0]</text>\n",
       "<text text-anchor=\"middle\" x=\"1110\" y=\"-104.3\" font-family=\"Times,serif\" font-size=\"14.00\">class = 악성</text>\n",
       "</g>\n",
       "<!-- 16&#45;&gt;20 -->\n",
       "<g id=\"edge20\" class=\"edge\">\n",
       "<title>16&#45;&gt;20</title>\n",
       "<path fill=\"none\" stroke=\"black\" d=\"M987.09,-192.88C1009.17,-180.51 1034.11,-166.53 1055.73,-154.41\"/>\n",
       "<polygon fill=\"black\" stroke=\"black\" points=\"1057.45,-157.46 1064.46,-149.52 1054.03,-151.36 1057.45,-157.46\"/>\n",
       "</g>\n",
       "<!-- 18 -->\n",
       "<g id=\"node19\" class=\"node\">\n",
       "<title>18</title>\n",
       "<polygon fill=\"#399de5\" stroke=\"black\" points=\"980.5,-53 867.5,-53 867.5,0 980.5,0 980.5,-53\"/>\n",
       "<text text-anchor=\"middle\" x=\"924\" y=\"-37.8\" font-family=\"Times,serif\" font-size=\"14.00\">samples = 3</text>\n",
       "<text text-anchor=\"middle\" x=\"924\" y=\"-22.8\" font-family=\"Times,serif\" font-size=\"14.00\">value = [0, 3]</text>\n",
       "<text text-anchor=\"middle\" x=\"924\" y=\"-7.8\" font-family=\"Times,serif\" font-size=\"14.00\">class = 양성</text>\n",
       "</g>\n",
       "<!-- 17&#45;&gt;18 -->\n",
       "<g id=\"edge18\" class=\"edge\">\n",
       "<title>17&#45;&gt;18</title>\n",
       "<path fill=\"none\" stroke=\"black\" d=\"M926.6,-88.95C926.25,-80.72 925.88,-71.85 925.52,-63.48\"/>\n",
       "<polygon fill=\"black\" stroke=\"black\" points=\"929.01,-63.08 925.09,-53.24 922.02,-63.38 929.01,-63.08\"/>\n",
       "</g>\n",
       "<!-- 19 -->\n",
       "<g id=\"node20\" class=\"node\">\n",
       "<title>19</title>\n",
       "<polygon fill=\"#e58139\" stroke=\"black\" points=\"1111.5,-53 998.5,-53 998.5,0 1111.5,0 1111.5,-53\"/>\n",
       "<text text-anchor=\"middle\" x=\"1055\" y=\"-37.8\" font-family=\"Times,serif\" font-size=\"14.00\">samples = 2</text>\n",
       "<text text-anchor=\"middle\" x=\"1055\" y=\"-22.8\" font-family=\"Times,serif\" font-size=\"14.00\">value = [2, 0]</text>\n",
       "<text text-anchor=\"middle\" x=\"1055\" y=\"-7.8\" font-family=\"Times,serif\" font-size=\"14.00\">class = 악성</text>\n",
       "</g>\n",
       "<!-- 17&#45;&gt;19 -->\n",
       "<g id=\"edge19\" class=\"edge\">\n",
       "<title>17&#45;&gt;19</title>\n",
       "<path fill=\"none\" stroke=\"black\" d=\"M972.42,-88.95C985.33,-79.34 999.4,-68.87 1012.2,-59.34\"/>\n",
       "<polygon fill=\"black\" stroke=\"black\" points=\"1014.48,-62.01 1020.41,-53.24 1010.3,-56.4 1014.48,-62.01\"/>\n",
       "</g>\n",
       "</g>\n",
       "</svg>\n"
      ],
      "text/plain": [
       "<graphviz.sources.Source at 0x7f1b2b826450>"
      ]
     },
     "metadata": {},
     "output_type": "display_data"
    }
   ],
   "source": [
    "with open(\"tree.dot\") as f:\n",
    "    dot_graph = f.read()\n",
    "    \n",
    "display(graphviz.Source(dot_graph))"
   ]
  },
  {
   "cell_type": "markdown",
   "id": "dc1e5653",
   "metadata": {},
   "source": [
    "# 특성 중요도\n",
    "- 총합은 1\n",
    "- 중요도가 0이라고 해서 특성이 유용하지 않다는 뜻은 아님. 단지 모델이 특성을 선택하지 않았을뿐이고, 다른 특성이 동일한 정보를 지니고 있어서일 수 있음\n",
    "- 중요도는 항상 양수\n",
    "- 특성이 어떤 클래스를 지지하는지는 알 수 없음 ex) worst_radius가 중요하다가 알려주지만 양성인지 악성인지 알 수 없음"
   ]
  },
  {
   "cell_type": "code",
   "execution_count": 32,
   "id": "026e78c8",
   "metadata": {},
   "outputs": [
    {
     "data": {
      "text/plain": [
       "array([0.        , 0.        , 0.        , 0.        , 0.        ,\n",
       "       0.        , 0.        , 0.        , 0.        , 0.        ,\n",
       "       0.01019737, 0.04839825, 0.        , 0.        , 0.0024156 ,\n",
       "       0.        , 0.        , 0.        , 0.        , 0.        ,\n",
       "       0.72682851, 0.0458159 , 0.        , 0.        , 0.0141577 ,\n",
       "       0.        , 0.018188  , 0.1221132 , 0.01188548, 0.        ])"
      ]
     },
     "execution_count": 32,
     "metadata": {},
     "output_type": "execute_result"
    }
   ],
   "source": [
    "tree.feature_importances_"
   ]
  },
  {
   "cell_type": "code",
   "execution_count": 39,
   "id": "584bc9fb",
   "metadata": {},
   "outputs": [
    {
     "data": {
      "image/png": "[encoded data removed]",
      "text/plain": [
       "<Figure size 432x288 with 1 Axes>"
      ]
     },
     "metadata": {
      "needs_background": "light"
     },
     "output_type": "display_data"
    }
   ],
   "source": [
    "import matplotlib.pyplot as plt\n",
    "import numpy as np\n",
    "\n",
    "def plot_feature_importances_cancer(model):\n",
    "    n_features = cancer.data.shape[1]\n",
    "    plt.barh(np.arange(n_features), model.feature_importances_, align='center')\n",
    "    plt.yticks(np.arange(n_features), cancer.feature_names)\n",
    "    plt.xlabel('feature importance')\n",
    "    plt.ylabel(\"feature\")\n",
    "    plt.ylim(-1, n_features)\n",
    "    \n",
    "plot_feature_importances_cancer(tree)"
   ]
  },
  {
   "cell_type": "markdown",
   "id": "1c8e9c02",
   "metadata": {},
   "source": [
    "---"
   ]
  },
  {
   "cell_type": "markdown",
   "id": "7a7a374a",
   "metadata": {},
   "source": [
    "\"X[1] 값이 높으면 클래스 0이고 값이 낮으면 1\"이라고 없는 예\n",
    "-> X[1]에 의해 단순히 비례 또는 반비례하지 않기 때문"
   ]
  },
  {
   "cell_type": "code",
   "execution_count": 41,
   "id": "9288ecb2",
   "metadata": {},
   "outputs": [
    {
     "name": "stdout",
     "output_type": "stream",
     "text": [
      "Feature importances: [0. 1.]\n"
     ]
    },
    {
     "data": {
      "image/svg+xml": [
       "<?xml version=\"1.0\" encoding=\"UTF-8\" standalone=\"no\"?>\n",
       "<!DOCTYPE svg PUBLIC \"-//W3C//DTD SVG 1.1//EN\"\n",
       " \"http://www.w3.org/Graphics/SVG/1.1/DTD/svg11.dtd\">\n",
       "<!-- Generated by graphviz version 2.43.0 (0)\n",
       " -->\n",
       "<!-- Title: Tree Pages: 1 -->\n",
       "<svg width=\"345pt\" height=\"224pt\"\n",
       " viewBox=\"0.00 0.00 345.00 224.00\" xmlns=\"http://www.w3.org/2000/svg\" xmlns:xlink=\"http://www.w3.org/1999/xlink\">\n",
       "<g id=\"graph0\" class=\"graph\" transform=\"scale(1 1) rotate(0) translate(4 220)\">\n",
       "<title>Tree</title>\n",
       "<polygon fill=\"white\" stroke=\"transparent\" points=\"-4,4 -4,-220 341,-220 341,4 -4,4\"/>\n",
       "<!-- 0 -->\n",
       "<g id=\"node1\" class=\"node\">\n",
       "<title>0</title>\n",
       "<polygon fill=\"#ffffff\" stroke=\"black\" points=\"198.5,-216 67.5,-216 67.5,-163 198.5,-163 198.5,-216\"/>\n",
       "<text text-anchor=\"middle\" x=\"133\" y=\"-200.8\" font-family=\"Times,serif\" font-size=\"14.00\">X[1] &lt;= &#45;5.814</text>\n",
       "<text text-anchor=\"middle\" x=\"133\" y=\"-185.8\" font-family=\"Times,serif\" font-size=\"14.00\">samples = 100</text>\n",
       "<text text-anchor=\"middle\" x=\"133\" y=\"-170.8\" font-family=\"Times,serif\" font-size=\"14.00\">value = [50, 50]</text>\n",
       "</g>\n",
       "<!-- 1 -->\n",
       "<g id=\"node2\" class=\"node\">\n",
       "<title>1</title>\n",
       "<polygon fill=\"#e58139\" stroke=\"black\" points=\"122,-119.5 0,-119.5 0,-81.5 122,-81.5 122,-119.5\"/>\n",
       "<text text-anchor=\"middle\" x=\"61\" y=\"-104.3\" font-family=\"Times,serif\" font-size=\"14.00\">samples = 25</text>\n",
       "<text text-anchor=\"middle\" x=\"61\" y=\"-89.3\" font-family=\"Times,serif\" font-size=\"14.00\">value = [25, 0]</text>\n",
       "</g>\n",
       "<!-- 0&#45;&gt;1 -->\n",
       "<g id=\"edge1\" class=\"edge\">\n",
       "<title>0&#45;&gt;1</title>\n",
       "<path fill=\"none\" stroke=\"black\" d=\"M111.79,-162.87C102.51,-151.66 91.64,-138.53 82.35,-127.29\"/>\n",
       "<polygon fill=\"black\" stroke=\"black\" points=\"84.97,-124.98 75.9,-119.51 79.58,-129.44 84.97,-124.98\"/>\n",
       "<text text-anchor=\"middle\" x=\"73.55\" y=\"-140.7\" font-family=\"Times,serif\" font-size=\"14.00\">True</text>\n",
       "</g>\n",
       "<!-- 2 -->\n",
       "<g id=\"node3\" class=\"node\">\n",
       "<title>2</title>\n",
       "<polygon fill=\"#9ccef2\" stroke=\"black\" points=\"271.5,-127 140.5,-127 140.5,-74 271.5,-74 271.5,-127\"/>\n",
       "<text text-anchor=\"middle\" x=\"206\" y=\"-111.8\" font-family=\"Times,serif\" font-size=\"14.00\">X[1] &lt;= 5.348</text>\n",
       "<text text-anchor=\"middle\" x=\"206\" y=\"-96.8\" font-family=\"Times,serif\" font-size=\"14.00\">samples = 75</text>\n",
       "<text text-anchor=\"middle\" x=\"206\" y=\"-81.8\" font-family=\"Times,serif\" font-size=\"14.00\">value = [25, 50]</text>\n",
       "</g>\n",
       "<!-- 0&#45;&gt;2 -->\n",
       "<g id=\"edge2\" class=\"edge\">\n",
       "<title>0&#45;&gt;2</title>\n",
       "<path fill=\"none\" stroke=\"black\" d=\"M154.51,-162.87C161.79,-154.18 170.05,-144.35 177.77,-135.14\"/>\n",
       "<polygon fill=\"black\" stroke=\"black\" points=\"180.65,-137.16 184.39,-127.25 175.28,-132.66 180.65,-137.16\"/>\n",
       "<text text-anchor=\"middle\" x=\"186.57\" y=\"-148.45\" font-family=\"Times,serif\" font-size=\"14.00\">False</text>\n",
       "</g>\n",
       "<!-- 3 -->\n",
       "<g id=\"node4\" class=\"node\">\n",
       "<title>3</title>\n",
       "<polygon fill=\"#399de5\" stroke=\"black\" points=\"197,-38 75,-38 75,0 197,0 197,-38\"/>\n",
       "<text text-anchor=\"middle\" x=\"136\" y=\"-22.8\" font-family=\"Times,serif\" font-size=\"14.00\">samples = 50</text>\n",
       "<text text-anchor=\"middle\" x=\"136\" y=\"-7.8\" font-family=\"Times,serif\" font-size=\"14.00\">value = [0, 50]</text>\n",
       "</g>\n",
       "<!-- 2&#45;&gt;3 -->\n",
       "<g id=\"edge3\" class=\"edge\">\n",
       "<title>2&#45;&gt;3</title>\n",
       "<path fill=\"none\" stroke=\"black\" d=\"M183.47,-73.91C175.55,-64.92 166.66,-54.82 158.73,-45.82\"/>\n",
       "<polygon fill=\"black\" stroke=\"black\" points=\"161.29,-43.43 152.06,-38.24 156.04,-48.06 161.29,-43.43\"/>\n",
       "</g>\n",
       "<!-- 4 -->\n",
       "<g id=\"node5\" class=\"node\">\n",
       "<title>4</title>\n",
       "<polygon fill=\"#e58139\" stroke=\"black\" points=\"337,-38 215,-38 215,0 337,0 337,-38\"/>\n",
       "<text text-anchor=\"middle\" x=\"276\" y=\"-22.8\" font-family=\"Times,serif\" font-size=\"14.00\">samples = 25</text>\n",
       "<text text-anchor=\"middle\" x=\"276\" y=\"-7.8\" font-family=\"Times,serif\" font-size=\"14.00\">value = [25, 0]</text>\n",
       "</g>\n",
       "<!-- 2&#45;&gt;4 -->\n",
       "<g id=\"edge4\" class=\"edge\">\n",
       "<title>2&#45;&gt;4</title>\n",
       "<path fill=\"none\" stroke=\"black\" d=\"M228.53,-73.91C236.45,-64.92 245.34,-54.82 253.27,-45.82\"/>\n",
       "<polygon fill=\"black\" stroke=\"black\" points=\"255.96,-48.06 259.94,-38.24 250.71,-43.43 255.96,-48.06\"/>\n",
       "</g>\n",
       "</g>\n",
       "</svg>\n"
      ],
      "text/plain": [
       "<graphviz.sources.Source at 0x7f1b50a1a790>"
      ]
     },
     "metadata": {},
     "output_type": "display_data"
    },
    {
     "data": {
      "image/png": "[encoded data removed]",
      "text/plain": [
       "<Figure size 432x288 with 1 Axes>"
      ]
     },
     "metadata": {},
     "output_type": "display_data"
    }
   ],
   "source": [
    "tree = mglearn.plots.plot_tree_not_monotone()\n",
    "display(tree)"
   ]
  },
  {
   "cell_type": "markdown",
   "id": "df65effc",
   "metadata": {},
   "source": [
    "---"
   ]
  },
  {
   "cell_type": "markdown",
   "id": "72f5a929",
   "metadata": {},
   "source": [
    "# 결정 트리를 이용한 회귀\n",
    "- 외삽(exrapolation: 훈련 데이터 범위 밖의 데이터)에 대해서 예측을 할 수 없다."
   ]
  },
  {
   "cell_type": "code",
   "execution_count": 44,
   "id": "1ff0bf61",
   "metadata": {},
   "outputs": [],
   "source": [
    "import os\n",
    "import pandas as pd"
   ]
  },
  {
   "cell_type": "code",
   "execution_count": 51,
   "id": "64b6bbc1",
   "metadata": {},
   "outputs": [],
   "source": [
    "ram_prices = pd.read_csv(os.path.join(mglearn.datasets.DATA_PATH, \"ram_price.csv\"), index_col=0)"
   ]
  },
  {
   "cell_type": "code",
   "execution_count": 52,
   "id": "05ef7f21",
   "metadata": {},
   "outputs": [
    {
     "data": {
      "text/html": [
       "<div>\n",
       "<style scoped>\n",
       "    .dataframe tbody tr th:only-of-type {\n",
       "        vertical-align: middle;\n",
       "    }\n",
       "\n",
       "    .dataframe tbody tr th {\n",
       "        vertical-align: top;\n",
       "    }\n",
       "\n",
       "    .dataframe thead th {\n",
       "        text-align: right;\n",
       "    }\n",
       "</style>\n",
       "<table border=\"1\" class=\"dataframe\">\n",
       "  <thead>\n",
       "    <tr style=\"text-align: right;\">\n",
       "      <th></th>\n",
       "      <th>date</th>\n",
       "      <th>price</th>\n",
       "    </tr>\n",
       "  </thead>\n",
       "  <tbody>\n",
       "    <tr>\n",
       "      <th>0</th>\n",
       "      <td>1957.00</td>\n",
       "      <td>4.110418e+08</td>\n",
       "    </tr>\n",
       "    <tr>\n",
       "      <th>1</th>\n",
       "      <td>1959.00</td>\n",
       "      <td>6.794772e+07</td>\n",
       "    </tr>\n",
       "    <tr>\n",
       "      <th>2</th>\n",
       "      <td>1960.00</td>\n",
       "      <td>5.242880e+06</td>\n",
       "    </tr>\n",
       "    <tr>\n",
       "      <th>3</th>\n",
       "      <td>1965.00</td>\n",
       "      <td>2.642412e+06</td>\n",
       "    </tr>\n",
       "    <tr>\n",
       "      <th>4</th>\n",
       "      <td>1970.00</td>\n",
       "      <td>7.340030e+05</td>\n",
       "    </tr>\n",
       "    <tr>\n",
       "      <th>...</th>\n",
       "      <td>...</td>\n",
       "      <td>...</td>\n",
       "    </tr>\n",
       "    <tr>\n",
       "      <th>328</th>\n",
       "      <td>2015.58</td>\n",
       "      <td>4.500000e-03</td>\n",
       "    </tr>\n",
       "    <tr>\n",
       "      <th>329</th>\n",
       "      <td>2015.67</td>\n",
       "      <td>4.300000e-03</td>\n",
       "    </tr>\n",
       "    <tr>\n",
       "      <th>330</th>\n",
       "      <td>2015.75</td>\n",
       "      <td>4.200000e-03</td>\n",
       "    </tr>\n",
       "    <tr>\n",
       "      <th>331</th>\n",
       "      <td>2015.83</td>\n",
       "      <td>3.800000e-03</td>\n",
       "    </tr>\n",
       "    <tr>\n",
       "      <th>332</th>\n",
       "      <td>2015.92</td>\n",
       "      <td>3.700000e-03</td>\n",
       "    </tr>\n",
       "  </tbody>\n",
       "</table>\n",
       "<p>333 rows × 2 columns</p>\n",
       "</div>"
      ],
      "text/plain": [
       "        date         price\n",
       "0    1957.00  4.110418e+08\n",
       "1    1959.00  6.794772e+07\n",
       "2    1960.00  5.242880e+06\n",
       "3    1965.00  2.642412e+06\n",
       "4    1970.00  7.340030e+05\n",
       "..       ...           ...\n",
       "328  2015.58  4.500000e-03\n",
       "329  2015.67  4.300000e-03\n",
       "330  2015.75  4.200000e-03\n",
       "331  2015.83  3.800000e-03\n",
       "332  2015.92  3.700000e-03\n",
       "\n",
       "[333 rows x 2 columns]"
      ]
     },
     "execution_count": 52,
     "metadata": {},
     "output_type": "execute_result"
    }
   ],
   "source": [
    "ram_prices"
   ]
  },
  {
   "cell_type": "code",
   "execution_count": 55,
   "id": "8498b3a4",
   "metadata": {},
   "outputs": [
    {
     "data": {
      "text/plain": [
       "Text(0, 0.5, 'price ($/Mbyte)')"
      ]
     },
     "execution_count": 55,
     "metadata": {},
     "output_type": "execute_result"
    },
    {
     "data": {
      "image/png": "[encoded data removed]",
      "text/plain": [
       "<Figure size 432x288 with 1 Axes>"
      ]
     },
     "metadata": {
      "needs_background": "light"
     },
     "output_type": "display_data"
    }
   ],
   "source": [
    "plt.yticks(fontname=\"Arial\")\n",
    "plt.semilogy(ram_prices.date, ram_prices.price)\n",
    "plt.xlabel('year')\n",
    "plt.ylabel('price ($/Mbyte)')"
   ]
  },
  {
   "cell_type": "code",
   "execution_count": 56,
   "id": "a2e147b0",
   "metadata": {},
   "outputs": [],
   "source": [
    "from sklearn.tree import DecisionTreeRegressor"
   ]
  },
  {
   "cell_type": "code",
   "execution_count": 60,
   "id": "71a81948",
   "metadata": {},
   "outputs": [],
   "source": [
    "data_train = ram_prices[ram_prices.date < 2000]"
   ]
  },
  {
   "cell_type": "code",
   "execution_count": 61,
   "id": "ec837b92",
   "metadata": {},
   "outputs": [],
   "source": [
    "data_test = ram_prices[ram_prices.date >= 2000]"
   ]
  },
  {
   "cell_type": "code",
   "execution_count": 65,
   "id": "8c93731a",
   "metadata": {},
   "outputs": [
    {
     "name": "stderr",
     "output_type": "stream",
     "text": [
      "/home/jmhwang/miniconda3/envs/adp/lib/python3.7/site-packages/ipykernel_launcher.py:1: FutureWarning: Support for multi-dimensional indexing (e.g. `obj[:, None]`) is deprecated and will be removed in a future version.  Convert to a numpy array before indexing instead.\n",
      "  \"\"\"Entry point for launching an IPython kernel.\n"
     ]
    }
   ],
   "source": [
    "X_train = data_train.date[:, np.newaxis]"
   ]
  },
  {
   "cell_type": "code",
   "execution_count": 67,
   "id": "5fb8a119",
   "metadata": {},
   "outputs": [],
   "source": [
    "y_train = np.log(data_train.price)"
   ]
  },
  {
   "cell_type": "code",
   "execution_count": 69,
   "id": "1cf08239",
   "metadata": {},
   "outputs": [],
   "source": [
    "tree = DecisionTreeRegressor().fit(X_train, y_train)"
   ]
  },
  {
   "cell_type": "code",
   "execution_count": 71,
   "id": "c242a4e8",
   "metadata": {},
   "outputs": [],
   "source": [
    "from sklearn.linear_model import LinearRegression"
   ]
  },
  {
   "cell_type": "code",
   "execution_count": 72,
   "id": "8939b3ba",
   "metadata": {},
   "outputs": [],
   "source": [
    "linear_reg = LinearRegression().fit(X_train, y_train)"
   ]
  },
  {
   "cell_type": "code",
   "execution_count": 73,
   "id": "fd77e57b",
   "metadata": {},
   "outputs": [
    {
     "name": "stderr",
     "output_type": "stream",
     "text": [
      "/home/jmhwang/miniconda3/envs/adp/lib/python3.7/site-packages/ipykernel_launcher.py:1: FutureWarning: Support for multi-dimensional indexing (e.g. `obj[:, None]`) is deprecated and will be removed in a future version.  Convert to a numpy array before indexing instead.\n",
      "  \"\"\"Entry point for launching an IPython kernel.\n"
     ]
    }
   ],
   "source": [
    "X_all = ram_prices.date[:, np.newaxis]"
   ]
  },
  {
   "cell_type": "code",
   "execution_count": 74,
   "id": "3415ce1a",
   "metadata": {},
   "outputs": [],
   "source": [
    "pred_tree = tree.predict(X_all)"
   ]
  },
  {
   "cell_type": "code",
   "execution_count": 76,
   "id": "14c949fb",
   "metadata": {},
   "outputs": [],
   "source": [
    "pred_lr = linear_reg.predict(X_all)"
   ]
  },
  {
   "cell_type": "code",
   "execution_count": 77,
   "id": "567ae2fa",
   "metadata": {},
   "outputs": [],
   "source": [
    "price_tree = np.exp(pred_tree)\n",
    "price_lr = np.exp(pred_lr)"
   ]
  },
  {
   "cell_type": "markdown",
   "id": "08a7e597",
   "metadata": {},
   "source": [
    "훈련 데이터에 대해서 - lr, tree 모두 잘 예측\n",
    "테스트 데이터에 대해서 - lr은 잘 예측하지만, tree는 단순히 마지막 포인트를 이용해서 예측함\n",
    "\n",
    "트리 기반의 모델로도 예측을 만들 수 있으나, 이 예제의 목적은\n",
    "1. 트리 모델이 시계열 데이터엔 잘 맞지 않는다와\n",
    "2. 트리가 어떻게 예측을 만드는지 특성을 보여주기 위함"
   ]
  },
  {
   "cell_type": "code",
   "execution_count": 82,
   "id": "10607aed",
   "metadata": {},
   "outputs": [
    {
     "data": {
      "text/plain": [
       "<matplotlib.legend.Legend at 0x7f1b2813dd90>"
      ]
     },
     "execution_count": 82,
     "metadata": {},
     "output_type": "execute_result"
    },
    {
     "data": {
      "image/png": "[encoded data removed]",
      "text/plain": [
       "<Figure size 432x288 with 1 Axes>"
      ]
     },
     "metadata": {
      "needs_background": "light"
     },
     "output_type": "display_data"
    }
   ],
   "source": [
    "plt.semilogy(data_train.date, data_train.price, label=\"train data\")\n",
    "plt.semilogy(data_test.date, data_test.price, label=\"test data\")\n",
    "plt.semilogy(ram_prices.date, price_tree, label=\"predict tree\")\n",
    "plt.semilogy(ram_prices.date, price_lr, label=\"predict lr\")\n",
    "plt.legend()"
   ]
  },
  {
   "cell_type": "markdown",
   "id": "79f00879",
   "metadata": {},
   "source": [
    "장점\n",
    "- 쉽게 시각화 할 수 있어서 비전문가도 이해하기 쉬움 (비교적 작은 트리일떄)\n",
    "- 데이터 스케일에 구애받지 않음\n",
    "\n",
    "단점\n",
    "- 사전 가지치기를 이용해도 과대적합되는 경향이 있어서 일반화 성능이 좋지 않음"
   ]
  },
  {
   "cell_type": "code",
   "execution_count": null,
   "id": "19d94ba0",
   "metadata": {},
   "outputs": [],
   "source": []
  }
 ],
 "metadata": {
  "hide_input": false,
  "kernelspec": {
   "display_name": "Python 3 (ipykernel)",
   "language": "python",
   "name": "python3"
  },
  "language_info": {
   "codemirror_mode": {
    "name": "ipython",
    "version": 3
   },
   "file_extension": ".py",
   "mimetype": "text/x-python",
   "name": "python",
   "nbconvert_exporter": "python",
   "pygments_lexer": "ipython3",
   "version": "3.7.11"
  }
 },
 "nbformat": 4,
 "nbformat_minor": 5
}
