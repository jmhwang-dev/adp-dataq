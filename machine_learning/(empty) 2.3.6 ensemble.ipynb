{
 "cells": [
  {
   "cell_type": "markdown",
   "id": "cb98d157",
   "metadata": {},
   "source": [
    "앙상블: 여러 머신러닝 모델을 연결하여 강력한 모델을 만드는 기법\n",
    "1. 랜덤포레스트\n",
    "2. 그래디언트 부스팅"
   ]
  },
  {
   "cell_type": "markdown",
   "id": "acc9d98e",
   "metadata": {},
   "source": [
    "# 1. 랜덤포레스트"
   ]
  },
  {
   "cell_type": "code",
   "execution_count": null,
   "id": "3a575705",
   "metadata": {},
   "outputs": [],
   "source": []
  },
  {
   "cell_type": "code",
   "execution_count": null,
   "id": "74277ea1",
   "metadata": {},
   "outputs": [],
   "source": []
  }
 ],
 "metadata": {
  "hide_input": false,
  "kernelspec": {
   "display_name": "Python 3 (ipykernel)",
   "language": "python",
   "name": "python3"
  },
  "language_info": {
   "codemirror_mode": {
    "name": "ipython",
    "version": 3
   },
   "file_extension": ".py",
   "mimetype": "text/x-python",
   "name": "python",
   "nbconvert_exporter": "python",
   "pygments_lexer": "ipython3",
   "version": "3.7.11"
  }
 },
 "nbformat": 4,
 "nbformat_minor": 5
}
